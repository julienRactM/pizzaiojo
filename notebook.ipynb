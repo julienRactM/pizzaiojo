{
 "cells": [
  {
   "cell_type": "code",
   "execution_count": 322,
   "metadata": {},
   "outputs": [],
   "source": [
    "import pandas as pd\n",
    "import numpy as np\n",
    "import seaborn as sns\n",
    "import matplotlib as mlp\n",
    "#verify mlp"
   ]
  },
  {
   "cell_type": "code",
   "execution_count": 323,
   "metadata": {},
   "outputs": [],
   "source": [
    "df = pd.read_excel('sales.xlsx')"
   ]
  },
  {
   "cell_type": "code",
   "execution_count": 324,
   "metadata": {},
   "outputs": [
    {
     "data": {
      "text/html": [
       "<div>\n",
       "<style scoped>\n",
       "    .dataframe tbody tr th:only-of-type {\n",
       "        vertical-align: middle;\n",
       "    }\n",
       "\n",
       "    .dataframe tbody tr th {\n",
       "        vertical-align: top;\n",
       "    }\n",
       "\n",
       "    .dataframe thead th {\n",
       "        text-align: right;\n",
       "    }\n",
       "</style>\n",
       "<table border=\"1\" class=\"dataframe\">\n",
       "  <thead>\n",
       "    <tr style=\"text-align: right;\">\n",
       "      <th></th>\n",
       "      <th>order_details_id</th>\n",
       "      <th>order_id</th>\n",
       "      <th>pizza_id</th>\n",
       "      <th>quantity</th>\n",
       "      <th>order_date</th>\n",
       "      <th>order_time</th>\n",
       "      <th>unit_price</th>\n",
       "      <th>total_price</th>\n",
       "      <th>pizza_size</th>\n",
       "      <th>pizza_category</th>\n",
       "      <th>pizza_ingredients</th>\n",
       "      <th>pizza_name</th>\n",
       "    </tr>\n",
       "  </thead>\n",
       "  <tbody>\n",
       "    <tr>\n",
       "      <th>0</th>\n",
       "      <td>1</td>\n",
       "      <td>1</td>\n",
       "      <td>hawaiian_m</td>\n",
       "      <td>1</td>\n",
       "      <td>2015-01-01</td>\n",
       "      <td>11:38:36</td>\n",
       "      <td>13.25</td>\n",
       "      <td>13.25</td>\n",
       "      <td>M</td>\n",
       "      <td>Classic</td>\n",
       "      <td>Sliced Ham, Pineapple, Mozzarella Cheese</td>\n",
       "      <td>The Hawaiian Pizza</td>\n",
       "    </tr>\n",
       "    <tr>\n",
       "      <th>1</th>\n",
       "      <td>2</td>\n",
       "      <td>2</td>\n",
       "      <td>classic_dlx_m</td>\n",
       "      <td>1</td>\n",
       "      <td>2015-01-01</td>\n",
       "      <td>11:57:40</td>\n",
       "      <td>16.00</td>\n",
       "      <td>16.00</td>\n",
       "      <td>M</td>\n",
       "      <td>Classic</td>\n",
       "      <td>Pepperoni, Mushrooms, Red Onions, Red Peppers,...</td>\n",
       "      <td>The Classic Deluxe Pizza</td>\n",
       "    </tr>\n",
       "    <tr>\n",
       "      <th>2</th>\n",
       "      <td>3</td>\n",
       "      <td>2</td>\n",
       "      <td>five_cheese_l</td>\n",
       "      <td>1</td>\n",
       "      <td>2015-01-01</td>\n",
       "      <td>11:57:40</td>\n",
       "      <td>18.50</td>\n",
       "      <td>18.50</td>\n",
       "      <td>L</td>\n",
       "      <td>Veggie</td>\n",
       "      <td>Mozzarella Cheese, Provolone Cheese, Smoked Go...</td>\n",
       "      <td>The Five Cheese Pizza</td>\n",
       "    </tr>\n",
       "  </tbody>\n",
       "</table>\n",
       "</div>"
      ],
      "text/plain": [
       "   order_details_id  order_id       pizza_id  quantity order_date order_time  \\\n",
       "0                 1         1     hawaiian_m         1 2015-01-01   11:38:36   \n",
       "1                 2         2  classic_dlx_m         1 2015-01-01   11:57:40   \n",
       "2                 3         2  five_cheese_l         1 2015-01-01   11:57:40   \n",
       "\n",
       "   unit_price  total_price pizza_size pizza_category  \\\n",
       "0       13.25        13.25          M        Classic   \n",
       "1       16.00        16.00          M        Classic   \n",
       "2       18.50        18.50          L         Veggie   \n",
       "\n",
       "                                   pizza_ingredients                pizza_name  \n",
       "0           Sliced Ham, Pineapple, Mozzarella Cheese        The Hawaiian Pizza  \n",
       "1  Pepperoni, Mushrooms, Red Onions, Red Peppers,...  The Classic Deluxe Pizza  \n",
       "2  Mozzarella Cheese, Provolone Cheese, Smoked Go...     The Five Cheese Pizza  "
      ]
     },
     "execution_count": 324,
     "metadata": {},
     "output_type": "execute_result"
    }
   ],
   "source": [
    "df.head(3)"
   ]
  },
  {
   "cell_type": "code",
   "execution_count": 325,
   "metadata": {},
   "outputs": [
    {
     "data": {
      "text/plain": [
       "(48620, 12)"
      ]
     },
     "execution_count": 325,
     "metadata": {},
     "output_type": "execute_result"
    }
   ],
   "source": [
    "df.shape"
   ]
  },
  {
   "cell_type": "code",
   "execution_count": 326,
   "metadata": {},
   "outputs": [
    {
     "data": {
      "text/plain": [
       "Index(['order_details_id', 'order_id', 'pizza_id', 'quantity', 'order_date',\n",
       "       'order_time', 'unit_price', 'total_price', 'pizza_size',\n",
       "       'pizza_category', 'pizza_ingredients', 'pizza_name'],\n",
       "      dtype='object')"
      ]
     },
     "execution_count": 326,
     "metadata": {},
     "output_type": "execute_result"
    }
   ],
   "source": [
    "df.columns"
   ]
  },
  {
   "cell_type": "code",
   "execution_count": 327,
   "metadata": {},
   "outputs": [
    {
     "data": {
      "text/plain": [
       "order_details_id              int64\n",
       "order_id                      int64\n",
       "pizza_id                     object\n",
       "quantity                      int64\n",
       "order_date           datetime64[ns]\n",
       "order_time                   object\n",
       "unit_price                  float64\n",
       "total_price                 float64\n",
       "pizza_size                   object\n",
       "pizza_category               object\n",
       "pizza_ingredients            object\n",
       "pizza_name                   object\n",
       "dtype: object"
      ]
     },
     "execution_count": 327,
     "metadata": {},
     "output_type": "execute_result"
    }
   ],
   "source": [
    "df.dtypes"
   ]
  },
  {
   "cell_type": "markdown",
   "metadata": {},
   "source": [
    "# Questions"
   ]
  },
  {
   "cell_type": "markdown",
   "metadata": {},
   "source": [
    "## 2. Informations de base :"
   ]
  },
  {
   "cell_type": "markdown",
   "metadata": {},
   "source": [
    "a. Combien de pizzas uniques (pizza_id distincts) y a-t-il dans le jeu de\n",
    "données ?"
   ]
  },
  {
   "cell_type": "code",
   "execution_count": 328,
   "metadata": {},
   "outputs": [
    {
     "data": {
      "text/plain": [
       "91"
      ]
     },
     "execution_count": 328,
     "metadata": {},
     "output_type": "execute_result"
    }
   ],
   "source": [
    "\n",
    "df.pizza_id.value_counts().count()"
   ]
  },
  {
   "cell_type": "markdown",
   "metadata": {},
   "source": [
    "b.  Combien de commandes uniques (order_id distincts) figurent dans le jeu\n",
    "de données ?"
   ]
  },
  {
   "cell_type": "code",
   "execution_count": 329,
   "metadata": {},
   "outputs": [
    {
     "data": {
      "text/plain": [
       "21350"
      ]
     },
     "execution_count": 329,
     "metadata": {},
     "output_type": "execute_result"
    }
   ],
   "source": [
    "df.order_id.value_counts().count()"
   ]
  },
  {
   "cell_type": "markdown",
   "metadata": {},
   "source": [
    "## 3. Analyse temporelle :"
   ]
  },
  {
   "cell_type": "markdown",
   "metadata": {},
   "source": [
    "a. Quelle est la plage de dates dans le jeu de données ?"
   ]
  },
  {
   "cell_type": "code",
   "execution_count": 330,
   "metadata": {},
   "outputs": [
    {
     "name": "stdout",
     "output_type": "stream",
     "text": [
      "plage de dates : 2015-01-01 00:00:00 to 2015-12-31 00:00:00\n"
     ]
    }
   ],
   "source": [
    "print(f\"plage de dates : {df['order_date'].min()} to {df['order_date'].max()}\")"
   ]
  },
  {
   "cell_type": "markdown",
   "metadata": {},
   "source": [
    "b. Combien de commandes ont été passées chaque jour ?"
   ]
  },
  {
   "cell_type": "code",
   "execution_count": 331,
   "metadata": {},
   "outputs": [
    {
     "data": {
      "text/plain": [
       "order_date\n",
       "2015-01-01    161\n",
       "2015-01-02    160\n",
       "2015-01-03    154\n",
       "2015-01-04    106\n",
       "2015-01-05    121\n",
       "             ... \n",
       "2015-12-27     87\n",
       "2015-12-28    102\n",
       "2015-12-29     77\n",
       "2015-12-30     73\n",
       "2015-12-31    171\n",
       "Name: order_id, Length: 358, dtype: int64"
      ]
     },
     "execution_count": 331,
     "metadata": {},
     "output_type": "execute_result"
    }
   ],
   "source": [
    "df.groupby('order_date')['order_id'].count()"
   ]
  },
  {
   "cell_type": "markdown",
   "metadata": {},
   "source": [
    "c. Quelle est la durée moyenne pour traiter une commande ?"
   ]
  },
  {
   "cell_type": "markdown",
   "metadata": {},
   "source": [
    "C'est une question piège nous n'avons aucun moyen de calculer correctement cette valeur, il faudrait que le Dataframe contienne une colonne order_processed ou autre pour pouvoir faire ce calcul.\n",
    "\n",
    "Une très mauvaise solution serait de calculer la différence de temps passée entre chaque commandes triées par order_id (1 et 2 par ex) pour essayer de trouver cette valeur. Cela ne serait pas très pertinent car les résultats ne seront pas nécessairement représentatif du temps que Jo va prendre pour traiter une commande, et si il prend une pause, qu'il n'a pas de clients pendant un moment ou ferme la pizzaria après une commande, le calcul va considérer cela comme du temps de préparation de la commande et fausser les résultats"
   ]
  },
  {
   "cell_type": "markdown",
   "metadata": {},
   "source": [
    "## 4. Analyse de la quantité :"
   ]
  },
  {
   "cell_type": "markdown",
   "metadata": {},
   "source": [
    "a. Quelle est la quantité moyenne de pizzas commandées ?"
   ]
  },
  {
   "cell_type": "code",
   "execution_count": 332,
   "metadata": {},
   "outputs": [
    {
     "data": {
      "text/plain": [
       "2.321967213114754"
      ]
     },
     "execution_count": 332,
     "metadata": {},
     "output_type": "execute_result"
    }
   ],
   "source": [
    "df.groupby('order_id')['quantity'].sum().mean()"
   ]
  },
  {
   "cell_type": "markdown",
   "metadata": {},
   "source": [
    "Values Check"
   ]
  },
  {
   "cell_type": "code",
   "execution_count": 333,
   "metadata": {},
   "outputs": [],
   "source": [
    "# You can check the results here\n",
    "# df.quantity.value_counts()\n",
    "# df[df.quantity == 4]\n",
    "# df.groupby('order_id')['quantity'].sum()[5264]\n",
    "# df[df.order_id == 5264]"
   ]
  },
  {
   "cell_type": "markdown",
   "metadata": {},
   "source": [
    "b. Quelle est la taille de pizza la plus fréquemment commandée ?"
   ]
  },
  {
   "cell_type": "code",
   "execution_count": 334,
   "metadata": {},
   "outputs": [
    {
     "data": {
      "text/plain": [
       "pizza_size\n",
       "L      18526\n",
       "M      15385\n",
       "S      14137\n",
       "XL       544\n",
       "XXL       28\n",
       "Name: count, dtype: int64"
      ]
     },
     "execution_count": 334,
     "metadata": {},
     "output_type": "execute_result"
    }
   ],
   "source": [
    "df.pizza_size.value_counts()"
   ]
  },
  {
   "cell_type": "code",
   "execution_count": 335,
   "metadata": {},
   "outputs": [
    {
     "data": {
      "text/plain": [
       "'L'"
      ]
     },
     "execution_count": 335,
     "metadata": {},
     "output_type": "execute_result"
    }
   ],
   "source": [
    "df.pizza_size.value_counts().index[0]"
   ]
  },
  {
   "cell_type": "markdown",
   "metadata": {},
   "source": [
    "c. Quelle est la catégorie de pizza la plus fréquemment commandée ?"
   ]
  },
  {
   "cell_type": "code",
   "execution_count": 336,
   "metadata": {},
   "outputs": [
    {
     "data": {
      "text/plain": [
       "pizza_category\n",
       "Classic    14579\n",
       "Supreme    11777\n",
       "Veggie     11449\n",
       "Chicken    10815\n",
       "Name: count, dtype: int64"
      ]
     },
     "execution_count": 336,
     "metadata": {},
     "output_type": "execute_result"
    }
   ],
   "source": [
    "df.pizza_category.value_counts()"
   ]
  },
  {
   "cell_type": "code",
   "execution_count": 337,
   "metadata": {},
   "outputs": [
    {
     "data": {
      "text/plain": [
       "'Classic'"
      ]
     },
     "execution_count": 337,
     "metadata": {},
     "output_type": "execute_result"
    }
   ],
   "source": [
    "df.pizza_category.value_counts().index[0]"
   ]
  },
  {
   "cell_type": "markdown",
   "metadata": {},
   "source": [
    "## 5. Analyse des prix :"
   ]
  },
  {
   "cell_type": "markdown",
   "metadata": {},
   "source": [
    "a. Quel est le prix unitaire moyen des pizzas ?"
   ]
  },
  {
   "cell_type": "code",
   "execution_count": 338,
   "metadata": {},
   "outputs": [
    {
     "data": {
      "text/plain": [
       "16.494132044426163"
      ]
     },
     "execution_count": 338,
     "metadata": {},
     "output_type": "execute_result"
    }
   ],
   "source": [
    "df.unit_price.mean()"
   ]
  },
  {
   "cell_type": "markdown",
   "metadata": {},
   "source": [
    "b. Quel est le prix total moyen d'une commande ?"
   ]
  },
  {
   "cell_type": "code",
   "execution_count": 339,
   "metadata": {},
   "outputs": [
    {
     "data": {
      "text/plain": [
       "37.56181264637002"
      ]
     },
     "execution_count": 339,
     "metadata": {},
     "output_type": "execute_result"
    }
   ],
   "source": [
    "df.groupby('order_id')['unit_price'].sum().mean()"
   ]
  },
  {
   "cell_type": "markdown",
   "metadata": {},
   "source": [
    "c. Quelle pizza a le prix unitaire le plus élevé ?"
   ]
  },
  {
   "cell_type": "code",
   "execution_count": 340,
   "metadata": {},
   "outputs": [
    {
     "data": {
      "text/plain": [
       "1"
      ]
     },
     "execution_count": 340,
     "metadata": {},
     "output_type": "execute_result"
    }
   ],
   "source": [
    "# Je vérifies d'abord qu'il y a bien une seule pizza qui à le prix le plus élevé\n",
    "df[df.unit_price == df.unit_price.max()]['pizza_name'].value_counts().count()\n",
    "\n",
    "# ceci donne le bon nom de pizza mais on peut faire un peu mieux (case en dessous)\n",
    "# df[df.unit_price == df.unit_price.max()]['pizza_name'].value_counts()[0]"
   ]
  },
  {
   "cell_type": "code",
   "execution_count": 341,
   "metadata": {},
   "outputs": [
    {
     "data": {
      "text/plain": [
       "'The Greek Pizza'"
      ]
     },
     "execution_count": 341,
     "metadata": {},
     "output_type": "execute_result"
    }
   ],
   "source": [
    "# plus fluide :\n",
    "df[df.unit_price == df.unit_price.max()].iloc[0]['pizza_name']"
   ]
  },
  {
   "cell_type": "markdown",
   "metadata": {},
   "source": [
    "## 6. Répartition par taille et catégorie :"
   ]
  },
  {
   "cell_type": "markdown",
   "metadata": {},
   "source": [
    "a. Combien de pizzas de chaque taille ont été vendues ?"
   ]
  },
  {
   "cell_type": "code",
   "execution_count": 342,
   "metadata": {},
   "outputs": [
    {
     "data": {
      "text/plain": [
       "pizza_size\n",
       "L      18956\n",
       "M      15635\n",
       "S      14403\n",
       "XL       552\n",
       "XXL       28\n",
       "Name: quantity, dtype: int64"
      ]
     },
     "execution_count": 342,
     "metadata": {},
     "output_type": "execute_result"
    }
   ],
   "source": [
    "df.groupby('pizza_size')['quantity'].sum()"
   ]
  },
  {
   "cell_type": "markdown",
   "metadata": {},
   "source": [
    "b. Combien de pizzas y a-t-il dans chaque catégorie ?"
   ]
  },
  {
   "cell_type": "code",
   "execution_count": 343,
   "metadata": {},
   "outputs": [
    {
     "data": {
      "text/plain": [
       "pizza_category\n",
       "Chicken    6\n",
       "Classic    8\n",
       "Supreme    9\n",
       "Veggie     9\n",
       "Name: pizza_name, dtype: int64"
      ]
     },
     "execution_count": 343,
     "metadata": {},
     "output_type": "execute_result"
    }
   ],
   "source": [
    "df.groupby('pizza_category')['pizza_name'].nunique()"
   ]
  },
  {
   "cell_type": "code",
   "execution_count": 344,
   "metadata": {},
   "outputs": [
    {
     "data": {
      "text/plain": [
       "MultiIndex([('Chicken',                 'The Barbecue Chicken Pizza'),\n",
       "            ('Chicken',                     'The Thai Chicken Pizza'),\n",
       "            ('Chicken',               'The California Chicken Pizza'),\n",
       "            ('Chicken',                'The Southwest Chicken Pizza'),\n",
       "            ('Chicken',                  'The Chicken Alfredo Pizza'),\n",
       "            ('Chicken',                    'The Chicken Pesto Pizza'),\n",
       "            ('Classic',                   'The Classic Deluxe Pizza'),\n",
       "            ('Classic',                         'The Hawaiian Pizza'),\n",
       "            ('Classic',                        'The Pepperoni Pizza'),\n",
       "            ('Classic',                         'The Big Meat Pizza'),\n",
       "            ('Classic',                       'The Napolitana Pizza'),\n",
       "            ('Classic',                'The Italian Capocollo Pizza'),\n",
       "            ('Classic',                            'The Greek Pizza'),\n",
       "            ('Classic', 'The Pepperoni, Mushroom, and Peppers Pizza'),\n",
       "            ('Supreme',                    'The Spicy Italian Pizza'),\n",
       "            ('Supreme',                         'The Sicilian Pizza'),\n",
       "            ('Supreme',                  'The Italian Supreme Pizza'),\n",
       "            ('Supreme',           'The Prosciutto and Arugula Pizza'),\n",
       "            ('Supreme',                    'The Pepper Salami Pizza'),\n",
       "            ('Supreme',                      'The Soppressata Pizza'),\n",
       "            ('Supreme',                  'The Spinach Supreme Pizza'),\n",
       "            ('Supreme',                        'The Calabrese Pizza'),\n",
       "            ('Supreme',                       'The Brie Carre Pizza'),\n",
       "            ( 'Veggie',                      'The Four Cheese Pizza'),\n",
       "            ( 'Veggie',          'The Vegetables + Vegetables Pizza'),\n",
       "            ( 'Veggie',                         'The Mexicana Pizza'),\n",
       "            ( 'Veggie',                 'The Spinach and Feta Pizza'),\n",
       "            ( 'Veggie',                      'The Five Cheese Pizza'),\n",
       "            ( 'Veggie',                     'The Green Garden Pizza'),\n",
       "            ( 'Veggie',               'The Italian Vegetables Pizza'),\n",
       "            ( 'Veggie',                    'The Spinach Pesto Pizza'),\n",
       "            ( 'Veggie',                    'The Mediterranean Pizza')],\n",
       "           names=['pizza_category', 'pizza_name'])"
      ]
     },
     "execution_count": 344,
     "metadata": {},
     "output_type": "execute_result"
    }
   ],
   "source": [
    "# Une bien pire façon de l'afficher\n",
    "df.groupby('pizza_category')['pizza_name'].value_counts().index"
   ]
  },
  {
   "cell_type": "markdown",
   "metadata": {},
   "source": [
    "## 7. Analyse des ingrédients :"
   ]
  },
  {
   "cell_type": "markdown",
   "metadata": {},
   "source": [
    "a. Quels sont les ingrédients les plus couramment utilisés dans toutes les\n",
    "pizzas ?\n"
   ]
  },
  {
   "cell_type": "code",
   "execution_count": 345,
   "metadata": {},
   "outputs": [
    {
     "ename": "AttributeError",
     "evalue": "'list' object has no attribute 'trim'",
     "output_type": "error",
     "traceback": [
      "\u001b[0;31m---------------------------------------------------------------------------\u001b[0m",
      "\u001b[0;31mAttributeError\u001b[0m                            Traceback (most recent call last)",
      "Cell \u001b[0;32mIn[345], line 5\u001b[0m\n\u001b[1;32m      1\u001b[0m \u001b[38;5;66;03m# avoiding repeating operation error by checking if last element of the\u001b[39;00m\n\u001b[1;32m      2\u001b[0m \u001b[38;5;66;03m# column has already been converted to a list instead of string\u001b[39;00m\n\u001b[1;32m      3\u001b[0m \u001b[38;5;28;01mif\u001b[39;00m \u001b[38;5;129;01mnot\u001b[39;00m \u001b[38;5;28misinstance\u001b[39m(df\u001b[38;5;241m.\u001b[39mpizza_ingredients[df\u001b[38;5;241m.\u001b[39mpizza_ingredients\u001b[38;5;241m.\u001b[39mshape[\u001b[38;5;241m0\u001b[39m]\u001b[38;5;241m-\u001b[39m\u001b[38;5;241m1\u001b[39m], \u001b[38;5;28mlist\u001b[39m):\n\u001b[1;32m      4\u001b[0m     \u001b[38;5;66;03m# cleaning list of ingredients\u001b[39;00m\n\u001b[0;32m----> 5\u001b[0m     df\u001b[38;5;241m.\u001b[39mpizza_ingredients \u001b[38;5;241m=\u001b[39m \u001b[43mdf\u001b[49m\u001b[38;5;241;43m.\u001b[39;49m\u001b[43mpizza_ingredients\u001b[49m\u001b[38;5;241;43m.\u001b[39;49m\u001b[43mapply\u001b[49m\u001b[43m(\u001b[49m\u001b[38;5;28;43;01mlambda\u001b[39;49;00m\u001b[43m \u001b[49m\u001b[43mx\u001b[49m\u001b[43m \u001b[49m\u001b[43m:\u001b[49m\u001b[43m \u001b[49m\u001b[43mx\u001b[49m\u001b[38;5;241;43m.\u001b[39;49m\u001b[43msplit\u001b[49m\u001b[43m(\u001b[49m\u001b[38;5;124;43m'\u001b[39;49m\u001b[38;5;124;43m,\u001b[39;49m\u001b[38;5;124;43m'\u001b[39;49m\u001b[43m)\u001b[49m\u001b[38;5;241;43m.\u001b[39;49m\u001b[43mtrim\u001b[49m\u001b[43m(\u001b[49m\u001b[43m)\u001b[49m\u001b[43m)\u001b[49m\n\u001b[1;32m      6\u001b[0m ingredients_count \u001b[38;5;241m=\u001b[39m \u001b[38;5;28mdict\u001b[39m(df\u001b[38;5;241m.\u001b[39mpizza_ingredients\u001b[38;5;241m.\u001b[39mexplode()\u001b[38;5;241m.\u001b[39mvalue_counts())\n\u001b[1;32m      7\u001b[0m ingredients_count\n",
      "File \u001b[0;32m~/.pyenv/versions/3.8.12/envs/data_exploration/lib/python3.8/site-packages/pandas/core/series.py:4630\u001b[0m, in \u001b[0;36mSeries.apply\u001b[0;34m(self, func, convert_dtype, args, **kwargs)\u001b[0m\n\u001b[1;32m   4520\u001b[0m \u001b[38;5;28;01mdef\u001b[39;00m \u001b[38;5;21mapply\u001b[39m(\n\u001b[1;32m   4521\u001b[0m     \u001b[38;5;28mself\u001b[39m,\n\u001b[1;32m   4522\u001b[0m     func: AggFuncType,\n\u001b[0;32m   (...)\u001b[0m\n\u001b[1;32m   4525\u001b[0m     \u001b[38;5;241m*\u001b[39m\u001b[38;5;241m*\u001b[39mkwargs,\n\u001b[1;32m   4526\u001b[0m ) \u001b[38;5;241m-\u001b[39m\u001b[38;5;241m>\u001b[39m DataFrame \u001b[38;5;241m|\u001b[39m Series:\n\u001b[1;32m   4527\u001b[0m \u001b[38;5;250m    \u001b[39m\u001b[38;5;124;03m\"\"\"\u001b[39;00m\n\u001b[1;32m   4528\u001b[0m \u001b[38;5;124;03m    Invoke function on values of Series.\u001b[39;00m\n\u001b[1;32m   4529\u001b[0m \n\u001b[0;32m   (...)\u001b[0m\n\u001b[1;32m   4628\u001b[0m \u001b[38;5;124;03m    dtype: float64\u001b[39;00m\n\u001b[1;32m   4629\u001b[0m \u001b[38;5;124;03m    \"\"\"\u001b[39;00m\n\u001b[0;32m-> 4630\u001b[0m     \u001b[38;5;28;01mreturn\u001b[39;00m \u001b[43mSeriesApply\u001b[49m\u001b[43m(\u001b[49m\u001b[38;5;28;43mself\u001b[39;49m\u001b[43m,\u001b[49m\u001b[43m \u001b[49m\u001b[43mfunc\u001b[49m\u001b[43m,\u001b[49m\u001b[43m \u001b[49m\u001b[43mconvert_dtype\u001b[49m\u001b[43m,\u001b[49m\u001b[43m \u001b[49m\u001b[43margs\u001b[49m\u001b[43m,\u001b[49m\u001b[43m \u001b[49m\u001b[43mkwargs\u001b[49m\u001b[43m)\u001b[49m\u001b[38;5;241;43m.\u001b[39;49m\u001b[43mapply\u001b[49m\u001b[43m(\u001b[49m\u001b[43m)\u001b[49m\n",
      "File \u001b[0;32m~/.pyenv/versions/3.8.12/envs/data_exploration/lib/python3.8/site-packages/pandas/core/apply.py:1025\u001b[0m, in \u001b[0;36mSeriesApply.apply\u001b[0;34m(self)\u001b[0m\n\u001b[1;32m   1022\u001b[0m     \u001b[38;5;28;01mreturn\u001b[39;00m \u001b[38;5;28mself\u001b[39m\u001b[38;5;241m.\u001b[39mapply_str()\n\u001b[1;32m   1024\u001b[0m \u001b[38;5;66;03m# self.f is Callable\u001b[39;00m\n\u001b[0;32m-> 1025\u001b[0m \u001b[38;5;28;01mreturn\u001b[39;00m \u001b[38;5;28;43mself\u001b[39;49m\u001b[38;5;241;43m.\u001b[39;49m\u001b[43mapply_standard\u001b[49m\u001b[43m(\u001b[49m\u001b[43m)\u001b[49m\n",
      "File \u001b[0;32m~/.pyenv/versions/3.8.12/envs/data_exploration/lib/python3.8/site-packages/pandas/core/apply.py:1076\u001b[0m, in \u001b[0;36mSeriesApply.apply_standard\u001b[0;34m(self)\u001b[0m\n\u001b[1;32m   1074\u001b[0m     \u001b[38;5;28;01melse\u001b[39;00m:\n\u001b[1;32m   1075\u001b[0m         values \u001b[38;5;241m=\u001b[39m obj\u001b[38;5;241m.\u001b[39mastype(\u001b[38;5;28mobject\u001b[39m)\u001b[38;5;241m.\u001b[39m_values\n\u001b[0;32m-> 1076\u001b[0m         mapped \u001b[38;5;241m=\u001b[39m \u001b[43mlib\u001b[49m\u001b[38;5;241;43m.\u001b[39;49m\u001b[43mmap_infer\u001b[49m\u001b[43m(\u001b[49m\n\u001b[1;32m   1077\u001b[0m \u001b[43m            \u001b[49m\u001b[43mvalues\u001b[49m\u001b[43m,\u001b[49m\n\u001b[1;32m   1078\u001b[0m \u001b[43m            \u001b[49m\u001b[43mf\u001b[49m\u001b[43m,\u001b[49m\n\u001b[1;32m   1079\u001b[0m \u001b[43m            \u001b[49m\u001b[43mconvert\u001b[49m\u001b[38;5;241;43m=\u001b[39;49m\u001b[38;5;28;43mself\u001b[39;49m\u001b[38;5;241;43m.\u001b[39;49m\u001b[43mconvert_dtype\u001b[49m\u001b[43m,\u001b[49m\n\u001b[1;32m   1080\u001b[0m \u001b[43m        \u001b[49m\u001b[43m)\u001b[49m\n\u001b[1;32m   1082\u001b[0m \u001b[38;5;28;01mif\u001b[39;00m \u001b[38;5;28mlen\u001b[39m(mapped) \u001b[38;5;129;01mand\u001b[39;00m \u001b[38;5;28misinstance\u001b[39m(mapped[\u001b[38;5;241m0\u001b[39m], ABCSeries):\n\u001b[1;32m   1083\u001b[0m     \u001b[38;5;66;03m# GH#43986 Need to do list(mapped) in order to get treated as nested\u001b[39;00m\n\u001b[1;32m   1084\u001b[0m     \u001b[38;5;66;03m#  See also GH#25959 regarding EA support\u001b[39;00m\n\u001b[1;32m   1085\u001b[0m     \u001b[38;5;28;01mreturn\u001b[39;00m obj\u001b[38;5;241m.\u001b[39m_constructor_expanddim(\u001b[38;5;28mlist\u001b[39m(mapped), index\u001b[38;5;241m=\u001b[39mobj\u001b[38;5;241m.\u001b[39mindex)\n",
      "File \u001b[0;32m~/.pyenv/versions/3.8.12/envs/data_exploration/lib/python3.8/site-packages/pandas/_libs/lib.pyx:2834\u001b[0m, in \u001b[0;36mpandas._libs.lib.map_infer\u001b[0;34m()\u001b[0m\n",
      "Cell \u001b[0;32mIn[345], line 5\u001b[0m, in \u001b[0;36m<lambda>\u001b[0;34m(x)\u001b[0m\n\u001b[1;32m      1\u001b[0m \u001b[38;5;66;03m# avoiding repeating operation error by checking if last element of the\u001b[39;00m\n\u001b[1;32m      2\u001b[0m \u001b[38;5;66;03m# column has already been converted to a list instead of string\u001b[39;00m\n\u001b[1;32m      3\u001b[0m \u001b[38;5;28;01mif\u001b[39;00m \u001b[38;5;129;01mnot\u001b[39;00m \u001b[38;5;28misinstance\u001b[39m(df\u001b[38;5;241m.\u001b[39mpizza_ingredients[df\u001b[38;5;241m.\u001b[39mpizza_ingredients\u001b[38;5;241m.\u001b[39mshape[\u001b[38;5;241m0\u001b[39m]\u001b[38;5;241m-\u001b[39m\u001b[38;5;241m1\u001b[39m], \u001b[38;5;28mlist\u001b[39m):\n\u001b[1;32m      4\u001b[0m     \u001b[38;5;66;03m# cleaning list of ingredients\u001b[39;00m\n\u001b[0;32m----> 5\u001b[0m     df\u001b[38;5;241m.\u001b[39mpizza_ingredients \u001b[38;5;241m=\u001b[39m df\u001b[38;5;241m.\u001b[39mpizza_ingredients\u001b[38;5;241m.\u001b[39mapply(\u001b[38;5;28;01mlambda\u001b[39;00m x : \u001b[43mx\u001b[49m\u001b[38;5;241;43m.\u001b[39;49m\u001b[43msplit\u001b[49m\u001b[43m(\u001b[49m\u001b[38;5;124;43m'\u001b[39;49m\u001b[38;5;124;43m,\u001b[39;49m\u001b[38;5;124;43m'\u001b[39;49m\u001b[43m)\u001b[49m\u001b[38;5;241;43m.\u001b[39;49m\u001b[43mtrim\u001b[49m())\n\u001b[1;32m      6\u001b[0m ingredients_count \u001b[38;5;241m=\u001b[39m \u001b[38;5;28mdict\u001b[39m(df\u001b[38;5;241m.\u001b[39mpizza_ingredients\u001b[38;5;241m.\u001b[39mexplode()\u001b[38;5;241m.\u001b[39mvalue_counts())\n\u001b[1;32m      7\u001b[0m ingredients_count\n",
      "\u001b[0;31mAttributeError\u001b[0m: 'list' object has no attribute 'trim'"
     ]
    }
   ],
   "source": [
    "# avoiding repeating operation error by checking if last element of the\n",
    "# column has already been converted to a list instead of string\n",
    "if not isinstance(df.pizza_ingredients[df.pizza_ingredients.shape[0]-1], list):\n",
    "    # cleaning list of ingredients\n",
    "    df.pizza_ingredients = df.pizza_ingredients.apply(lambda x : x.split(', '))\n",
    "ingredients_count = dict(df.pizza_ingredients.explode().value_counts())\n",
    "ingredients_count"
   ]
  },
  {
   "cell_type": "code",
   "execution_count": null,
   "metadata": {},
   "outputs": [
    {
     "data": {
      "text/plain": [
       "pizza_ingredients\n",
       " Garlic                27422\n",
       " Tomatoes              23694\n",
       " Red Onions            19547\n",
       " Red Peppers           16284\n",
       "Chicken                 8443\n",
       "                       ...  \n",
       "Brie Carre Cheese        480\n",
       " Prosciutto              480\n",
       " Caramelized Onions      480\n",
       " Pears                   480\n",
       " Thyme                   480\n",
       "Name: count, Length: 73, dtype: int64"
      ]
     },
     "execution_count": 301,
     "metadata": {},
     "output_type": "execute_result"
    }
   ],
   "source": [
    "ingredients_count"
   ]
  },
  {
   "cell_type": "markdown",
   "metadata": {},
   "source": [
    "b. Combien de pizzas contiennent un ingrédient spécifique (par exemple,\n",
    "pepperoni, champignons) ?"
   ]
  },
  {
   "cell_type": "code",
   "execution_count": null,
   "metadata": {},
   "outputs": [],
   "source": [
    "def HowManyPizzsUseThisIngredient(df, ingredient):\n",
    "    p\n",
    "\n",
    "\n",
    "\n",
    "HowManyPizzsUseThisIngredient(df,)"
   ]
  },
  {
   "cell_type": "markdown",
   "metadata": {},
   "source": [
    "## 8. Détails de la commande :"
   ]
  },
  {
   "cell_type": "markdown",
   "metadata": {},
   "source": [
    "a. Quelle est la répartition du nombre de pizzas par commande ?"
   ]
  },
  {
   "cell_type": "markdown",
   "metadata": {},
   "source": [
    "b. Quelle est la répartition des prix totaux pour les commandes ?"
   ]
  },
  {
   "cell_type": "markdown",
   "metadata": {},
   "source": [
    "## 9. Analyse du chiffre d’affaires en fonction du temps :"
   ]
  },
  {
   "cell_type": "markdown",
   "metadata": {},
   "source": [
    "a. Quel est le chiffre d'affaires quotidien ?\n"
   ]
  },
  {
   "cell_type": "markdown",
   "metadata": {},
   "source": [
    "b. Y a-t-il une corrélation entre l'heure de la journée et le total de la\n",
    "commande ?"
   ]
  },
  {
   "cell_type": "markdown",
   "metadata": {},
   "source": [
    "## 10.Pizzas populaires :"
   ]
  },
  {
   "cell_type": "markdown",
   "metadata": {},
   "source": [
    "a. Quelles sont les 5 pizzas les plus commandées en quantité ?"
   ]
  },
  {
   "cell_type": "markdown",
   "metadata": {},
   "source": [
    "b. Quelles sont les 5 pizzas les plus commandées en termes de chiffre\n",
    "d'affaires ?"
   ]
  },
  {
   "cell_type": "markdown",
   "metadata": {},
   "source": [
    "## 11.Chiffre d'affaires par taille et catégorie :"
   ]
  },
  {
   "cell_type": "markdown",
   "metadata": {},
   "source": [
    "a. Quelle est la répartition du chiffre d'affaires pour chaque taille de pizza ?"
   ]
  },
  {
   "cell_type": "markdown",
   "metadata": {},
   "source": [
    "b. Quelle est la répartition du chiffre d'affaires pour chaque catégorie de\n",
    "pizza ?"
   ]
  },
  {
   "cell_type": "markdown",
   "metadata": {},
   "source": [
    "## 12.Corrélation entre prix et quantité :"
   ]
  },
  {
   "cell_type": "markdown",
   "metadata": {},
   "source": [
    "a. Y a-t-il une corrélation entre le prix unitaire et la quantité commandée ?"
   ]
  },
  {
   "cell_type": "markdown",
   "metadata": {},
   "source": [
    "b. Quel est le prix unitaire moyen pour différentes tailles de pizza ?"
   ]
  },
  {
   "cell_type": "markdown",
   "metadata": {},
   "source": [
    "## 13.Tendances saisonnières :"
   ]
  },
  {
   "cell_type": "markdown",
   "metadata": {},
   "source": [
    "a. Y a-t-il des tendances saisonnières dans les commandes de pizza ?"
   ]
  },
  {
   "cell_type": "markdown",
   "metadata": {},
   "source": [
    "b. Y a-t-il une corrélation entre le jour de la semaine et la quantité de\n",
    "commandes ?"
   ]
  },
  {
   "cell_type": "code",
   "execution_count": null,
   "metadata": {},
   "outputs": [],
   "source": [
    "# 5. Analyse des prix :\n",
    "# a. Quel est le prix unitaire moyen des pizzas ?\n",
    "# b. Quel est le prix total moyen d'une commande ?\n",
    "# c. Quelle pizza a le prix unitaire le plus élevé ?\n",
    "# 6. Répartition par taille et catégorie :\n",
    "# a. Combien de pizzas de chaque taille ont été vendues ?\n",
    "# b. Combien de pizzas y a-t-il dans chaque catégorie ?\n",
    "# 7. Analyse des ingrédients :\n",
    "# a. Quels sont les ingrédients les plus couramment utilisés dans toutes les\n",
    "# pizzas ?\n",
    "# b. Combien de pizzas contiennent un ingrédient spécifique (par exemple,\n",
    "# pepperoni, champignons) ?\n",
    "# 8. Détails de la commande :\n",
    "# a. Quelle est la répartition du nombre de pizzas par commande ?\n",
    "# b. Quelle est la répartition des prix totaux pour les commandes ?\n",
    "# 9. Analyse du chiffre d’affaires en fonction du temps :\n",
    "# a. Quel est le chiffre d'affaires quotidien ?\n",
    "# b. Y a-t-il une corrélation entre l'heure de la journée et le total de la\n",
    "# commande ?\n",
    "# 10.Pizzas populaires :\n",
    "# a. Quelles sont les 5 pizzas les plus commandées en quantité ?\n",
    "\n",
    "# b. Quelles sont les 5 pizzas les plus commandées en termes de chiffre\n",
    "# d'affaires ?\n",
    "\n",
    "# 11.Chiffre d'affaires par taille et catégorie :\n",
    "# a. Quelle est la répartition du chiffre d'affaires pour chaque taille de pizza ?\n",
    "# b. Quelle est la répartition du chiffre d'affaires pour chaque catégorie de\n",
    "# pizza ?\n",
    "\n",
    "# 12.Corrélation entre prix et quantité :\n",
    "# a. Y a-t-il une corrélation entre le prix unitaire et la quantité commandée ?\n",
    "# b. Quel est le prix unitaire moyen pour différentes tailles de pizza ?\n",
    "# 13.Tendances saisonnières :\n",
    "# a. Y a-t-il des tendances saisonnières dans les commandes de pizza ?\n",
    "# b. Y a-t-il une corrélation entre le jour de la semaine et la quantité de\n",
    "# commandes ?"
   ]
  },
  {
   "cell_type": "code",
   "execution_count": null,
   "metadata": {},
   "outputs": [],
   "source": [
    "# 1. Installez et importez Pandas.\n",
    "# 2. Informations de base :\n",
    "\n",
    "\n",
    "# a. Combien de pizzas uniques (pizza_id distincts) y a-t-il dans le jeu de\n",
    "# données ?\n",
    "# b. Combien de commandes uniques (order_id distincts) figurent dans le jeu\n",
    "# de données ?\n",
    "\n",
    "# 3. Analyse temporelle :\n",
    "# a. Quelle est la plage de dates dans le jeu de données ?\n",
    "# b. Combien de commandes ont été passées chaque jour ?\n",
    "# c. Quelle est la durée moyenne pour traiter une commande ?\n",
    "\n",
    "\n",
    "# 4. Analyse de la quantité :\n",
    "# a. Quelle est la quantité moyenne de pizzas commandées ?\n",
    "# b. Quelle est la taille de pizza la plus fréquemment commandée ?\n",
    "# c. Quelle est la catégorie de pizza la plus fréquemment commandée ?"
   ]
  },
  {
   "cell_type": "markdown",
   "metadata": {},
   "source": [
    "# The End"
   ]
  },
  {
   "cell_type": "code",
   "execution_count": null,
   "metadata": {},
   "outputs": [],
   "source": [
    "!pip freeze > requirements.txt"
   ]
  },
  {
   "cell_type": "code",
   "execution_count": null,
   "metadata": {},
   "outputs": [],
   "source": [
    "# ➔ Quels sont les jours et les heures où nous sommes le plus occupés ?\n",
    "# df.order_date.apply(lambda x : x.day)\n",
    "\n",
    "# ➔ Combien de pizzas fabriquons-nous pendant les périodes de pointe ?\n",
    "# df.order_time.apply(lambda x : np.mean(x))\n",
    "# ➔ Quelles sont les pizzas les plus vendues et les moins vendues ?\n",
    "\n",
    "# ➔ Quelle est la valeur moyenne de nos commandes ?\n"
   ]
  },
  {
   "cell_type": "code",
   "execution_count": null,
   "metadata": {},
   "outputs": [],
   "source": []
  }
 ],
 "metadata": {
  "kernelspec": {
   "display_name": "data_exploration",
   "language": "python",
   "name": "python3"
  },
  "language_info": {
   "codemirror_mode": {
    "name": "ipython",
    "version": 3
   },
   "file_extension": ".py",
   "mimetype": "text/x-python",
   "name": "python",
   "nbconvert_exporter": "python",
   "pygments_lexer": "ipython3",
   "version": "3.8.12"
  }
 },
 "nbformat": 4,
 "nbformat_minor": 2
}
