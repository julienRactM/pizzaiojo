{
 "cells": [
  {
   "cell_type": "code",
   "execution_count": 95,
   "metadata": {},
   "outputs": [],
   "source": [
    "import pandas as pd\n",
    "import numpy as np\n",
    "import seaborn as sns\n",
    "import matplotlib as mlp\n",
    "#verify mlp"
   ]
  },
  {
   "cell_type": "code",
   "execution_count": 96,
   "metadata": {},
   "outputs": [],
   "source": [
    "df = pd.read_excel('sales.xlsx')"
   ]
  },
  {
   "cell_type": "code",
   "execution_count": 97,
   "metadata": {},
   "outputs": [
    {
     "data": {
      "text/html": [
       "<div>\n",
       "<style scoped>\n",
       "    .dataframe tbody tr th:only-of-type {\n",
       "        vertical-align: middle;\n",
       "    }\n",
       "\n",
       "    .dataframe tbody tr th {\n",
       "        vertical-align: top;\n",
       "    }\n",
       "\n",
       "    .dataframe thead th {\n",
       "        text-align: right;\n",
       "    }\n",
       "</style>\n",
       "<table border=\"1\" class=\"dataframe\">\n",
       "  <thead>\n",
       "    <tr style=\"text-align: right;\">\n",
       "      <th></th>\n",
       "      <th>order_details_id</th>\n",
       "      <th>order_id</th>\n",
       "      <th>pizza_id</th>\n",
       "      <th>quantity</th>\n",
       "      <th>order_date</th>\n",
       "      <th>order_time</th>\n",
       "      <th>unit_price</th>\n",
       "      <th>total_price</th>\n",
       "      <th>pizza_size</th>\n",
       "      <th>pizza_category</th>\n",
       "      <th>pizza_ingredients</th>\n",
       "      <th>pizza_name</th>\n",
       "    </tr>\n",
       "  </thead>\n",
       "  <tbody>\n",
       "    <tr>\n",
       "      <th>0</th>\n",
       "      <td>1</td>\n",
       "      <td>1</td>\n",
       "      <td>hawaiian_m</td>\n",
       "      <td>1</td>\n",
       "      <td>2015-01-01</td>\n",
       "      <td>11:38:36</td>\n",
       "      <td>13.25</td>\n",
       "      <td>13.25</td>\n",
       "      <td>M</td>\n",
       "      <td>Classic</td>\n",
       "      <td>Sliced Ham, Pineapple, Mozzarella Cheese</td>\n",
       "      <td>The Hawaiian Pizza</td>\n",
       "    </tr>\n",
       "    <tr>\n",
       "      <th>1</th>\n",
       "      <td>2</td>\n",
       "      <td>2</td>\n",
       "      <td>classic_dlx_m</td>\n",
       "      <td>1</td>\n",
       "      <td>2015-01-01</td>\n",
       "      <td>11:57:40</td>\n",
       "      <td>16.00</td>\n",
       "      <td>16.00</td>\n",
       "      <td>M</td>\n",
       "      <td>Classic</td>\n",
       "      <td>Pepperoni, Mushrooms, Red Onions, Red Peppers,...</td>\n",
       "      <td>The Classic Deluxe Pizza</td>\n",
       "    </tr>\n",
       "    <tr>\n",
       "      <th>2</th>\n",
       "      <td>3</td>\n",
       "      <td>2</td>\n",
       "      <td>five_cheese_l</td>\n",
       "      <td>1</td>\n",
       "      <td>2015-01-01</td>\n",
       "      <td>11:57:40</td>\n",
       "      <td>18.50</td>\n",
       "      <td>18.50</td>\n",
       "      <td>L</td>\n",
       "      <td>Veggie</td>\n",
       "      <td>Mozzarella Cheese, Provolone Cheese, Smoked Go...</td>\n",
       "      <td>The Five Cheese Pizza</td>\n",
       "    </tr>\n",
       "  </tbody>\n",
       "</table>\n",
       "</div>"
      ],
      "text/plain": [
       "   order_details_id  order_id       pizza_id  quantity order_date order_time  \\\n",
       "0                 1         1     hawaiian_m         1 2015-01-01   11:38:36   \n",
       "1                 2         2  classic_dlx_m         1 2015-01-01   11:57:40   \n",
       "2                 3         2  five_cheese_l         1 2015-01-01   11:57:40   \n",
       "\n",
       "   unit_price  total_price pizza_size pizza_category  \\\n",
       "0       13.25        13.25          M        Classic   \n",
       "1       16.00        16.00          M        Classic   \n",
       "2       18.50        18.50          L         Veggie   \n",
       "\n",
       "                                   pizza_ingredients                pizza_name  \n",
       "0           Sliced Ham, Pineapple, Mozzarella Cheese        The Hawaiian Pizza  \n",
       "1  Pepperoni, Mushrooms, Red Onions, Red Peppers,...  The Classic Deluxe Pizza  \n",
       "2  Mozzarella Cheese, Provolone Cheese, Smoked Go...     The Five Cheese Pizza  "
      ]
     },
     "execution_count": 97,
     "metadata": {},
     "output_type": "execute_result"
    }
   ],
   "source": [
    "df.head(3)"
   ]
  },
  {
   "cell_type": "code",
   "execution_count": 98,
   "metadata": {},
   "outputs": [
    {
     "data": {
      "text/plain": [
       "(48620, 12)"
      ]
     },
     "execution_count": 98,
     "metadata": {},
     "output_type": "execute_result"
    }
   ],
   "source": [
    "df.shape"
   ]
  },
  {
   "cell_type": "code",
   "execution_count": 99,
   "metadata": {},
   "outputs": [
    {
     "data": {
      "text/plain": [
       "Index(['order_details_id', 'order_id', 'pizza_id', 'quantity', 'order_date',\n",
       "       'order_time', 'unit_price', 'total_price', 'pizza_size',\n",
       "       'pizza_category', 'pizza_ingredients', 'pizza_name'],\n",
       "      dtype='object')"
      ]
     },
     "execution_count": 99,
     "metadata": {},
     "output_type": "execute_result"
    }
   ],
   "source": [
    "df.columns"
   ]
  },
  {
   "cell_type": "code",
   "execution_count": 100,
   "metadata": {},
   "outputs": [
    {
     "data": {
      "text/plain": [
       "order_details_id              int64\n",
       "order_id                      int64\n",
       "pizza_id                     object\n",
       "quantity                      int64\n",
       "order_date           datetime64[ns]\n",
       "order_time                   object\n",
       "unit_price                  float64\n",
       "total_price                 float64\n",
       "pizza_size                   object\n",
       "pizza_category               object\n",
       "pizza_ingredients            object\n",
       "pizza_name                   object\n",
       "dtype: object"
      ]
     },
     "execution_count": 100,
     "metadata": {},
     "output_type": "execute_result"
    }
   ],
   "source": [
    "df.dtypes"
   ]
  },
  {
   "cell_type": "markdown",
   "metadata": {},
   "source": [
    "# Questions"
   ]
  },
  {
   "cell_type": "markdown",
   "metadata": {},
   "source": [
    "## 2. Informations de base :"
   ]
  },
  {
   "cell_type": "markdown",
   "metadata": {},
   "source": [
    "a. Combien de pizzas uniques (pizza_id distincts) y a-t-il dans le jeu de\n",
    "données ?"
   ]
  },
  {
   "cell_type": "code",
   "execution_count": 101,
   "metadata": {},
   "outputs": [
    {
     "data": {
      "text/plain": [
       "91"
      ]
     },
     "execution_count": 101,
     "metadata": {},
     "output_type": "execute_result"
    }
   ],
   "source": [
    "\n",
    "df.pizza_id.value_counts().count()"
   ]
  },
  {
   "cell_type": "markdown",
   "metadata": {},
   "source": [
    "b.  Combien de commandes uniques (order_id distincts) figurent dans le jeu\n",
    "de données ?"
   ]
  },
  {
   "cell_type": "code",
   "execution_count": 102,
   "metadata": {},
   "outputs": [
    {
     "data": {
      "text/plain": [
       "21350"
      ]
     },
     "execution_count": 102,
     "metadata": {},
     "output_type": "execute_result"
    }
   ],
   "source": [
    "df.order_id.value_counts().count()"
   ]
  },
  {
   "cell_type": "markdown",
   "metadata": {},
   "source": [
    "## 3. Analyse temporelle :"
   ]
  },
  {
   "cell_type": "markdown",
   "metadata": {},
   "source": [
    "a. Quelle est la plage de dates dans le jeu de données ?"
   ]
  },
  {
   "cell_type": "code",
   "execution_count": 103,
   "metadata": {},
   "outputs": [
    {
     "name": "stdout",
     "output_type": "stream",
     "text": [
      "plage de dates : 2015-01-01 00:00:00 to 2015-12-31 00:00:00\n"
     ]
    }
   ],
   "source": [
    "print(f\"plage de dates : {df['order_date'].min()} to {df['order_date'].max()}\")"
   ]
  },
  {
   "cell_type": "markdown",
   "metadata": {},
   "source": [
    "b. Combien de commandes ont été passées chaque jour ?"
   ]
  },
  {
   "cell_type": "code",
   "execution_count": 104,
   "metadata": {},
   "outputs": [
    {
     "data": {
      "text/plain": [
       "order_date\n",
       "2015-01-01    161\n",
       "2015-01-02    160\n",
       "2015-01-03    154\n",
       "2015-01-04    106\n",
       "2015-01-05    121\n",
       "             ... \n",
       "2015-12-27     87\n",
       "2015-12-28    102\n",
       "2015-12-29     77\n",
       "2015-12-30     73\n",
       "2015-12-31    171\n",
       "Name: order_id, Length: 358, dtype: int64"
      ]
     },
     "execution_count": 104,
     "metadata": {},
     "output_type": "execute_result"
    }
   ],
   "source": [
    "df.groupby('order_date')['order_id'].count()"
   ]
  },
  {
   "cell_type": "markdown",
   "metadata": {},
   "source": [
    "c. Quelle est la durée moyenne pour traiter une commande ?"
   ]
  },
  {
   "cell_type": "markdown",
   "metadata": {},
   "source": [
    "C'est une question piège nous n'avons aucun moyen de calculer correctement cette valeur, il faudrait que le Dataframe contienne une colonne order_processed ou autre pour pouvoir faire ce calcul.\n",
    "\n",
    "Une très mauvaise solution serait de calculer la différence de temps passée entre chaque commandes triées par order_id (1 et 2 par ex) pour essayer de trouver cette valeur. Cela ne serait pas très pertinent car les résultats ne seront pas nécessairement représentatif du temps que Jo va prendre pour traiter une commande, et si il prend une pause, qu'il n'a pas de clients pendant un moment ou ferme la pizzaria après une commande, le calcul va considérer cela comme du temps de préparation de la commande et fausser les résultats"
   ]
  },
  {
   "cell_type": "markdown",
   "metadata": {},
   "source": [
    "## 4. Analyse de la quantité :"
   ]
  },
  {
   "cell_type": "markdown",
   "metadata": {},
   "source": [
    "a. Quelle est la quantité moyenne de pizzas commandées ?"
   ]
  },
  {
   "cell_type": "code",
   "execution_count": 105,
   "metadata": {},
   "outputs": [
    {
     "data": {
      "text/plain": [
       "2.321967213114754"
      ]
     },
     "execution_count": 105,
     "metadata": {},
     "output_type": "execute_result"
    }
   ],
   "source": [
    "df.groupby('order_id')['quantity'].sum().mean()"
   ]
  },
  {
   "cell_type": "markdown",
   "metadata": {},
   "source": [
    "Values Check"
   ]
  },
  {
   "cell_type": "code",
   "execution_count": 106,
   "metadata": {},
   "outputs": [],
   "source": [
    "# You can check the results here\n",
    "# df.quantity.value_counts()\n",
    "# df[df.quantity == 4]\n",
    "# df.groupby('order_id')['quantity'].sum()[5264]\n",
    "# df[df.order_id == 5264]"
   ]
  },
  {
   "cell_type": "markdown",
   "metadata": {},
   "source": [
    "b. Quelle est la taille de pizza la plus fréquemment commandée ?"
   ]
  },
  {
   "cell_type": "code",
   "execution_count": 107,
   "metadata": {},
   "outputs": [
    {
     "data": {
      "text/plain": [
       "pizza_size\n",
       "L      18526\n",
       "M      15385\n",
       "S      14137\n",
       "XL       544\n",
       "XXL       28\n",
       "Name: count, dtype: int64"
      ]
     },
     "execution_count": 107,
     "metadata": {},
     "output_type": "execute_result"
    }
   ],
   "source": [
    "df.pizza_size.value_counts()"
   ]
  },
  {
   "cell_type": "code",
   "execution_count": 108,
   "metadata": {},
   "outputs": [
    {
     "data": {
      "text/plain": [
       "'L'"
      ]
     },
     "execution_count": 108,
     "metadata": {},
     "output_type": "execute_result"
    }
   ],
   "source": [
    "df.pizza_size.value_counts().index[0]"
   ]
  },
  {
   "cell_type": "markdown",
   "metadata": {},
   "source": [
    "c. Quelle est la catégorie de pizza la plus fréquemment commandée ?"
   ]
  },
  {
   "cell_type": "code",
   "execution_count": 109,
   "metadata": {},
   "outputs": [
    {
     "data": {
      "text/plain": [
       "pizza_category\n",
       "Classic    14579\n",
       "Supreme    11777\n",
       "Veggie     11449\n",
       "Chicken    10815\n",
       "Name: count, dtype: int64"
      ]
     },
     "execution_count": 109,
     "metadata": {},
     "output_type": "execute_result"
    }
   ],
   "source": [
    "df.pizza_category.value_counts()"
   ]
  },
  {
   "cell_type": "code",
   "execution_count": 110,
   "metadata": {},
   "outputs": [
    {
     "data": {
      "text/plain": [
       "'Classic'"
      ]
     },
     "execution_count": 110,
     "metadata": {},
     "output_type": "execute_result"
    }
   ],
   "source": [
    "df.pizza_category.value_counts().index[0]"
   ]
  },
  {
   "cell_type": "markdown",
   "metadata": {},
   "source": [
    "## 5. Analyse des prix :"
   ]
  },
  {
   "cell_type": "markdown",
   "metadata": {},
   "source": [
    "a. Quel est le prix unitaire moyen des pizzas ?"
   ]
  },
  {
   "cell_type": "code",
   "execution_count": 111,
   "metadata": {},
   "outputs": [
    {
     "data": {
      "text/plain": [
       "16.49"
      ]
     },
     "execution_count": 111,
     "metadata": {},
     "output_type": "execute_result"
    }
   ],
   "source": [
    "df.apply(lambda x: x['total_price'] / x['quantity'], axis=1).mean().round(2)\n"
   ]
  },
  {
   "cell_type": "markdown",
   "metadata": {},
   "source": [
    "b. Quel est le prix total moyen d'une commande ?"
   ]
  },
  {
   "cell_type": "code",
   "execution_count": 112,
   "metadata": {},
   "outputs": [
    {
     "data": {
      "text/plain": [
       "38.31"
      ]
     },
     "execution_count": 112,
     "metadata": {},
     "output_type": "execute_result"
    }
   ],
   "source": [
    "df.groupby('order_id')['total_price'].sum().mean().round(2)"
   ]
  },
  {
   "cell_type": "markdown",
   "metadata": {},
   "source": [
    "c. Quelle pizza a le prix unitaire le plus élevé ?"
   ]
  },
  {
   "cell_type": "code",
   "execution_count": 113,
   "metadata": {},
   "outputs": [
    {
     "data": {
      "text/plain": [
       "1"
      ]
     },
     "execution_count": 113,
     "metadata": {},
     "output_type": "execute_result"
    }
   ],
   "source": [
    "# Je vérifies d'abord qu'il y a bien une seule pizza qui à le prix le plus élevé\n",
    "df[df.unit_price == df.unit_price.max()]['pizza_name'].value_counts().count()\n",
    "\n",
    "# ceci donne le bon nom de pizza mais on peut faire un peu mieux (case en dessous)\n",
    "# df[df.unit_price == df.unit_price.max()]['pizza_name'].value_counts()[0]"
   ]
  },
  {
   "cell_type": "code",
   "execution_count": 114,
   "metadata": {},
   "outputs": [
    {
     "data": {
      "text/plain": [
       "'The Greek Pizza'"
      ]
     },
     "execution_count": 114,
     "metadata": {},
     "output_type": "execute_result"
    }
   ],
   "source": [
    "# plus fluide :\n",
    "df[df.unit_price == df.unit_price.max()].iloc[0]['pizza_name']"
   ]
  },
  {
   "cell_type": "markdown",
   "metadata": {},
   "source": [
    "## 6. Répartition par taille et catégorie :"
   ]
  },
  {
   "cell_type": "markdown",
   "metadata": {},
   "source": [
    "a. Combien de pizzas de chaque taille ont été vendues ?"
   ]
  },
  {
   "cell_type": "code",
   "execution_count": 115,
   "metadata": {},
   "outputs": [
    {
     "data": {
      "text/plain": [
       "pizza_size\n",
       "L      18956\n",
       "M      15635\n",
       "S      14403\n",
       "XL       552\n",
       "XXL       28\n",
       "Name: quantity, dtype: int64"
      ]
     },
     "execution_count": 115,
     "metadata": {},
     "output_type": "execute_result"
    }
   ],
   "source": [
    "df.groupby('pizza_size')['quantity'].sum()"
   ]
  },
  {
   "cell_type": "markdown",
   "metadata": {},
   "source": [
    "b. Combien de pizzas y a-t-il dans chaque catégorie ?"
   ]
  },
  {
   "cell_type": "code",
   "execution_count": 116,
   "metadata": {},
   "outputs": [
    {
     "data": {
      "text/plain": [
       "pizza_category\n",
       "Chicken    6\n",
       "Classic    8\n",
       "Supreme    9\n",
       "Veggie     9\n",
       "Name: pizza_name, dtype: int64"
      ]
     },
     "execution_count": 116,
     "metadata": {},
     "output_type": "execute_result"
    }
   ],
   "source": [
    "df.groupby('pizza_category')['pizza_name'].nunique()"
   ]
  },
  {
   "cell_type": "code",
   "execution_count": 117,
   "metadata": {},
   "outputs": [
    {
     "data": {
      "text/plain": [
       "MultiIndex([('Chicken',                 'The Barbecue Chicken Pizza'),\n",
       "            ('Chicken',                     'The Thai Chicken Pizza'),\n",
       "            ('Chicken',               'The California Chicken Pizza'),\n",
       "            ('Chicken',                'The Southwest Chicken Pizza'),\n",
       "            ('Chicken',                  'The Chicken Alfredo Pizza'),\n",
       "            ('Chicken',                    'The Chicken Pesto Pizza'),\n",
       "            ('Classic',                   'The Classic Deluxe Pizza'),\n",
       "            ('Classic',                         'The Hawaiian Pizza'),\n",
       "            ('Classic',                        'The Pepperoni Pizza'),\n",
       "            ('Classic',                         'The Big Meat Pizza'),\n",
       "            ('Classic',                       'The Napolitana Pizza'),\n",
       "            ('Classic',                'The Italian Capocollo Pizza'),\n",
       "            ('Classic',                            'The Greek Pizza'),\n",
       "            ('Classic', 'The Pepperoni, Mushroom, and Peppers Pizza'),\n",
       "            ('Supreme',                    'The Spicy Italian Pizza'),\n",
       "            ('Supreme',                         'The Sicilian Pizza'),\n",
       "            ('Supreme',                  'The Italian Supreme Pizza'),\n",
       "            ('Supreme',           'The Prosciutto and Arugula Pizza'),\n",
       "            ('Supreme',                    'The Pepper Salami Pizza'),\n",
       "            ('Supreme',                      'The Soppressata Pizza'),\n",
       "            ('Supreme',                  'The Spinach Supreme Pizza'),\n",
       "            ('Supreme',                        'The Calabrese Pizza'),\n",
       "            ('Supreme',                       'The Brie Carre Pizza'),\n",
       "            ( 'Veggie',                      'The Four Cheese Pizza'),\n",
       "            ( 'Veggie',          'The Vegetables + Vegetables Pizza'),\n",
       "            ( 'Veggie',                         'The Mexicana Pizza'),\n",
       "            ( 'Veggie',                 'The Spinach and Feta Pizza'),\n",
       "            ( 'Veggie',                      'The Five Cheese Pizza'),\n",
       "            ( 'Veggie',                     'The Green Garden Pizza'),\n",
       "            ( 'Veggie',               'The Italian Vegetables Pizza'),\n",
       "            ( 'Veggie',                    'The Spinach Pesto Pizza'),\n",
       "            ( 'Veggie',                    'The Mediterranean Pizza')],\n",
       "           names=['pizza_category', 'pizza_name'])"
      ]
     },
     "execution_count": 117,
     "metadata": {},
     "output_type": "execute_result"
    }
   ],
   "source": [
    "# Une bien pire façon de l'afficher\n",
    "df.groupby('pizza_category')['pizza_name'].value_counts().index"
   ]
  },
  {
   "cell_type": "markdown",
   "metadata": {},
   "source": [
    "## 7. Analyse des ingrédients :"
   ]
  },
  {
   "cell_type": "markdown",
   "metadata": {},
   "source": [
    "a. Quels sont les ingrédients les plus couramment utilisés dans toutes les\n",
    "pizzas ?\n"
   ]
  },
  {
   "cell_type": "code",
   "execution_count": 118,
   "metadata": {},
   "outputs": [
    {
     "data": {
      "text/plain": [
       "{'Garlic': 27422,\n",
       " 'Tomatoes': 26601,\n",
       " 'Red Onions': 19547,\n",
       " 'Red Peppers': 16284,\n",
       " 'Mozzarella Cheese': 10333,\n",
       " 'Pepperoni': 10300,\n",
       " 'Spinach': 10012,\n",
       " 'Mushrooms': 9624,\n",
       " 'Chicken': 8443,\n",
       " 'Capocollo': 6572,\n",
       " 'Green Olives': 6174,\n",
       " 'Artichokes': 5682,\n",
       " 'Jalapeno Peppers': 5643,\n",
       " 'Green Peppers': 5224,\n",
       " 'Feta Cheese': 4748,\n",
       " 'Pineapple': 4685,\n",
       " 'Bacon': 4227,\n",
       " 'Asiago Cheese': 3342,\n",
       " 'Cilantro': 3341,\n",
       " 'Corn': 3341,\n",
       " 'Chipotle Sauce': 3341,\n",
       " 'Goat Cheese': 3301,\n",
       " 'Kalamata Olives': 3269,\n",
       " 'Fontina Cheese': 3259,\n",
       " 'Pesto Sauce': 2893,\n",
       " 'Zucchini': 2485,\n",
       " 'Barbecued Chicken': 2372,\n",
       " 'Barbecue Sauce': 2372,\n",
       " 'Sliced Ham': 2370,\n",
       " 'Thai Sweet Chilli Sauce': 2315,\n",
       " 'Artichoke': 2302,\n",
       " 'Gouda Cheese': 2302,\n",
       " 'Onions': 1887,\n",
       " 'Luganega Sausage': 1887,\n",
       " 'Coarse Sicilian Salami': 1887,\n",
       " 'Peperoncini verdi': 1887,\n",
       " 'Sun-dried Tomatoes': 1880,\n",
       " 'Gorgonzola Piccante Cheese': 1850,\n",
       " 'Parmigiano Reggiano Cheese': 1850,\n",
       " 'Ricotta Cheese': 1850,\n",
       " 'Calabrese Salami': 1849,\n",
       " 'Chorizo Sausage': 1811,\n",
       " 'Italian Sausage': 1811,\n",
       " 'Anchovies': 1451,\n",
       " 'Arugula': 1428,\n",
       " 'Prosciutto di San Daniele': 1428,\n",
       " 'Genoa Salami': 1422,\n",
       " 'Oregano': 1414,\n",
       " 'Beef Chuck Roast': 1406,\n",
       " 'Provolone Cheese': 1359,\n",
       " 'Smoked Gouda Cheese': 1359,\n",
       " 'Romano Cheese': 1359,\n",
       " 'Blue Cheese': 1359,\n",
       " 'Alfredo Sauce': 980,\n",
       " 'Eggplant': 975,\n",
       " 'Soppressata Salami': 957,\n",
       " 'Friggitello Peppers': 927,\n",
       " 'Pancetta': 927,\n",
       " '慛duja Salami': 927,\n",
       " 'Plum Tomatoes': 923,\n",
       " 'Brie Carre Cheese': 480,\n",
       " 'Prosciutto': 480,\n",
       " 'Caramelized Onions': 480,\n",
       " 'Pears': 480,\n",
       " 'Thyme': 480}"
      ]
     },
     "execution_count": 118,
     "metadata": {},
     "output_type": "execute_result"
    }
   ],
   "source": [
    "# avoiding repeating operation error by checking if last element of the\n",
    "# column has already been converted to a list instead of string\n",
    "if not isinstance(df.pizza_ingredients[df.pizza_ingredients.shape[0]-1], list):\n",
    "    # cleaning list of ingredients\n",
    "    df.pizza_ingredients = df.pizza_ingredients.apply(lambda x : x.split(', '))\n",
    "ingredients_count = dict(df.pizza_ingredients.explode().value_counts())\n",
    "ingredients_count"
   ]
  },
  {
   "cell_type": "markdown",
   "metadata": {},
   "source": [
    "b. Combien de pizzas contiennent un ingrédient spécifique (par exemple,\n",
    "pepperoni, champignons) ?"
   ]
  },
  {
   "cell_type": "code",
   "execution_count": 138,
   "metadata": {},
   "outputs": [
    {
     "name": "stdout",
     "output_type": "stream",
     "text": [
      "27422\n",
      "3342\n",
      "480\n"
     ]
    }
   ],
   "source": [
    "# Pour Trois ingrédients au hasard\n",
    "print(ingredients_count['Garlic'])\n",
    "print(ingredients_count['Asiago Cheese'])\n",
    "print(ingredients_count['Prosciutto'])\n"
   ]
  },
  {
   "cell_type": "code",
   "execution_count": 121,
   "metadata": {},
   "outputs": [],
   "source": [
    "# En Bonus éventuellement\n",
    "# def HowManyPizzsUseThisIngredient(df, ingredient):\n",
    "\n",
    "\n",
    "\n",
    "\n",
    "# HowManyPizzsUseThisIngredient(df, 'Pineapple)"
   ]
  },
  {
   "cell_type": "markdown",
   "metadata": {},
   "source": [
    "## 8. Détails de la commande :"
   ]
  },
  {
   "cell_type": "markdown",
   "metadata": {},
   "source": [
    "a. Quelle est la répartition du nombre de pizzas par commande ?"
   ]
  },
  {
   "cell_type": "code",
   "execution_count": 122,
   "metadata": {},
   "outputs": [
    {
     "data": {
      "text/html": [
       "<div>\n",
       "<style scoped>\n",
       "    .dataframe tbody tr th:only-of-type {\n",
       "        vertical-align: middle;\n",
       "    }\n",
       "\n",
       "    .dataframe tbody tr th {\n",
       "        vertical-align: top;\n",
       "    }\n",
       "\n",
       "    .dataframe thead th {\n",
       "        text-align: right;\n",
       "    }\n",
       "</style>\n",
       "<table border=\"1\" class=\"dataframe\">\n",
       "  <thead>\n",
       "    <tr style=\"text-align: right;\">\n",
       "      <th></th>\n",
       "      <th>Nombre de pizzas par commande</th>\n",
       "      <th>count</th>\n",
       "    </tr>\n",
       "  </thead>\n",
       "  <tbody>\n",
       "    <tr>\n",
       "      <th>0</th>\n",
       "      <td>1</td>\n",
       "      <td>8201</td>\n",
       "    </tr>\n",
       "    <tr>\n",
       "      <th>1</th>\n",
       "      <td>2</td>\n",
       "      <td>6196</td>\n",
       "    </tr>\n",
       "    <tr>\n",
       "      <th>2</th>\n",
       "      <td>3</td>\n",
       "      <td>3325</td>\n",
       "    </tr>\n",
       "    <tr>\n",
       "      <th>3</th>\n",
       "      <td>4</td>\n",
       "      <td>2888</td>\n",
       "    </tr>\n",
       "    <tr>\n",
       "      <th>4</th>\n",
       "      <td>5</td>\n",
       "      <td>144</td>\n",
       "    </tr>\n",
       "    <tr>\n",
       "      <th>5</th>\n",
       "      <td>8</td>\n",
       "      <td>83</td>\n",
       "    </tr>\n",
       "    <tr>\n",
       "      <th>6</th>\n",
       "      <td>6</td>\n",
       "      <td>75</td>\n",
       "    </tr>\n",
       "    <tr>\n",
       "      <th>7</th>\n",
       "      <td>7</td>\n",
       "      <td>75</td>\n",
       "    </tr>\n",
       "    <tr>\n",
       "      <th>8</th>\n",
       "      <td>12</td>\n",
       "      <td>71</td>\n",
       "    </tr>\n",
       "    <tr>\n",
       "      <th>9</th>\n",
       "      <td>11</td>\n",
       "      <td>69</td>\n",
       "    </tr>\n",
       "    <tr>\n",
       "      <th>10</th>\n",
       "      <td>9</td>\n",
       "      <td>65</td>\n",
       "    </tr>\n",
       "    <tr>\n",
       "      <th>11</th>\n",
       "      <td>10</td>\n",
       "      <td>59</td>\n",
       "    </tr>\n",
       "    <tr>\n",
       "      <th>12</th>\n",
       "      <td>13</td>\n",
       "      <td>52</td>\n",
       "    </tr>\n",
       "    <tr>\n",
       "      <th>13</th>\n",
       "      <td>14</td>\n",
       "      <td>38</td>\n",
       "    </tr>\n",
       "    <tr>\n",
       "      <th>14</th>\n",
       "      <td>15</td>\n",
       "      <td>7</td>\n",
       "    </tr>\n",
       "    <tr>\n",
       "      <th>15</th>\n",
       "      <td>21</td>\n",
       "      <td>2</td>\n",
       "    </tr>\n",
       "  </tbody>\n",
       "</table>\n",
       "</div>"
      ],
      "text/plain": [
       "    Nombre de pizzas par commande  count\n",
       "0                               1   8201\n",
       "1                               2   6196\n",
       "2                               3   3325\n",
       "3                               4   2888\n",
       "4                               5    144\n",
       "5                               8     83\n",
       "6                               6     75\n",
       "7                               7     75\n",
       "8                              12     71\n",
       "9                              11     69\n",
       "10                              9     65\n",
       "11                             10     59\n",
       "12                             13     52\n",
       "13                             14     38\n",
       "14                             15      7\n",
       "15                             21      2"
      ]
     },
     "execution_count": 122,
     "metadata": {},
     "output_type": "execute_result"
    }
   ],
   "source": [
    "df.groupby('order_id')['pizza_name'].count().value_counts().reset_index()\\\n",
    "    .rename(columns={'pizza_name': 'Nombre de pizzas par commande'})"
   ]
  },
  {
   "cell_type": "markdown",
   "metadata": {},
   "source": [
    "b. Quelle est la répartition des prix totaux pour les commandes ?"
   ]
  },
  {
   "cell_type": "code",
   "execution_count": 191,
   "metadata": {},
   "outputs": [
    {
     "name": "stdout",
     "output_type": "stream",
     "text": [
      "9.75\n",
      "83.0\n"
     ]
    },
    {
     "data": {
      "text/plain": [
       "<Axes: xlabel='total_price', ylabel='Count'>"
      ]
     },
     "execution_count": 191,
     "metadata": {},
     "output_type": "execute_result"
    },
    {
     "data": {
      "image/png": "[encoded data removed]",
      "text/plain": [
       "<Figure size 640x480 with 1 Axes>"
      ]
     },
     "metadata": {},
     "output_type": "display_data"
    }
   ],
   "source": [
    "print(df.total_price.min())\n",
    "print(df.total_price.max())\n",
    "sns.histplot(df.groupby('order_id')['total_price'].sum(), kde=True)\n",
    "\n",
    "\n",
    "# df.groupby('order_id')['total_price'].sum().groupby(values)"
   ]
  },
  {
   "cell_type": "code",
   "execution_count": 160,
   "metadata": {},
   "outputs": [
    {
     "data": {
      "text/html": [
       "<div>\n",
       "<style scoped>\n",
       "    .dataframe tbody tr th:only-of-type {\n",
       "        vertical-align: middle;\n",
       "    }\n",
       "\n",
       "    .dataframe tbody tr th {\n",
       "        vertical-align: top;\n",
       "    }\n",
       "\n",
       "    .dataframe thead th {\n",
       "        text-align: right;\n",
       "    }\n",
       "</style>\n",
       "<table border=\"1\" class=\"dataframe\">\n",
       "  <thead>\n",
       "    <tr style=\"text-align: right;\">\n",
       "      <th></th>\n",
       "      <th>total_price</th>\n",
       "      <th>total_price_quartile</th>\n",
       "    </tr>\n",
       "  </thead>\n",
       "  <tbody>\n",
       "    <tr>\n",
       "      <th>0</th>\n",
       "      <td>13.25</td>\n",
       "      <td>low_medium_order</td>\n",
       "    </tr>\n",
       "    <tr>\n",
       "      <th>1</th>\n",
       "      <td>16.00</td>\n",
       "      <td>low_medium_order</td>\n",
       "    </tr>\n",
       "    <tr>\n",
       "      <th>2</th>\n",
       "      <td>18.50</td>\n",
       "      <td>high_medium_order</td>\n",
       "    </tr>\n",
       "    <tr>\n",
       "      <th>3</th>\n",
       "      <td>20.75</td>\n",
       "      <td>big_order</td>\n",
       "    </tr>\n",
       "    <tr>\n",
       "      <th>4</th>\n",
       "      <td>16.00</td>\n",
       "      <td>low_medium_order</td>\n",
       "    </tr>\n",
       "  </tbody>\n",
       "</table>\n",
       "</div>"
      ],
      "text/plain": [
       "   total_price total_price_quartile\n",
       "0        13.25     low_medium_order\n",
       "1        16.00     low_medium_order\n",
       "2        18.50    high_medium_order\n",
       "3        20.75            big_order\n",
       "4        16.00     low_medium_order"
      ]
     },
     "execution_count": 160,
     "metadata": {},
     "output_type": "execute_result"
    }
   ],
   "source": [
    "# Si cette donnée nous intéresse réellement, il me parait plus judicieux de classifier les commandes dans une nouvelle colonne\n",
    "# par tranches de prix totaux des commandes. ici 4 choisit arbitrairement.\n",
    "\n",
    "df['total_price_quartile'] = pd.qcut(df['total_price'], q=[0, 0.25, 0.5, 0.75, 1],\n",
    "    labels=['small_order', 'low_medium_order', 'high_medium_order', 'big_order'])\n",
    "\n",
    "df[['total_price', 'total_price_quartile']].head()\n",
    "# price_quartile_distribution = df['total_price_quartile'].value_counts().reset_index()\n",
    "# price_quartile_distribution\n"
   ]
  },
  {
   "cell_type": "code",
   "execution_count": 172,
   "metadata": {},
   "outputs": [
    {
     "data": {
      "text/plain": [
       "<Axes: >"
      ]
     },
     "execution_count": 172,
     "metadata": {},
     "output_type": "execute_result"
    },
    {
     "data": {
      "image/png": "[encoded data removed]",
      "text/plain": [
       "<Figure size 640x480 with 1 Axes>"
      ]
     },
     "metadata": {},
     "output_type": "display_data"
    }
   ],
   "source": [
    "df.total_price.hist()"
   ]
  },
  {
   "cell_type": "code",
   "execution_count": 173,
   "metadata": {},
   "outputs": [
    {
     "data": {
      "text/plain": [
       "<Axes: xlabel='total_price', ylabel='Count'>"
      ]
     },
     "execution_count": 173,
     "metadata": {},
     "output_type": "execute_result"
    },
    {
     "data": {
      "image/png": "[encoded data removed]",
      "text/plain": [
       "<Figure size 640x480 with 1 Axes>"
      ]
     },
     "metadata": {},
     "output_type": "display_data"
    }
   ],
   "source": [
    "sns.histplot(df.total_price)\n"
   ]
  },
  {
   "cell_type": "code",
   "execution_count": 164,
   "metadata": {},
   "outputs": [
    {
     "data": {
      "text/plain": [
       "count    48620.000000\n",
       "mean        16.821474\n",
       "std          4.437398\n",
       "min          9.750000\n",
       "25%         12.750000\n",
       "50%         16.500000\n",
       "75%         20.500000\n",
       "max         83.000000\n",
       "Name: total_price, dtype: float64"
      ]
     },
     "execution_count": 164,
     "metadata": {},
     "output_type": "execute_result"
    }
   ],
   "source": [
    "df.total_price.describe()"
   ]
  },
  {
   "cell_type": "code",
   "execution_count": 129,
   "metadata": {},
   "outputs": [],
   "source": [
    "# Bonus perso si j'ai le temps de faire une répartition plus équilibrée"
   ]
  },
  {
   "cell_type": "markdown",
   "metadata": {},
   "source": [
    "## 9. Analyse du chiffre d’affaires en fonction du temps :"
   ]
  },
  {
   "cell_type": "markdown",
   "metadata": {},
   "source": [
    "a. Quel est le chiffre d'affaires quotidien ?\n"
   ]
  },
  {
   "cell_type": "markdown",
   "metadata": {},
   "source": [
    "b. Y a-t-il une corrélation entre l'heure de la journée et le total de la\n",
    "commande ?"
   ]
  },
  {
   "cell_type": "markdown",
   "metadata": {},
   "source": [
    "## 10.Pizzas populaires :"
   ]
  },
  {
   "cell_type": "markdown",
   "metadata": {},
   "source": [
    "a. Quelles sont les 5 pizzas les plus commandées en quantité ?"
   ]
  },
  {
   "cell_type": "markdown",
   "metadata": {},
   "source": [
    "b. Quelles sont les 5 pizzas les plus commandées en termes de chiffre\n",
    "d'affaires ?"
   ]
  },
  {
   "cell_type": "markdown",
   "metadata": {},
   "source": [
    "## 11.Chiffre d'affaires par taille et catégorie :"
   ]
  },
  {
   "cell_type": "markdown",
   "metadata": {},
   "source": [
    "a. Quelle est la répartition du chiffre d'affaires pour chaque taille de pizza ?"
   ]
  },
  {
   "cell_type": "markdown",
   "metadata": {},
   "source": [
    "b. Quelle est la répartition du chiffre d'affaires pour chaque catégorie de\n",
    "pizza ?"
   ]
  },
  {
   "cell_type": "markdown",
   "metadata": {},
   "source": [
    "## 12.Corrélation entre prix et quantité :"
   ]
  },
  {
   "cell_type": "markdown",
   "metadata": {},
   "source": [
    "a. Y a-t-il une corrélation entre le prix unitaire et la quantité commandée ?"
   ]
  },
  {
   "cell_type": "markdown",
   "metadata": {},
   "source": [
    "b. Quel est le prix unitaire moyen pour différentes tailles de pizza ?"
   ]
  },
  {
   "cell_type": "markdown",
   "metadata": {},
   "source": [
    "## 13.Tendances saisonnières :"
   ]
  },
  {
   "cell_type": "markdown",
   "metadata": {},
   "source": [
    "a. Y a-t-il des tendances saisonnières dans les commandes de pizza ?"
   ]
  },
  {
   "cell_type": "markdown",
   "metadata": {},
   "source": [
    "b. Y a-t-il une corrélation entre le jour de la semaine et la quantité de\n",
    "commandes ?"
   ]
  },
  {
   "cell_type": "code",
   "execution_count": 130,
   "metadata": {},
   "outputs": [],
   "source": [
    "# 5. Analyse des prix :\n",
    "# a. Quel est le prix unitaire moyen des pizzas ?\n",
    "# b. Quel est le prix total moyen d'une commande ?\n",
    "# c. Quelle pizza a le prix unitaire le plus élevé ?\n",
    "# 6. Répartition par taille et catégorie :\n",
    "# a. Combien de pizzas de chaque taille ont été vendues ?\n",
    "# b. Combien de pizzas y a-t-il dans chaque catégorie ?\n",
    "# 7. Analyse des ingrédients :\n",
    "# a. Quels sont les ingrédients les plus couramment utilisés dans toutes les\n",
    "# pizzas ?\n",
    "# b. Combien de pizzas contiennent un ingrédient spécifique (par exemple,\n",
    "# pepperoni, champignons) ?\n",
    "# 8. Détails de la commande :\n",
    "# a. Quelle est la répartition du nombre de pizzas par commande ?\n",
    "# b. Quelle est la répartition des prix totaux pour les commandes ?\n",
    "# 9. Analyse du chiffre d’affaires en fonction du temps :\n",
    "# a. Quel est le chiffre d'affaires quotidien ?\n",
    "# b. Y a-t-il une corrélation entre l'heure de la journée et le total de la\n",
    "# commande ?\n",
    "# 10.Pizzas populaires :\n",
    "# a. Quelles sont les 5 pizzas les plus commandées en quantité ?\n",
    "\n",
    "# b. Quelles sont les 5 pizzas les plus commandées en termes de chiffre\n",
    "# d'affaires ?\n",
    "\n",
    "# 11.Chiffre d'affaires par taille et catégorie :\n",
    "# a. Quelle est la répartition du chiffre d'affaires pour chaque taille de pizza ?\n",
    "# b. Quelle est la répartition du chiffre d'affaires pour chaque catégorie de\n",
    "# pizza ?\n",
    "\n",
    "# 12.Corrélation entre prix et quantité :\n",
    "# a. Y a-t-il une corrélation entre le prix unitaire et la quantité commandée ?\n",
    "# b. Quel est le prix unitaire moyen pour différentes tailles de pizza ?\n",
    "# 13.Tendances saisonnières :\n",
    "# a. Y a-t-il des tendances saisonnières dans les commandes de pizza ?\n",
    "# b. Y a-t-il une corrélation entre le jour de la semaine et la quantité de\n",
    "# commandes ?"
   ]
  },
  {
   "cell_type": "code",
   "execution_count": 131,
   "metadata": {},
   "outputs": [],
   "source": [
    "# 1. Installez et importez Pandas.\n",
    "# 2. Informations de base :\n",
    "\n",
    "\n",
    "# a. Combien de pizzas uniques (pizza_id distincts) y a-t-il dans le jeu de\n",
    "# données ?\n",
    "# b. Combien de commandes uniques (order_id distincts) figurent dans le jeu\n",
    "# de données ?\n",
    "\n",
    "# 3. Analyse temporelle :\n",
    "# a. Quelle est la plage de dates dans le jeu de données ?\n",
    "# b. Combien de commandes ont été passées chaque jour ?\n",
    "# c. Quelle est la durée moyenne pour traiter une commande ?\n",
    "\n",
    "\n",
    "# 4. Analyse de la quantité :\n",
    "# a. Quelle est la quantité moyenne de pizzas commandées ?\n",
    "# b. Quelle est la taille de pizza la plus fréquemment commandée ?\n",
    "# c. Quelle est la catégorie de pizza la plus fréquemment commandée ?"
   ]
  },
  {
   "cell_type": "markdown",
   "metadata": {},
   "source": [
    "# The End"
   ]
  },
  {
   "cell_type": "code",
   "execution_count": 132,
   "metadata": {},
   "outputs": [],
   "source": [
    "!pip freeze > requirements.txt"
   ]
  },
  {
   "cell_type": "code",
   "execution_count": 133,
   "metadata": {},
   "outputs": [],
   "source": [
    "# ➔ Quels sont les jours et les heures où nous sommes le plus occupés ?\n",
    "# df.order_date.apply(lambda x : x.day)\n",
    "\n",
    "# ➔ Combien de pizzas fabriquons-nous pendant les périodes de pointe ?\n",
    "# df.order_time.apply(lambda x : np.mean(x))\n",
    "# ➔ Quelles sont les pizzas les plus vendues et les moins vendues ?\n",
    "\n",
    "# ➔ Quelle est la valeur moyenne de nos commandes ?\n"
   ]
  },
  {
   "cell_type": "code",
   "execution_count": null,
   "metadata": {},
   "outputs": [],
   "source": []
  }
 ],
 "metadata": {
  "kernelspec": {
   "display_name": "data_exploration",
   "language": "python",
   "name": "python3"
  },
  "language_info": {
   "codemirror_mode": {
    "name": "ipython",
    "version": 3
   },
   "file_extension": ".py",
   "mimetype": "text/x-python",
   "name": "python",
   "nbconvert_exporter": "python",
   "pygments_lexer": "ipython3",
   "version": "3.8.12"
  }
 },
 "nbformat": 4,
 "nbformat_minor": 2
}
