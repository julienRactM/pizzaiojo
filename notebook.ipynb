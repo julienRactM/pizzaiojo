{
 "cells": [
  {
   "cell_type": "code",
   "execution_count": 2,
   "metadata": {},
   "outputs": [],
   "source": [
    "import pandas as pd\n",
    "import numpy as np\n",
    "import seaborn as sns\n",
    "import matplotlib.pyplot as plt"
   ]
  },
  {
   "cell_type": "markdown",
   "metadata": {},
   "source": [
    "# Data Exploration"
   ]
  },
  {
   "cell_type": "code",
   "execution_count": 67,
   "metadata": {},
   "outputs": [],
   "source": [
    "df = pd.read_excel('sales.xlsx')\n",
    "df_original = pd.read_excel('sales.xlsx')"
   ]
  },
  {
   "cell_type": "code",
   "execution_count": 4,
   "metadata": {},
   "outputs": [
    {
     "data": {
      "text/html": [
       "<div>\n",
       "<style scoped>\n",
       "    .dataframe tbody tr th:only-of-type {\n",
       "        vertical-align: middle;\n",
       "    }\n",
       "\n",
       "    .dataframe tbody tr th {\n",
       "        vertical-align: top;\n",
       "    }\n",
       "\n",
       "    .dataframe thead th {\n",
       "        text-align: right;\n",
       "    }\n",
       "</style>\n",
       "<table border=\"1\" class=\"dataframe\">\n",
       "  <thead>\n",
       "    <tr style=\"text-align: right;\">\n",
       "      <th></th>\n",
       "      <th>order_details_id</th>\n",
       "      <th>order_id</th>\n",
       "      <th>pizza_id</th>\n",
       "      <th>quantity</th>\n",
       "      <th>order_date</th>\n",
       "      <th>order_time</th>\n",
       "      <th>unit_price</th>\n",
       "      <th>total_price</th>\n",
       "      <th>pizza_size</th>\n",
       "      <th>pizza_category</th>\n",
       "      <th>pizza_ingredients</th>\n",
       "      <th>pizza_name</th>\n",
       "    </tr>\n",
       "  </thead>\n",
       "  <tbody>\n",
       "    <tr>\n",
       "      <th>0</th>\n",
       "      <td>1</td>\n",
       "      <td>1</td>\n",
       "      <td>hawaiian_m</td>\n",
       "      <td>1</td>\n",
       "      <td>2015-01-01</td>\n",
       "      <td>11:38:36</td>\n",
       "      <td>13.25</td>\n",
       "      <td>13.25</td>\n",
       "      <td>M</td>\n",
       "      <td>Classic</td>\n",
       "      <td>Sliced Ham, Pineapple, Mozzarella Cheese</td>\n",
       "      <td>The Hawaiian Pizza</td>\n",
       "    </tr>\n",
       "    <tr>\n",
       "      <th>1</th>\n",
       "      <td>2</td>\n",
       "      <td>2</td>\n",
       "      <td>classic_dlx_m</td>\n",
       "      <td>1</td>\n",
       "      <td>2015-01-01</td>\n",
       "      <td>11:57:40</td>\n",
       "      <td>16.00</td>\n",
       "      <td>16.00</td>\n",
       "      <td>M</td>\n",
       "      <td>Classic</td>\n",
       "      <td>Pepperoni, Mushrooms, Red Onions, Red Peppers,...</td>\n",
       "      <td>The Classic Deluxe Pizza</td>\n",
       "    </tr>\n",
       "    <tr>\n",
       "      <th>2</th>\n",
       "      <td>3</td>\n",
       "      <td>2</td>\n",
       "      <td>five_cheese_l</td>\n",
       "      <td>1</td>\n",
       "      <td>2015-01-01</td>\n",
       "      <td>11:57:40</td>\n",
       "      <td>18.50</td>\n",
       "      <td>18.50</td>\n",
       "      <td>L</td>\n",
       "      <td>Veggie</td>\n",
       "      <td>Mozzarella Cheese, Provolone Cheese, Smoked Go...</td>\n",
       "      <td>The Five Cheese Pizza</td>\n",
       "    </tr>\n",
       "  </tbody>\n",
       "</table>\n",
       "</div>"
      ],
      "text/plain": [
       "   order_details_id  order_id       pizza_id  quantity order_date order_time  \\\n",
       "0                 1         1     hawaiian_m         1 2015-01-01   11:38:36   \n",
       "1                 2         2  classic_dlx_m         1 2015-01-01   11:57:40   \n",
       "2                 3         2  five_cheese_l         1 2015-01-01   11:57:40   \n",
       "\n",
       "   unit_price  total_price pizza_size pizza_category  \\\n",
       "0       13.25        13.25          M        Classic   \n",
       "1       16.00        16.00          M        Classic   \n",
       "2       18.50        18.50          L         Veggie   \n",
       "\n",
       "                                   pizza_ingredients                pizza_name  \n",
       "0           Sliced Ham, Pineapple, Mozzarella Cheese        The Hawaiian Pizza  \n",
       "1  Pepperoni, Mushrooms, Red Onions, Red Peppers,...  The Classic Deluxe Pizza  \n",
       "2  Mozzarella Cheese, Provolone Cheese, Smoked Go...     The Five Cheese Pizza  "
      ]
     },
     "execution_count": 4,
     "metadata": {},
     "output_type": "execute_result"
    }
   ],
   "source": [
    "df.head(3)"
   ]
  },
  {
   "cell_type": "code",
   "execution_count": 5,
   "metadata": {},
   "outputs": [
    {
     "data": {
      "text/plain": [
       "(48620, 12)"
      ]
     },
     "execution_count": 5,
     "metadata": {},
     "output_type": "execute_result"
    }
   ],
   "source": [
    "df.shape"
   ]
  },
  {
   "cell_type": "code",
   "execution_count": 6,
   "metadata": {},
   "outputs": [
    {
     "data": {
      "text/plain": [
       "Index(['order_details_id', 'order_id', 'pizza_id', 'quantity', 'order_date',\n",
       "       'order_time', 'unit_price', 'total_price', 'pizza_size',\n",
       "       'pizza_category', 'pizza_ingredients', 'pizza_name'],\n",
       "      dtype='object')"
      ]
     },
     "execution_count": 6,
     "metadata": {},
     "output_type": "execute_result"
    }
   ],
   "source": [
    "df.columns"
   ]
  },
  {
   "cell_type": "code",
   "execution_count": 7,
   "metadata": {},
   "outputs": [
    {
     "data": {
      "text/plain": [
       "order_details_id              int64\n",
       "order_id                      int64\n",
       "pizza_id                     object\n",
       "quantity                      int64\n",
       "order_date           datetime64[ns]\n",
       "order_time                   object\n",
       "unit_price                  float64\n",
       "total_price                 float64\n",
       "pizza_size                   object\n",
       "pizza_category               object\n",
       "pizza_ingredients            object\n",
       "pizza_name                   object\n",
       "dtype: object"
      ]
     },
     "execution_count": 7,
     "metadata": {},
     "output_type": "execute_result"
    }
   ],
   "source": [
    "df.dtypes"
   ]
  },
  {
   "cell_type": "markdown",
   "metadata": {},
   "source": [
    "## Data Featuring\n"
   ]
  },
  {
   "cell_type": "markdown",
   "metadata": {},
   "source": [
    "J'ai pris la décision de drop les colonnes quantity et total_price dans la mesure où il y'a d'autres moyens de récupérer ces informations par des groupby et qu'elles ajoutent une complexité algorythmique à répéter dans plus de 50% des réponses de l'énoncé pour avoir accès à toutes les pizzas lors de calculs.\n",
    "\n",
    "C'est avant tout un notebook de data_exploration, donc faciliter son exploitation est important."
   ]
  },
  {
   "cell_type": "markdown",
   "metadata": {},
   "source": [
    "On conserve deux constante pratique pour vérifier la performance de la démarche"
   ]
  },
  {
   "cell_type": "code",
   "execution_count": 8,
   "metadata": {},
   "outputs": [],
   "source": [
    "#avoid repeated process errors\n",
    "if 'quantity' in df.columns:\n",
    "    QUANTITY = df.quantity.sum()\n",
    "    TOTALMONEY = df.total_price.sum()"
   ]
  },
  {
   "cell_type": "markdown",
   "metadata": {},
   "source": [
    "On transforme la colonne quantité du df en rows supplémentaire (1 colonnes en moins et on a désormais 900 rows \n",
    "supplémentaires, on atteint donc 49574) et on supprime les colonnes indésirables"
   ]
  },
  {
   "cell_type": "code",
   "execution_count": 9,
   "metadata": {},
   "outputs": [],
   "source": [
    "#ensuring it only happens once when running notebook\n",
    "if 'quantity' in df.columns:\n",
    "    df = df.loc[df.index.repeat(df['quantity'])].reset_index(drop=True)\n",
    "    df.drop(columns=['quantity', 'total_price'], inplace=True)"
   ]
  },
  {
   "cell_type": "markdown",
   "metadata": {},
   "source": [
    "# Questions"
   ]
  },
  {
   "cell_type": "markdown",
   "metadata": {},
   "source": [
    "## 2. Informations de base :"
   ]
  },
  {
   "cell_type": "markdown",
   "metadata": {},
   "source": [
    "a. Combien de pizzas uniques (pizza_id distincts) y a-t-il dans le jeu de\n",
    "données ?"
   ]
  },
  {
   "cell_type": "code",
   "execution_count": 10,
   "metadata": {},
   "outputs": [
    {
     "data": {
      "text/plain": [
       "91"
      ]
     },
     "execution_count": 10,
     "metadata": {},
     "output_type": "execute_result"
    }
   ],
   "source": [
    "df.pizza_id.value_counts().count()"
   ]
  },
  {
   "cell_type": "markdown",
   "metadata": {},
   "source": [
    "b.  Combien de commandes uniques (order_id distincts) figurent dans le jeu\n",
    "de données ?"
   ]
  },
  {
   "cell_type": "code",
   "execution_count": 11,
   "metadata": {},
   "outputs": [
    {
     "data": {
      "text/plain": [
       "21350"
      ]
     },
     "execution_count": 11,
     "metadata": {},
     "output_type": "execute_result"
    }
   ],
   "source": [
    "df.order_id.value_counts().count()"
   ]
  },
  {
   "cell_type": "markdown",
   "metadata": {},
   "source": [
    "## 3. Analyse temporelle :"
   ]
  },
  {
   "cell_type": "markdown",
   "metadata": {},
   "source": [
    "a. Quelle est la plage de dates dans le jeu de données ?"
   ]
  },
  {
   "cell_type": "code",
   "execution_count": 12,
   "metadata": {},
   "outputs": [
    {
     "name": "stdout",
     "output_type": "stream",
     "text": [
      "plage de dates : 2015-01-01 00:00:00 à 2015-12-31 00:00:00\n"
     ]
    }
   ],
   "source": [
    "print(f\"plage de dates : {df['order_date'].min()} à {df['order_date'].max()}\")"
   ]
  },
  {
   "cell_type": "markdown",
   "metadata": {},
   "source": [
    "b. Combien de commandes ont été passées chaque jour ?"
   ]
  },
  {
   "cell_type": "markdown",
   "metadata": {},
   "source": [
    "## ------------------------------------------------------------"
   ]
  },
  {
   "cell_type": "code",
   "execution_count": 13,
   "metadata": {},
   "outputs": [
    {
     "data": {
      "text/plain": [
       "order_date\n",
       "2015-01-01    69\n",
       "2015-01-02    67\n",
       "2015-01-03    66\n",
       "2015-01-04    52\n",
       "2015-01-05    54\n",
       "              ..\n",
       "2015-12-27    35\n",
       "2015-12-28    39\n",
       "2015-12-29    27\n",
       "2015-12-30    32\n",
       "2015-12-31    73\n",
       "Name: order_id, Length: 358, dtype: int64"
      ]
     },
     "execution_count": 13,
     "metadata": {},
     "output_type": "execute_result"
    }
   ],
   "source": [
    "df.groupby('order_date')['order_id'].nunique()"
   ]
  },
  {
   "cell_type": "markdown",
   "metadata": {},
   "source": [
    "c. Quelle est la durée moyenne pour traiter une commande ?"
   ]
  },
  {
   "cell_type": "markdown",
   "metadata": {},
   "source": [
    "C'est une question piège nous n'avons aucun moyen de calculer correctement cette valeur, il faudrait que le Dataframe contienne une colonne order_processed ou autre pour pouvoir faire ce calcul.\n",
    "\n",
    "Une très mauvaise solution serait de calculer la différence de temps passée entre chaque commandes triées par order_id (1 et 2 par ex) pour essayer de trouver cette valeur. Cela ne serait pas très pertinent car les résultats ne seront pas nécessairement représentatif du temps que Jo va prendre pour traiter une commande, et si il prend une pause, qu'il n'a pas de clients pendant un moment ou ferme la pizzaria après une commande, le calcul va considérer cela comme du temps de préparation de la commande et fausser les résultats"
   ]
  },
  {
   "cell_type": "markdown",
   "metadata": {},
   "source": [
    "## 4. Analyse de la quantité :"
   ]
  },
  {
   "cell_type": "markdown",
   "metadata": {},
   "source": [
    "a. Quelle est la quantité moyenne de pizzas commandées ?"
   ]
  },
  {
   "cell_type": "code",
   "execution_count": 14,
   "metadata": {},
   "outputs": [
    {
     "data": {
      "text/plain": [
       "2.321967213114754"
      ]
     },
     "execution_count": 14,
     "metadata": {},
     "output_type": "execute_result"
    }
   ],
   "source": [
    "df.groupby('order_id')['order_id'].count().mean()"
   ]
  },
  {
   "cell_type": "markdown",
   "metadata": {},
   "source": [
    "b. Quelle est la taille de pizza la plus fréquemment commandée ?"
   ]
  },
  {
   "cell_type": "code",
   "execution_count": 15,
   "metadata": {},
   "outputs": [
    {
     "data": {
      "text/html": [
       "<div>\n",
       "<style scoped>\n",
       "    .dataframe tbody tr th:only-of-type {\n",
       "        vertical-align: middle;\n",
       "    }\n",
       "\n",
       "    .dataframe tbody tr th {\n",
       "        vertical-align: top;\n",
       "    }\n",
       "\n",
       "    .dataframe thead th {\n",
       "        text-align: right;\n",
       "    }\n",
       "</style>\n",
       "<table border=\"1\" class=\"dataframe\">\n",
       "  <thead>\n",
       "    <tr style=\"text-align: right;\">\n",
       "      <th></th>\n",
       "      <th>pizza_size</th>\n",
       "      <th>count</th>\n",
       "    </tr>\n",
       "  </thead>\n",
       "  <tbody>\n",
       "    <tr>\n",
       "      <th>0</th>\n",
       "      <td>L</td>\n",
       "      <td>18956</td>\n",
       "    </tr>\n",
       "    <tr>\n",
       "      <th>1</th>\n",
       "      <td>M</td>\n",
       "      <td>15635</td>\n",
       "    </tr>\n",
       "    <tr>\n",
       "      <th>2</th>\n",
       "      <td>S</td>\n",
       "      <td>14403</td>\n",
       "    </tr>\n",
       "    <tr>\n",
       "      <th>3</th>\n",
       "      <td>XL</td>\n",
       "      <td>552</td>\n",
       "    </tr>\n",
       "    <tr>\n",
       "      <th>4</th>\n",
       "      <td>XXL</td>\n",
       "      <td>28</td>\n",
       "    </tr>\n",
       "  </tbody>\n",
       "</table>\n",
       "</div>"
      ],
      "text/plain": [
       "  pizza_size  count\n",
       "0          L  18956\n",
       "1          M  15635\n",
       "2          S  14403\n",
       "3         XL    552\n",
       "4        XXL     28"
      ]
     },
     "execution_count": 15,
     "metadata": {},
     "output_type": "execute_result"
    }
   ],
   "source": [
    "df.pizza_size.value_counts().to_frame().reset_index()\n",
    "# df.groupby(['pizza_size'])['quantity'].count()"
   ]
  },
  {
   "cell_type": "code",
   "execution_count": 16,
   "metadata": {},
   "outputs": [
    {
     "data": {
      "text/plain": [
       "True"
      ]
     },
     "execution_count": 16,
     "metadata": {},
     "output_type": "execute_result"
    }
   ],
   "source": [
    "# validation check\n",
    "QUANTITY == df.pizza_size.value_counts().to_frame().reset_index()['count'].sum()"
   ]
  },
  {
   "cell_type": "markdown",
   "metadata": {},
   "source": [
    "c. Quelle est la catégorie de pizza la plus fréquemment commandée ?"
   ]
  },
  {
   "cell_type": "code",
   "execution_count": 17,
   "metadata": {},
   "outputs": [
    {
     "data": {
      "text/plain": [
       "pizza_category\n",
       "Classic    14888\n",
       "Supreme    11987\n",
       "Veggie     11649\n",
       "Chicken    11050\n",
       "Name: count, dtype: int64"
      ]
     },
     "execution_count": 17,
     "metadata": {},
     "output_type": "execute_result"
    }
   ],
   "source": [
    "df.pizza_category.value_counts()"
   ]
  },
  {
   "cell_type": "code",
   "execution_count": 18,
   "metadata": {},
   "outputs": [
    {
     "data": {
      "text/plain": [
       "'Classic'"
      ]
     },
     "execution_count": 18,
     "metadata": {},
     "output_type": "execute_result"
    }
   ],
   "source": [
    "df.pizza_category.value_counts().index[0]"
   ]
  },
  {
   "cell_type": "markdown",
   "metadata": {},
   "source": [
    "## 5. Analyse des prix :"
   ]
  },
  {
   "cell_type": "markdown",
   "metadata": {},
   "source": [
    "a. Quel est le prix unitaire moyen des pizzas ?"
   ]
  },
  {
   "cell_type": "code",
   "execution_count": 19,
   "metadata": {},
   "outputs": [
    {
     "data": {
      "text/plain": [
       "16.5"
      ]
     },
     "execution_count": 19,
     "metadata": {},
     "output_type": "execute_result"
    }
   ],
   "source": [
    "df.unit_price.mean().round(2)\n",
    "#quantity\n"
   ]
  },
  {
   "cell_type": "markdown",
   "metadata": {},
   "source": [
    "b. Quel est le prix total moyen d'une commande ?"
   ]
  },
  {
   "cell_type": "code",
   "execution_count": 20,
   "metadata": {},
   "outputs": [
    {
     "data": {
      "text/plain": [
       "38.31"
      ]
     },
     "execution_count": 20,
     "metadata": {},
     "output_type": "execute_result"
    }
   ],
   "source": [
    "df.groupby('order_id')['unit_price'].sum().mean().round(2)"
   ]
  },
  {
   "cell_type": "markdown",
   "metadata": {},
   "source": [
    "c. Quelle pizza a le prix unitaire le plus élevé ?"
   ]
  },
  {
   "cell_type": "code",
   "execution_count": 21,
   "metadata": {},
   "outputs": [
    {
     "data": {
      "text/plain": [
       "1"
      ]
     },
     "execution_count": 21,
     "metadata": {},
     "output_type": "execute_result"
    }
   ],
   "source": [
    "# Je vérifies d'abord qu'il y a bien une seule pizza qui à le prix le plus élevé\n",
    "df[df.unit_price == df.unit_price.max()]['pizza_id'].value_counts().count()\n",
    "\n",
    "# ceci donne le bon nom de pizza mais on peut faire un peu mieux (case en dessous)\n",
    "# df[df.unit_price == df.unit_price.max()]['pizza_name'].value_counts()[0]"
   ]
  },
  {
   "cell_type": "code",
   "execution_count": 22,
   "metadata": {},
   "outputs": [
    {
     "data": {
      "text/plain": [
       "'the_greek_xxl'"
      ]
     },
     "execution_count": 22,
     "metadata": {},
     "output_type": "execute_result"
    }
   ],
   "source": [
    "# plus fluide :\n",
    "df[df.unit_price == df.unit_price.max()].iloc[0]['pizza_id']"
   ]
  },
  {
   "cell_type": "markdown",
   "metadata": {},
   "source": [
    "## 6. Répartition par taille et catégorie :"
   ]
  },
  {
   "cell_type": "markdown",
   "metadata": {},
   "source": [
    "a. Combien de pizzas de chaque taille ont été vendues ?"
   ]
  },
  {
   "cell_type": "code",
   "execution_count": 23,
   "metadata": {},
   "outputs": [
    {
     "data": {
      "text/plain": [
       "pizza_size\n",
       "L      18956\n",
       "M      15635\n",
       "S      14403\n",
       "XL       552\n",
       "XXL       28\n",
       "dtype: int64"
      ]
     },
     "execution_count": 23,
     "metadata": {},
     "output_type": "execute_result"
    }
   ],
   "source": [
    "df.groupby('pizza_size').size()"
   ]
  },
  {
   "cell_type": "code",
   "execution_count": 24,
   "metadata": {},
   "outputs": [
    {
     "data": {
      "text/plain": [
       "True"
      ]
     },
     "execution_count": 24,
     "metadata": {},
     "output_type": "execute_result"
    }
   ],
   "source": [
    "# validity_check\n",
    "QUANTITY == df.groupby('pizza_size').size().sum()"
   ]
  },
  {
   "cell_type": "markdown",
   "metadata": {},
   "source": [
    "b. Combien de pizzas y a-t-il dans chaque catégorie ?"
   ]
  },
  {
   "cell_type": "code",
   "execution_count": 25,
   "metadata": {},
   "outputs": [
    {
     "data": {
      "text/plain": [
       "pizza_category\n",
       "Chicken    6\n",
       "Classic    8\n",
       "Supreme    9\n",
       "Veggie     9\n",
       "Name: pizza_name, dtype: int64"
      ]
     },
     "execution_count": 25,
     "metadata": {},
     "output_type": "execute_result"
    }
   ],
   "source": [
    "df.groupby('pizza_category')['pizza_name'].nunique()"
   ]
  },
  {
   "cell_type": "markdown",
   "metadata": {},
   "source": [
    "## 7. Analyse des ingrédients :"
   ]
  },
  {
   "cell_type": "markdown",
   "metadata": {},
   "source": [
    "a. Quels sont les ingrédients les plus couramment utilisés dans toutes les\n",
    "pizzas ?\n"
   ]
  },
  {
   "cell_type": "code",
   "execution_count": 26,
   "metadata": {},
   "outputs": [
    {
     "data": {
      "text/html": [
       "<div>\n",
       "<style scoped>\n",
       "    .dataframe tbody tr th:only-of-type {\n",
       "        vertical-align: middle;\n",
       "    }\n",
       "\n",
       "    .dataframe tbody tr th {\n",
       "        vertical-align: top;\n",
       "    }\n",
       "\n",
       "    .dataframe thead th {\n",
       "        text-align: right;\n",
       "    }\n",
       "</style>\n",
       "<table border=\"1\" class=\"dataframe\">\n",
       "  <thead>\n",
       "    <tr style=\"text-align: right;\">\n",
       "      <th></th>\n",
       "      <th>count</th>\n",
       "    </tr>\n",
       "    <tr>\n",
       "      <th>pizza_ingredients</th>\n",
       "      <th></th>\n",
       "    </tr>\n",
       "  </thead>\n",
       "  <tbody>\n",
       "    <tr>\n",
       "      <th>Garlic</th>\n",
       "      <td>27913</td>\n",
       "    </tr>\n",
       "    <tr>\n",
       "      <th>Tomatoes</th>\n",
       "      <td>27052</td>\n",
       "    </tr>\n",
       "    <tr>\n",
       "      <th>Red Onions</th>\n",
       "      <td>19834</td>\n",
       "    </tr>\n",
       "    <tr>\n",
       "      <th>Red Peppers</th>\n",
       "      <td>16562</td>\n",
       "    </tr>\n",
       "    <tr>\n",
       "      <th>Mozzarella Cheese</th>\n",
       "      <td>10569</td>\n",
       "    </tr>\n",
       "    <tr>\n",
       "      <th>...</th>\n",
       "      <td>...</td>\n",
       "    </tr>\n",
       "    <tr>\n",
       "      <th>Brie Carre Cheese</th>\n",
       "      <td>490</td>\n",
       "    </tr>\n",
       "    <tr>\n",
       "      <th>Prosciutto</th>\n",
       "      <td>490</td>\n",
       "    </tr>\n",
       "    <tr>\n",
       "      <th>Caramelized Onions</th>\n",
       "      <td>490</td>\n",
       "    </tr>\n",
       "    <tr>\n",
       "      <th>Pears</th>\n",
       "      <td>490</td>\n",
       "    </tr>\n",
       "    <tr>\n",
       "      <th>Thyme</th>\n",
       "      <td>490</td>\n",
       "    </tr>\n",
       "  </tbody>\n",
       "</table>\n",
       "<p>65 rows × 1 columns</p>\n",
       "</div>"
      ],
      "text/plain": [
       "                    count\n",
       "pizza_ingredients        \n",
       "Garlic              27913\n",
       "Tomatoes            27052\n",
       "Red Onions          19834\n",
       "Red Peppers         16562\n",
       "Mozzarella Cheese   10569\n",
       "...                   ...\n",
       "Brie Carre Cheese     490\n",
       "Prosciutto            490\n",
       "Caramelized Onions    490\n",
       "Pears                 490\n",
       "Thyme                 490\n",
       "\n",
       "[65 rows x 1 columns]"
      ]
     },
     "execution_count": 26,
     "metadata": {},
     "output_type": "execute_result"
    }
   ],
   "source": [
    "# avoiding repeating operation error by checking if last element of the\n",
    "# column has already been converted to a list instead of string\n",
    "if not isinstance(df.pizza_ingredients[df.pizza_ingredients.shape[0]-1], list):\n",
    "    # cleaning list of ingredients\n",
    "    df.pizza_ingredients = df.pizza_ingredients.apply(lambda x : x.split(', '))\n",
    "df.pizza_ingredients.explode().value_counts().to_frame()\n"
   ]
  },
  {
   "cell_type": "markdown",
   "metadata": {},
   "source": [
    "b. Combien de pizzas contiennent un ingrédient spécifique (par exemple,\n",
    "pepperoni, champignons) ?"
   ]
  },
  {
   "cell_type": "code",
   "execution_count": 27,
   "metadata": {},
   "outputs": [],
   "source": [
    "# Just making sure df_filtered\n",
    "df_filtered = df.drop_duplicates(subset='pizza_ingredients')"
   ]
  },
  {
   "cell_type": "code",
   "execution_count": 58,
   "metadata": {},
   "outputs": [
    {
     "data": {
      "text/html": [
       "<div>\n",
       "<style scoped>\n",
       "    .dataframe tbody tr th:only-of-type {\n",
       "        vertical-align: middle;\n",
       "    }\n",
       "\n",
       "    .dataframe tbody tr th {\n",
       "        vertical-align: top;\n",
       "    }\n",
       "\n",
       "    .dataframe thead th {\n",
       "        text-align: right;\n",
       "    }\n",
       "</style>\n",
       "<table border=\"1\" class=\"dataframe\">\n",
       "  <thead>\n",
       "    <tr style=\"text-align: right;\">\n",
       "      <th></th>\n",
       "      <th>pizza_category</th>\n",
       "      <th>ingredient_count</th>\n",
       "    </tr>\n",
       "  </thead>\n",
       "  <tbody>\n",
       "    <tr>\n",
       "      <th>0</th>\n",
       "      <td>Chicken</td>\n",
       "      <td>2</td>\n",
       "    </tr>\n",
       "    <tr>\n",
       "      <th>1</th>\n",
       "      <td>Classic</td>\n",
       "      <td>3</td>\n",
       "    </tr>\n",
       "    <tr>\n",
       "      <th>2</th>\n",
       "      <td>Supreme</td>\n",
       "      <td>8</td>\n",
       "    </tr>\n",
       "    <tr>\n",
       "      <th>3</th>\n",
       "      <td>Veggie</td>\n",
       "      <td>7</td>\n",
       "    </tr>\n",
       "  </tbody>\n",
       "</table>\n",
       "</div>"
      ],
      "text/plain": [
       "  pizza_category  ingredient_count\n",
       "0        Chicken                 2\n",
       "1        Classic                 3\n",
       "2        Supreme                 8\n",
       "3         Veggie                 7"
      ]
     },
     "execution_count": 58,
     "metadata": {},
     "output_type": "execute_result"
    }
   ],
   "source": [
    "# Pour une raison étrange il faut activer 2 fois celle cellules pour ne pas reçevoir l'avertissement de non utilisation du .loc\n",
    "# je n'ai pas déterminé la source du problème malgré l'addition du .loc\n",
    "ingredient = 'Garlic'\n",
    "\n",
    "df_filtered.loc[:,'ingredient_count'] = df_filtered.loc[:,('pizza_ingredients')].apply(lambda x: x.count(ingredient) if isinstance(x, list) else 0)\n",
    "df_filtered.groupby('pizza_category')['ingredient_count'].sum().reset_index()\n"
   ]
  },
  {
   "cell_type": "markdown",
   "metadata": {},
   "source": [
    "## 8. Détails de la commande :"
   ]
  },
  {
   "cell_type": "markdown",
   "metadata": {},
   "source": [
    "a. Quelle est la répartition du nombre de pizzas par commande ?"
   ]
  },
  {
   "cell_type": "code",
   "execution_count": 29,
   "metadata": {},
   "outputs": [
    {
     "data": {
      "text/plain": [
       "order_id\n",
       "1        1\n",
       "2        5\n",
       "3        2\n",
       "4        1\n",
       "5        1\n",
       "        ..\n",
       "21346    4\n",
       "21347    4\n",
       "21348    3\n",
       "21349    1\n",
       "21350    1\n",
       "Length: 21350, dtype: int64"
      ]
     },
     "execution_count": 29,
     "metadata": {},
     "output_type": "execute_result"
    }
   ],
   "source": [
    "df.groupby('order_id').size()"
   ]
  },
  {
   "cell_type": "code",
   "execution_count": 30,
   "metadata": {},
   "outputs": [
    {
     "name": "stdout",
     "output_type": "stream",
     "text": [
      "28\n"
     ]
    },
    {
     "data": {
      "text/plain": [
       "order_id\n",
       "18845    28\n",
       "dtype: int64"
      ]
     },
     "execution_count": 30,
     "metadata": {},
     "output_type": "execute_result"
    }
   ],
   "source": [
    "print(len(df[df.order_id == 18845]))\n",
    "df.groupby('order_id').size()[df.groupby('order_id').size() == 28]"
   ]
  },
  {
   "cell_type": "code",
   "execution_count": 31,
   "metadata": {},
   "outputs": [
    {
     "data": {
      "text/plain": [
       "21350"
      ]
     },
     "execution_count": 31,
     "metadata": {},
     "output_type": "execute_result"
    }
   ],
   "source": [
    "df.order_id.nunique()"
   ]
  },
  {
   "cell_type": "code",
   "execution_count": 32,
   "metadata": {},
   "outputs": [
    {
     "data": {
      "text/plain": [
       "1     8111\n",
       "2     6152\n",
       "3     3207\n",
       "4     3122\n",
       "5      145\n",
       "6       80\n",
       "8       67\n",
       "14      66\n",
       "9       64\n",
       "7       61\n",
       "15      57\n",
       "10      56\n",
       "11      56\n",
       "12      54\n",
       "13      50\n",
       "25       1\n",
       "28       1\n",
       "Name: count, dtype: int64"
      ]
     },
     "execution_count": 32,
     "metadata": {},
     "output_type": "execute_result"
    }
   ],
   "source": [
    "df.groupby('order_id').size().value_counts()"
   ]
  },
  {
   "cell_type": "code",
   "execution_count": 62,
   "metadata": {},
   "outputs": [
    {
     "data": {
      "text/html": [
       "<div>\n",
       "<style scoped>\n",
       "    .dataframe tbody tr th:only-of-type {\n",
       "        vertical-align: middle;\n",
       "    }\n",
       "\n",
       "    .dataframe tbody tr th {\n",
       "        vertical-align: top;\n",
       "    }\n",
       "\n",
       "    .dataframe thead th {\n",
       "        text-align: right;\n",
       "    }\n",
       "</style>\n",
       "<table border=\"1\" class=\"dataframe\">\n",
       "  <thead>\n",
       "    <tr style=\"text-align: right;\">\n",
       "      <th></th>\n",
       "      <th>pizzas_per_order</th>\n",
       "      <th>count</th>\n",
       "    </tr>\n",
       "  </thead>\n",
       "  <tbody>\n",
       "    <tr>\n",
       "      <th>0</th>\n",
       "      <td>1</td>\n",
       "      <td>8111</td>\n",
       "    </tr>\n",
       "    <tr>\n",
       "      <th>1</th>\n",
       "      <td>2</td>\n",
       "      <td>6152</td>\n",
       "    </tr>\n",
       "    <tr>\n",
       "      <th>2</th>\n",
       "      <td>3</td>\n",
       "      <td>3207</td>\n",
       "    </tr>\n",
       "    <tr>\n",
       "      <th>3</th>\n",
       "      <td>4</td>\n",
       "      <td>3122</td>\n",
       "    </tr>\n",
       "    <tr>\n",
       "      <th>4</th>\n",
       "      <td>5</td>\n",
       "      <td>145</td>\n",
       "    </tr>\n",
       "    <tr>\n",
       "      <th>5</th>\n",
       "      <td>6</td>\n",
       "      <td>80</td>\n",
       "    </tr>\n",
       "    <tr>\n",
       "      <th>6</th>\n",
       "      <td>8</td>\n",
       "      <td>67</td>\n",
       "    </tr>\n",
       "    <tr>\n",
       "      <th>7</th>\n",
       "      <td>14</td>\n",
       "      <td>66</td>\n",
       "    </tr>\n",
       "    <tr>\n",
       "      <th>8</th>\n",
       "      <td>9</td>\n",
       "      <td>64</td>\n",
       "    </tr>\n",
       "    <tr>\n",
       "      <th>9</th>\n",
       "      <td>7</td>\n",
       "      <td>61</td>\n",
       "    </tr>\n",
       "    <tr>\n",
       "      <th>10</th>\n",
       "      <td>15</td>\n",
       "      <td>57</td>\n",
       "    </tr>\n",
       "    <tr>\n",
       "      <th>11</th>\n",
       "      <td>10</td>\n",
       "      <td>56</td>\n",
       "    </tr>\n",
       "    <tr>\n",
       "      <th>12</th>\n",
       "      <td>11</td>\n",
       "      <td>56</td>\n",
       "    </tr>\n",
       "    <tr>\n",
       "      <th>13</th>\n",
       "      <td>12</td>\n",
       "      <td>54</td>\n",
       "    </tr>\n",
       "    <tr>\n",
       "      <th>14</th>\n",
       "      <td>13</td>\n",
       "      <td>50</td>\n",
       "    </tr>\n",
       "    <tr>\n",
       "      <th>15</th>\n",
       "      <td>25</td>\n",
       "      <td>1</td>\n",
       "    </tr>\n",
       "    <tr>\n",
       "      <th>16</th>\n",
       "      <td>28</td>\n",
       "      <td>1</td>\n",
       "    </tr>\n",
       "  </tbody>\n",
       "</table>\n",
       "</div>"
      ],
      "text/plain": [
       "    pizzas_per_order  count\n",
       "0                  1   8111\n",
       "1                  2   6152\n",
       "2                  3   3207\n",
       "3                  4   3122\n",
       "4                  5    145\n",
       "5                  6     80\n",
       "6                  8     67\n",
       "7                 14     66\n",
       "8                  9     64\n",
       "9                  7     61\n",
       "10                15     57\n",
       "11                10     56\n",
       "12                11     56\n",
       "13                12     54\n",
       "14                13     50\n",
       "15                25      1\n",
       "16                28      1"
      ]
     },
     "execution_count": 62,
     "metadata": {},
     "output_type": "execute_result"
    }
   ],
   "source": [
    "# df.groupby('order_id').size().value_counts().to_frame()\n",
    "temp_df = df.groupby('order_id').size().value_counts().to_frame().reset_index().rename(columns={'index': 'pizzas_per_order'})\n",
    "temp_df"
   ]
  },
  {
   "cell_type": "code",
   "execution_count": 63,
   "metadata": {},
   "outputs": [
    {
     "data": {
      "text/plain": [
       "0      8111\n",
       "1     12304\n",
       "2      9621\n",
       "3     12488\n",
       "4       725\n",
       "5       480\n",
       "6       536\n",
       "7       924\n",
       "8       576\n",
       "9       427\n",
       "10      855\n",
       "11      560\n",
       "12      616\n",
       "13      648\n",
       "14      650\n",
       "15       25\n",
       "16       28\n",
       "dtype: int64"
      ]
     },
     "execution_count": 63,
     "metadata": {},
     "output_type": "execute_result"
    }
   ],
   "source": [
    "temp_df.pizzas_per_order*temp_df['count']\n",
    "# QUANTITY =="
   ]
  },
  {
   "cell_type": "code",
   "execution_count": 64,
   "metadata": {},
   "outputs": [
    {
     "data": {
      "image/png": "[encoded data removed]",
      "text/plain": [
       "<Figure size 640x480 with 1 Axes>"
      ]
     },
     "metadata": {},
     "output_type": "display_data"
    }
   ],
   "source": [
    "sns.barplot(x=temp_df.pizzas_per_order, y=temp_df['count'], data=df)\n",
    "plt.xlabel('Nombres de pizzas par commandes')\n",
    "plt.ylabel('Compte')\n",
    "plt.title('Répartition du nombre de pizzas par commandes')\n",
    "plt.show()"
   ]
  },
  {
   "cell_type": "markdown",
   "metadata": {},
   "source": [
    "b. Quelle est la répartition des prix totaux pour les commandes ?"
   ]
  },
  {
   "cell_type": "code",
   "execution_count": 36,
   "metadata": {},
   "outputs": [
    {
     "name": "stdout",
     "output_type": "stream",
     "text": [
      "prix le plus élevé dépense lors d'une commande 444.2\n",
      "Différence notable de 161.7\n"
     ]
    }
   ],
   "source": [
    "# Pour illustrer ma démarche initiale de modification du dataframe\n",
    "# Dans ce scénario également sans la décomposition du dataframe la question devient largement plus complexe à traiter\n",
    "print(f\"prix le plus élevé dépense lors d'une commande {df.groupby(['order_id'])['unit_price'].sum().max()}\")\n",
    "\n",
    "\n",
    "# Avec la formule df.groupby(['order_id','quantity'])['total_price'].sum().max() on aurait trouvé 282.65 soit\n",
    "print(f\"Différence notable de {df.groupby(['order_id'])['unit_price'].sum().max()-282.5}\")"
   ]
  },
  {
   "cell_type": "code",
   "execution_count": 37,
   "metadata": {},
   "outputs": [
    {
     "data": {
      "text/plain": [
       "444.2"
      ]
     },
     "execution_count": 37,
     "metadata": {},
     "output_type": "execute_result"
    }
   ],
   "source": [
    "# Il s'agit bien sûr de l'unique commande à 28 pizzas\n",
    "df[df.order_id == 18845].unit_price.sum()"
   ]
  },
  {
   "cell_type": "code",
   "execution_count": 38,
   "metadata": {},
   "outputs": [
    {
     "data": {
      "text/plain": [
       "<Axes: xlabel='unit_price', ylabel='Count'>"
      ]
     },
     "execution_count": 38,
     "metadata": {},
     "output_type": "execute_result"
    },
    {
     "data": {
      "image/png": "[encoded data removed]",
      "text/plain": [
       "<Figure size 640x480 with 1 Axes>"
      ]
     },
     "metadata": {},
     "output_type": "display_data"
    }
   ],
   "source": [
    "sns.histplot(df.groupby(['order_id'])['unit_price'].sum(), kde=True)\n"
   ]
  },
  {
   "cell_type": "code",
   "execution_count": 39,
   "metadata": {},
   "outputs": [
    {
     "data": {
      "image/png": "[encoded data removed]",
      "text/plain": [
       "<Figure size 640x480 with 1 Axes>"
      ]
     },
     "metadata": {},
     "output_type": "display_data"
    }
   ],
   "source": [
    "# Si cette donnée nous intéresse réellement, il me parait plus judicieux de classifier les commandes dans une nouvelle colonne\n",
    "# par tranches de prix totaux des commandes. ici 3 choisit arbitrairement. 1/3 par catégorie.\n",
    "\n",
    "df['total_price_quartile'] = pd.qcut(df['unit_price'], q=[0, 0.33,  0.66, 1],\n",
    "    labels=['low_price_pizza', 'medium_price_pizza', 'high_price_pizza'])\n",
    "\n",
    "temp_df_quarts = df.groupby('total_price_quartile')['unit_price'].mean().reset_index()\n",
    "plt.bar(temp_df_quarts['total_price_quartile'], temp_df_quarts['unit_price'])\n",
    "plt.ylabel('Prix moyen d\\'une pizza par tranches de prix')\n",
    "plt.title('Présentation des tranches de prix par pizza')\n",
    "plt.show()\n"
   ]
  },
  {
   "cell_type": "code",
   "execution_count": 40,
   "metadata": {},
   "outputs": [
    {
     "data": {
      "text/plain": [
       "<Axes: xlabel='unit_price', ylabel='Count'>"
      ]
     },
     "execution_count": 40,
     "metadata": {},
     "output_type": "execute_result"
    },
    {
     "data": {
      "image/png": "[encoded data removed]",
      "text/plain": [
       "<Figure size 640x480 with 1 Axes>"
      ]
     },
     "metadata": {},
     "output_type": "display_data"
    }
   ],
   "source": [
    "sns.histplot(df.unit_price)\n",
    "#  need to add bins to this plots around prices ranges"
   ]
  },
  {
   "cell_type": "code",
   "execution_count": 41,
   "metadata": {},
   "outputs": [
    {
     "data": {
      "text/plain": [
       "count    49574.000000\n",
       "mean        16.497762\n",
       "std          3.621954\n",
       "min          9.750000\n",
       "25%         12.750000\n",
       "50%         16.500000\n",
       "75%         20.250000\n",
       "max         35.950000\n",
       "Name: unit_price, dtype: float64"
      ]
     },
     "execution_count": 41,
     "metadata": {},
     "output_type": "execute_result"
    }
   ],
   "source": [
    "df.unit_price.describe()"
   ]
  },
  {
   "cell_type": "markdown",
   "metadata": {},
   "source": [
    "## 9. Analyse du chiffre d’affaires en fonction du temps :"
   ]
  },
  {
   "cell_type": "markdown",
   "metadata": {},
   "source": [
    "a. Quel est le chiffre d'affaires quotidien ?\n"
   ]
  },
  {
   "cell_type": "markdown",
   "metadata": {},
   "source": [
    "Chiffre d'affaires quotidien\n",
    "(Le Dataset étant réparti sur une année complète)"
   ]
  },
  {
   "cell_type": "code",
   "execution_count": 66,
   "metadata": {},
   "outputs": [
    {
     "data": {
      "text/plain": [
       "order_date\n",
       "2015-01-01    2713.85\n",
       "2015-01-02    2731.90\n",
       "2015-01-03    2662.40\n",
       "2015-01-04    1755.45\n",
       "2015-01-05    2065.95\n",
       "               ...   \n",
       "2015-12-27    1419.00\n",
       "2015-12-28    1637.20\n",
       "2015-12-29    1353.25\n",
       "2015-12-30    1337.80\n",
       "2015-12-31    2916.00\n",
       "Name: unit_price, Length: 358, dtype: float64"
      ]
     },
     "execution_count": 66,
     "metadata": {},
     "output_type": "execute_result"
    }
   ],
   "source": [
    "# trie par jour nativement\n",
    "# Cette commande est fausse si je n'avais pas démantelé la colonne quantity car elle n'aurait pas pris en compte toutes les pizzas\n",
    "# commandées et aurait ignoré la multiplication de unit_price*quantity\n",
    "# C'est un example parmi tant d'autres\n",
    "df.groupby('order_date')['unit_price'].sum()"
   ]
  },
  {
   "cell_type": "markdown",
   "metadata": {},
   "source": [
    "Chiffre d'affaires quotidien moyen"
   ]
  },
  {
   "cell_type": "code",
   "execution_count": 43,
   "metadata": {},
   "outputs": [
    {
     "data": {
      "text/plain": [
       "2284.5252793296086"
      ]
     },
     "execution_count": 43,
     "metadata": {},
     "output_type": "execute_result"
    }
   ],
   "source": [
    "df.groupby('order_date')['unit_price'].sum().mean()"
   ]
  },
  {
   "cell_type": "markdown",
   "metadata": {},
   "source": [
    "b. Y a-t-il une corrélation entre l'heure de la journée et le total de la\n",
    "commande ?"
   ]
  },
  {
   "cell_type": "markdown",
   "metadata": {},
   "source": [
    "On réutilise la colonne order_price créée précédemment."
   ]
  },
  {
   "cell_type": "code",
   "execution_count": 44,
   "metadata": {},
   "outputs": [
    {
     "data": {
      "text/html": [
       "<div>\n",
       "<style scoped>\n",
       "    .dataframe tbody tr th:only-of-type {\n",
       "        vertical-align: middle;\n",
       "    }\n",
       "\n",
       "    .dataframe tbody tr th {\n",
       "        vertical-align: top;\n",
       "    }\n",
       "\n",
       "    .dataframe thead th {\n",
       "        text-align: right;\n",
       "    }\n",
       "</style>\n",
       "<table border=\"1\" class=\"dataframe\">\n",
       "  <thead>\n",
       "    <tr style=\"text-align: right;\">\n",
       "      <th></th>\n",
       "      <th>order_time_range</th>\n",
       "      <th>unit_price</th>\n",
       "    </tr>\n",
       "  </thead>\n",
       "  <tbody>\n",
       "    <tr>\n",
       "      <th>0</th>\n",
       "      <td>09-10h</td>\n",
       "      <td>83.00</td>\n",
       "    </tr>\n",
       "    <tr>\n",
       "      <th>1</th>\n",
       "      <td>10-11h</td>\n",
       "      <td>303.65</td>\n",
       "    </tr>\n",
       "    <tr>\n",
       "      <th>2</th>\n",
       "      <td>11-12h</td>\n",
       "      <td>44935.80</td>\n",
       "    </tr>\n",
       "    <tr>\n",
       "      <th>3</th>\n",
       "      <td>12-13h</td>\n",
       "      <td>111877.90</td>\n",
       "    </tr>\n",
       "    <tr>\n",
       "      <th>4</th>\n",
       "      <td>13-14h</td>\n",
       "      <td>106065.70</td>\n",
       "    </tr>\n",
       "    <tr>\n",
       "      <th>5</th>\n",
       "      <td>14-15h</td>\n",
       "      <td>59201.40</td>\n",
       "    </tr>\n",
       "    <tr>\n",
       "      <th>6</th>\n",
       "      <td>15-16h</td>\n",
       "      <td>52992.30</td>\n",
       "    </tr>\n",
       "    <tr>\n",
       "      <th>7</th>\n",
       "      <td>16-17h</td>\n",
       "      <td>70055.40</td>\n",
       "    </tr>\n",
       "    <tr>\n",
       "      <th>8</th>\n",
       "      <td>17-18h</td>\n",
       "      <td>86237.45</td>\n",
       "    </tr>\n",
       "    <tr>\n",
       "      <th>9</th>\n",
       "      <td>18-19h</td>\n",
       "      <td>89296.85</td>\n",
       "    </tr>\n",
       "    <tr>\n",
       "      <th>10</th>\n",
       "      <td>19-20h</td>\n",
       "      <td>72628.90</td>\n",
       "    </tr>\n",
       "    <tr>\n",
       "      <th>11</th>\n",
       "      <td>20-21h</td>\n",
       "      <td>58215.40</td>\n",
       "    </tr>\n",
       "    <tr>\n",
       "      <th>12</th>\n",
       "      <td>21-22h</td>\n",
       "      <td>42029.80</td>\n",
       "    </tr>\n",
       "    <tr>\n",
       "      <th>13</th>\n",
       "      <td>22-23h</td>\n",
       "      <td>22815.15</td>\n",
       "    </tr>\n",
       "    <tr>\n",
       "      <th>14</th>\n",
       "      <td>23-00h</td>\n",
       "      <td>1121.35</td>\n",
       "    </tr>\n",
       "  </tbody>\n",
       "</table>\n",
       "</div>"
      ],
      "text/plain": [
       "   order_time_range  unit_price\n",
       "0            09-10h       83.00\n",
       "1            10-11h      303.65\n",
       "2            11-12h    44935.80\n",
       "3            12-13h   111877.90\n",
       "4            13-14h   106065.70\n",
       "5            14-15h    59201.40\n",
       "6            15-16h    52992.30\n",
       "7            16-17h    70055.40\n",
       "8            17-18h    86237.45\n",
       "9            18-19h    89296.85\n",
       "10           19-20h    72628.90\n",
       "11           20-21h    58215.40\n",
       "12           21-22h    42029.80\n",
       "13           22-23h    22815.15\n",
       "14           23-00h     1121.35"
      ]
     },
     "execution_count": 44,
     "metadata": {},
     "output_type": "execute_result"
    }
   ],
   "source": [
    "# avoiding repeat process errors\n",
    "if df['order_time'].dtype != 'datetime64[ns]':\n",
    "    df['order_time'] = pd.to_datetime(df['order_time'].astype(str), format='%H:%M:%S')\n",
    "\n",
    "temp_df = df.groupby([pd.Grouper(key='order_time', freq='H')])['unit_price'].sum().reset_index()\n",
    "temp_df['start_time'] = temp_df['order_time'].dt.strftime('%H')\n",
    "temp_df['order_time_range'] = temp_df['start_time'] + '-' + (temp_df['order_time'] + pd.Timedelta(hours=1)).dt.strftime('%H') + 'h'\n",
    "\n",
    "\n",
    "temp_df[['order_time_range', 'unit_price']]\n"
   ]
  },
  {
   "cell_type": "code",
   "execution_count": 45,
   "metadata": {},
   "outputs": [
    {
     "data": {
      "image/png": "[encoded data removed]",
      "text/plain": [
       "<Figure size 640x480 with 1 Axes>"
      ]
     },
     "metadata": {},
     "output_type": "display_data"
    }
   ],
   "source": [
    "\n",
    "plt.bar(temp_df['order_time_range'], temp_df['unit_price'])\n",
    "plt.ylabel('Sales')\n",
    "plt.title('Yearly sales per hour')\n",
    "plt.xticks(rotation=45)\n",
    "plt.show()\n"
   ]
  },
  {
   "cell_type": "markdown",
   "metadata": {},
   "source": [
    "## 10.Pizzas populaires :"
   ]
  },
  {
   "cell_type": "markdown",
   "metadata": {},
   "source": [
    "a. Quelles sont les 5 pizzas les plus commandées en quantité ?"
   ]
  },
  {
   "cell_type": "code",
   "execution_count": 46,
   "metadata": {},
   "outputs": [],
   "source": [
    "# sorting value again after filtering to get top value at the top\n",
    "temp_serie = pd.Series(dict(df.groupby('pizza_id')['pizza_id'].count()))\\\n",
    "    .sort_values(ascending=False)[0:5].sort_values(ascending=True)"
   ]
  },
  {
   "cell_type": "code",
   "execution_count": 47,
   "metadata": {},
   "outputs": [
    {
     "data": {
      "image/png": "[encoded data removed]",
      "text/plain": [
       "<Figure size 640x480 with 1 Axes>"
      ]
     },
     "metadata": {},
     "output_type": "display_data"
    }
   ],
   "source": [
    "plt.barh(temp_serie.index, temp_serie.values, color='skyblue')\n",
    "plt.xlabel('Quantity')\n",
    "plt.ylabel('Pizza ID')\n",
    "plt.title('Top 5 Selling Pizzas')\n",
    "plt.show()"
   ]
  },
  {
   "cell_type": "markdown",
   "metadata": {},
   "source": [
    "b. Quelles sont les 5 pizzas les plus commandées en termes de chiffre\n",
    "d'affaires ?"
   ]
  },
  {
   "cell_type": "code",
   "execution_count": 48,
   "metadata": {},
   "outputs": [
    {
     "data": {
      "text/html": [
       "<div>\n",
       "<style scoped>\n",
       "    .dataframe tbody tr th:only-of-type {\n",
       "        vertical-align: middle;\n",
       "    }\n",
       "\n",
       "    .dataframe tbody tr th {\n",
       "        vertical-align: top;\n",
       "    }\n",
       "\n",
       "    .dataframe thead th {\n",
       "        text-align: right;\n",
       "    }\n",
       "</style>\n",
       "<table border=\"1\" class=\"dataframe\">\n",
       "  <thead>\n",
       "    <tr style=\"text-align: right;\">\n",
       "      <th></th>\n",
       "      <th>pizza_id</th>\n",
       "      <th>unit_price</th>\n",
       "    </tr>\n",
       "  </thead>\n",
       "  <tbody>\n",
       "    <tr>\n",
       "      <th>0</th>\n",
       "      <td>thai_ckn_l</td>\n",
       "      <td>29257.50</td>\n",
       "    </tr>\n",
       "    <tr>\n",
       "      <th>1</th>\n",
       "      <td>five_cheese_l</td>\n",
       "      <td>26066.50</td>\n",
       "    </tr>\n",
       "    <tr>\n",
       "      <th>2</th>\n",
       "      <td>four_cheese_l</td>\n",
       "      <td>23622.20</td>\n",
       "    </tr>\n",
       "    <tr>\n",
       "      <th>3</th>\n",
       "      <td>spicy_ital_l</td>\n",
       "      <td>23011.75</td>\n",
       "    </tr>\n",
       "    <tr>\n",
       "      <th>4</th>\n",
       "      <td>big_meat_s</td>\n",
       "      <td>22968.00</td>\n",
       "    </tr>\n",
       "    <tr>\n",
       "      <th>...</th>\n",
       "      <td>...</td>\n",
       "      <td>...</td>\n",
       "    </tr>\n",
       "    <tr>\n",
       "      <th>86</th>\n",
       "      <td>mexicana_s</td>\n",
       "      <td>1944.00</td>\n",
       "    </tr>\n",
       "    <tr>\n",
       "      <th>87</th>\n",
       "      <td>green_garden_l</td>\n",
       "      <td>1923.75</td>\n",
       "    </tr>\n",
       "    <tr>\n",
       "      <th>88</th>\n",
       "      <td>ckn_alfredo_s</td>\n",
       "      <td>1224.00</td>\n",
       "    </tr>\n",
       "    <tr>\n",
       "      <th>89</th>\n",
       "      <td>calabrese_s</td>\n",
       "      <td>1212.75</td>\n",
       "    </tr>\n",
       "    <tr>\n",
       "      <th>90</th>\n",
       "      <td>the_greek_xxl</td>\n",
       "      <td>1006.60</td>\n",
       "    </tr>\n",
       "  </tbody>\n",
       "</table>\n",
       "<p>91 rows × 2 columns</p>\n",
       "</div>"
      ],
      "text/plain": [
       "          pizza_id  unit_price\n",
       "0       thai_ckn_l    29257.50\n",
       "1    five_cheese_l    26066.50\n",
       "2    four_cheese_l    23622.20\n",
       "3     spicy_ital_l    23011.75\n",
       "4       big_meat_s    22968.00\n",
       "..             ...         ...\n",
       "86      mexicana_s     1944.00\n",
       "87  green_garden_l     1923.75\n",
       "88   ckn_alfredo_s     1224.00\n",
       "89     calabrese_s     1212.75\n",
       "90   the_greek_xxl     1006.60\n",
       "\n",
       "[91 rows x 2 columns]"
      ]
     },
     "execution_count": 48,
     "metadata": {},
     "output_type": "execute_result"
    }
   ],
   "source": [
    "df.groupby('pizza_id')['unit_price'].sum().reset_index().sort_values(by='unit_price', ascending=False)\\\n",
    "    .reset_index().drop(columns='index')\n"
   ]
  },
  {
   "cell_type": "markdown",
   "metadata": {},
   "source": [
    "## 11.Chiffre d'affaires par taille et catégorie :"
   ]
  },
  {
   "cell_type": "markdown",
   "metadata": {},
   "source": [
    "a. Quelle est la répartition du chiffre d'affaires pour chaque taille de pizza ?"
   ]
  },
  {
   "cell_type": "code",
   "execution_count": 49,
   "metadata": {},
   "outputs": [
    {
     "data": {
      "text/plain": [
       "pizza_size\n",
       "L      375318.70\n",
       "M      249382.25\n",
       "S      178076.50\n",
       "XL      14076.00\n",
       "XXL      1006.60\n",
       "Name: unit_price, dtype: float64"
      ]
     },
     "execution_count": 49,
     "metadata": {},
     "output_type": "execute_result"
    }
   ],
   "source": [
    "# trie par jour nativement\n",
    "df.groupby('pizza_size')['unit_price'].sum()"
   ]
  },
  {
   "cell_type": "markdown",
   "metadata": {},
   "source": [
    "b. Quelle est la répartition du chiffre d'affaires pour chaque catégorie de\n",
    "pizza ?"
   ]
  },
  {
   "cell_type": "code",
   "execution_count": 50,
   "metadata": {},
   "outputs": [
    {
     "data": {
      "text/plain": [
       "pizza_category\n",
       "Chicken    195919.50\n",
       "Classic    220053.10\n",
       "Supreme    208197.00\n",
       "Veggie     193690.45\n",
       "Name: unit_price, dtype: float64"
      ]
     },
     "execution_count": 50,
     "metadata": {},
     "output_type": "execute_result"
    }
   ],
   "source": [
    "# trie par jour nativement\n",
    "df.groupby('pizza_category')['unit_price'].sum()"
   ]
  },
  {
   "cell_type": "markdown",
   "metadata": {},
   "source": [
    "## 12.Corrélation entre prix et quantité :"
   ]
  },
  {
   "cell_type": "markdown",
   "metadata": {},
   "source": [
    "a. Y a-t-il une corrélation entre le prix unitaire et la quantité commandée ?"
   ]
  },
  {
   "cell_type": "markdown",
   "metadata": {},
   "source": [
    "Le plus proche de 1, plus la corrélation est significante.\n",
    "Dans ce cas précis, elle est assez insignifiante dans la mesure où la plupart des commandes ne contiennent qu'une fois la même pizza."
   ]
  },
  {
   "cell_type": "code",
   "execution_count": 70,
   "metadata": {},
   "outputs": [
    {
     "data": {
      "text/plain": [
       "0.00714"
      ]
     },
     "execution_count": 70,
     "metadata": {},
     "output_type": "execute_result"
    }
   ],
   "source": [
    "df_original.quantity.corr(df.unit_price).round(5)"
   ]
  },
  {
   "cell_type": "markdown",
   "metadata": {},
   "source": [
    "b. Quel est le prix unitaire moyen pour différentes tailles de pizza ?"
   ]
  },
  {
   "cell_type": "markdown",
   "metadata": {},
   "source": [
    "La méthode à employée est bien plus simple avec la modification actuelle du df"
   ]
  },
  {
   "cell_type": "code",
   "execution_count": 52,
   "metadata": {},
   "outputs": [
    {
     "data": {
      "text/plain": [
       "pizza_size\n",
       "L      19.799467\n",
       "M      15.950256\n",
       "S      12.363848\n",
       "XL     25.500000\n",
       "XXL    35.950000\n",
       "Name: unit_price, dtype: float64"
      ]
     },
     "execution_count": 52,
     "metadata": {},
     "output_type": "execute_result"
    }
   ],
   "source": [
    "df.groupby('pizza_size')['unit_price'].mean()\n",
    "\n",
    "\n",
    "# df['pizza_size'] = pd.Categorical(df['pizza_size'], categories=['S', 'M', 'L', 'XL', 'XXL'],\\\n",
    "#     ordered=True)\n",
    "# df.sort_values(by='pizza_size').groupby('pizza_size')['unit_price'].mean()\n"
   ]
  },
  {
   "cell_type": "markdown",
   "metadata": {},
   "source": [
    "## 13.Tendances saisonnières :"
   ]
  },
  {
   "cell_type": "markdown",
   "metadata": {},
   "source": [
    "a. Y a-t-il des tendances saisonnières dans les commandes de pizza ?"
   ]
  },
  {
   "cell_type": "code",
   "execution_count": 53,
   "metadata": {},
   "outputs": [
    {
     "data": {
      "text/plain": [
       "0       1900-01-01 11:38:36\n",
       "1       1900-01-01 11:57:40\n",
       "2       1900-01-01 11:57:40\n",
       "3       1900-01-01 11:57:40\n",
       "4       1900-01-01 11:57:40\n",
       "                ...        \n",
       "49569   1900-01-01 21:23:10\n",
       "49570   1900-01-01 21:23:10\n",
       "49571   1900-01-01 21:23:10\n",
       "49572   1900-01-01 22:09:54\n",
       "49573   1900-01-01 23:02:05\n",
       "Name: order_time, Length: 49574, dtype: datetime64[ns]"
      ]
     },
     "execution_count": 53,
     "metadata": {},
     "output_type": "execute_result"
    }
   ],
   "source": [
    "df['order_time']"
   ]
  },
  {
   "cell_type": "code",
   "execution_count": 54,
   "metadata": {},
   "outputs": [
    {
     "data": {
      "image/png": "[encoded data removed]",
      "text/plain": [
       "<Figure size 640x480 with 1 Axes>"
      ]
     },
     "metadata": {},
     "output_type": "display_data"
    }
   ],
   "source": [
    "import pandas as pd\n",
    "import matplotlib.pyplot as plt\n",
    "\n",
    "seasons_mapping = {\n",
    "    1: 'Winter', 2: 'Winter', 3: 'Spring',\n",
    "    4: 'Spring', 5: 'Spring', 6: 'Summer',\n",
    "    7: 'Summer', 8: 'Summer', 9: 'Fall',\n",
    "    10: 'Fall', 11: 'Fall', 12: 'Winter'\n",
    "}\n",
    "df['season'] = pd.to_datetime(df['order_date']).dt.month.map(seasons_mapping)\n",
    "\n",
    "# using size basically compensate df.groupby('season')['quantity'].sum()\n",
    "seasonal_orders = df.groupby('season').size().reset_index().rename(columns={0: 'quantity'})\n",
    "\n",
    "plt.bar(seasonal_orders['season'], seasonal_orders['quantity'])\n",
    "plt.xlabel('Seasons')\n",
    "plt.ylabel('Pizza orders count')\n",
    "plt.title('Pizza order by season')\n",
    "plt.show()\n"
   ]
  },
  {
   "cell_type": "markdown",
   "metadata": {},
   "source": [
    "b. Y a-t-il une corrélation entre le jour de la semaine et la quantité de\n",
    "commandes ?"
   ]
  },
  {
   "cell_type": "code",
   "execution_count": 74,
   "metadata": {},
   "outputs": [],
   "source": [
    "# df['day'] = df['order_date'].dt.dayofweek\n",
    "# # Correlation insignifiante entre les deux variables\n",
    "# df['day'].corr(df['day'].size())"
   ]
  },
  {
   "cell_type": "code",
   "execution_count": 73,
   "metadata": {},
   "outputs": [],
   "source": [
    "# temp_df = df.groupby('day').size().reset_index().rename(columns={0: 'quantity'})\n",
    "# plt.figure(figsize=(10,6))\n",
    "# plt.bar(temp_df['day'], temp_df['quantity'])\n",
    "# plt.title('Yearly amount of pizza sold each day of the week')\n",
    "# plt.ylabel('Pizzas sold')\n",
    "# plt.xticks(range(7), ['Monday', 'Tuesday', 'Wednesday', 'Thursday', 'Friday', 'Saturday', 'Sunday'])\n",
    "# plt.show()\n"
   ]
  },
  {
   "cell_type": "code",
   "execution_count": 75,
   "metadata": {},
   "outputs": [
    {
     "data": {
      "image/png": "[encoded data removed]",
      "text/plain": [
       "<Figure size 640x480 with 1 Axes>"
      ]
     },
     "metadata": {},
     "output_type": "display_data"
    }
   ],
   "source": [
    "# Assuming df is your DataFrame\n",
    "# Make sure your 'order_date' column is of type datetime\n",
    "df['order_date'] = pd.to_datetime(df['order_date'])\n",
    "\n",
    "df['day_of_week'] = df['order_date'].dt.day_name()\n",
    "\n",
    "\n",
    "daily_pizza_count = df.groupby('day_of_week').size()\n",
    "\n",
    "fig, ax = plt.subplots()\n",
    "daily_pizza_count.plot(kind='bar', ax=ax, color='skyblue', edgecolor='black')\n",
    "\n",
    "# Customize the plot\n",
    "ax.set_title('Pizza Sales by Day of the Week')\n",
    "ax.set_xlabel('Day of the Week')\n",
    "ax.set_ylabel('Number of Pizzas Sold')\n",
    "\n",
    "# Show the plot\n",
    "plt.show()\n"
   ]
  },
  {
   "cell_type": "code",
   "execution_count": 89,
   "metadata": {},
   "outputs": [
    {
     "data": {
      "text/plain": [
       "month      day_of_week\n",
       "April      Friday         628\n",
       "           Monday         577\n",
       "           Saturday       572\n",
       "           Sunday         434\n",
       "           Thursday       690\n",
       "                         ... \n",
       "September  Saturday       579\n",
       "           Sunday         439\n",
       "           Thursday       414\n",
       "           Tuesday        716\n",
       "           Wednesday      656\n",
       "Name: order_details_id, Length: 83, dtype: int64"
      ]
     },
     "execution_count": 89,
     "metadata": {},
     "output_type": "execute_result"
    }
   ],
   "source": [
    "df['month'] = df['order_date'].dt.month_name()\n",
    "df.groupby(['month', 'day_of_week']).count()['order_details_id']"
   ]
  },
  {
   "cell_type": "code",
   "execution_count": 93,
   "metadata": {},
   "outputs": [
    {
     "data": {
      "text/plain": [
       "Friday       7323\n",
       "Monday       8106\n",
       "Saturday     6753\n",
       "Sunday       6797\n",
       "Thursday     5917\n",
       "Tuesday      6369\n",
       "Wednesday    7355\n",
       "dtype: int64"
      ]
     },
     "execution_count": 93,
     "metadata": {},
     "output_type": "execute_result"
    }
   ],
   "source": [
    "daily_pizza_count.sort_index()"
   ]
  },
  {
   "cell_type": "code",
   "execution_count": 87,
   "metadata": {},
   "outputs": [],
   "source": [
    "# daily_pizza_count.index = ['Monday', 'Tuesday', 'Wednesday', 'Thursday', 'Friday', 'Saturday', 'Sunday']"
   ]
  },
  {
   "cell_type": "code",
   "execution_count": 94,
   "metadata": {},
   "outputs": [
    {
     "data": {
      "image/png": "[encoded data removed]",
      "text/plain": [
       "<Figure size 640x480 with 1 Axes>"
      ]
     },
     "metadata": {},
     "output_type": "display_data"
    }
   ],
   "source": [
    "fig, ax = plt.subplots()\n",
    "#forgot to reorder the days, pretty hard to execute\n",
    "\n",
    "daily_pizza_count.plot(kind='bar', ax=ax, color='skyblue', edgecolor='black')\n",
    "\n",
    "ax.set_title('Pizza Sales by Day of the Week')\n",
    "ax.set_xlabel('Day of the Week')\n",
    "ax.set_ylabel('Number of Pizzas Sold')\n",
    "plt.show()\n"
   ]
  },
  {
   "cell_type": "code",
   "execution_count": null,
   "metadata": {},
   "outputs": [],
   "source": []
  },
  {
   "cell_type": "markdown",
   "metadata": {},
   "source": [
    "# The End"
   ]
  },
  {
   "cell_type": "code",
   "execution_count": null,
   "metadata": {},
   "outputs": [],
   "source": [
    "# !pip freeze > requirements.txt"
   ]
  },
  {
   "cell_type": "code",
   "execution_count": null,
   "metadata": {},
   "outputs": [],
   "source": [
    "# ➔ Quels sont les jours et les heures où nous sommes le plus occupés ?\n",
    "# df.order_date.apply(lambda x : x.day)\n",
    "\n",
    "# ➔ Combien de pizzas fabriquons-nous pendant les périodes de pointe ?\n",
    "# df.order_time.apply(lambda x : np.mean(x))\n",
    "# ➔ Quelles sont les pizzas les plus vendues et les moins vendues ?\n",
    "\n",
    "# ➔ Quelle est la valeur moyenne de nos commandes ?\n"
   ]
  }
 ],
 "metadata": {
  "kernelspec": {
   "display_name": "data_exploration",
   "language": "python",
   "name": "python3"
  },
  "language_info": {
   "codemirror_mode": {
    "name": "ipython",
    "version": 3
   },
   "file_extension": ".py",
   "mimetype": "text/x-python",
   "name": "python",
   "nbconvert_exporter": "python",
   "pygments_lexer": "ipython3",
   "version": "3.8.12"
  }
 },
 "nbformat": 4,
 "nbformat_minor": 2
}
