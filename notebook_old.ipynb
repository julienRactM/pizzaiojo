{
 "cells": [
  {
   "cell_type": "code",
   "execution_count": 2,
   "metadata": {},
   "outputs": [],
   "source": [
    "import pandas as pd\n",
    "import numpy as np\n",
    "import seaborn as sns\n",
    "import matplotlib.pyplot as plt"
   ]
  },
  {
   "cell_type": "markdown",
   "metadata": {},
   "source": [
    "# Data Exploration"
   ]
  },
  {
   "cell_type": "code",
   "execution_count": 3,
   "metadata": {},
   "outputs": [],
   "source": [
    "df = pd.read_excel('sales.xlsx')"
   ]
  },
  {
   "cell_type": "code",
   "execution_count": 4,
   "metadata": {},
   "outputs": [
    {
     "data": {
      "text/html": [
       "<div>\n",
       "<style scoped>\n",
       "    .dataframe tbody tr th:only-of-type {\n",
       "        vertical-align: middle;\n",
       "    }\n",
       "\n",
       "    .dataframe tbody tr th {\n",
       "        vertical-align: top;\n",
       "    }\n",
       "\n",
       "    .dataframe thead th {\n",
       "        text-align: right;\n",
       "    }\n",
       "</style>\n",
       "<table border=\"1\" class=\"dataframe\">\n",
       "  <thead>\n",
       "    <tr style=\"text-align: right;\">\n",
       "      <th></th>\n",
       "      <th>order_details_id</th>\n",
       "      <th>order_id</th>\n",
       "      <th>pizza_id</th>\n",
       "      <th>quantity</th>\n",
       "      <th>order_date</th>\n",
       "      <th>order_time</th>\n",
       "      <th>unit_price</th>\n",
       "      <th>total_price</th>\n",
       "      <th>pizza_size</th>\n",
       "      <th>pizza_category</th>\n",
       "      <th>pizza_ingredients</th>\n",
       "      <th>pizza_name</th>\n",
       "    </tr>\n",
       "  </thead>\n",
       "  <tbody>\n",
       "    <tr>\n",
       "      <th>0</th>\n",
       "      <td>1</td>\n",
       "      <td>1</td>\n",
       "      <td>hawaiian_m</td>\n",
       "      <td>1</td>\n",
       "      <td>2015-01-01</td>\n",
       "      <td>11:38:36</td>\n",
       "      <td>13.25</td>\n",
       "      <td>13.25</td>\n",
       "      <td>M</td>\n",
       "      <td>Classic</td>\n",
       "      <td>Sliced Ham, Pineapple, Mozzarella Cheese</td>\n",
       "      <td>The Hawaiian Pizza</td>\n",
       "    </tr>\n",
       "    <tr>\n",
       "      <th>1</th>\n",
       "      <td>2</td>\n",
       "      <td>2</td>\n",
       "      <td>classic_dlx_m</td>\n",
       "      <td>1</td>\n",
       "      <td>2015-01-01</td>\n",
       "      <td>11:57:40</td>\n",
       "      <td>16.00</td>\n",
       "      <td>16.00</td>\n",
       "      <td>M</td>\n",
       "      <td>Classic</td>\n",
       "      <td>Pepperoni, Mushrooms, Red Onions, Red Peppers,...</td>\n",
       "      <td>The Classic Deluxe Pizza</td>\n",
       "    </tr>\n",
       "    <tr>\n",
       "      <th>2</th>\n",
       "      <td>3</td>\n",
       "      <td>2</td>\n",
       "      <td>five_cheese_l</td>\n",
       "      <td>1</td>\n",
       "      <td>2015-01-01</td>\n",
       "      <td>11:57:40</td>\n",
       "      <td>18.50</td>\n",
       "      <td>18.50</td>\n",
       "      <td>L</td>\n",
       "      <td>Veggie</td>\n",
       "      <td>Mozzarella Cheese, Provolone Cheese, Smoked Go...</td>\n",
       "      <td>The Five Cheese Pizza</td>\n",
       "    </tr>\n",
       "  </tbody>\n",
       "</table>\n",
       "</div>"
      ],
      "text/plain": [
       "   order_details_id  order_id       pizza_id  quantity order_date order_time  \\\n",
       "0                 1         1     hawaiian_m         1 2015-01-01   11:38:36   \n",
       "1                 2         2  classic_dlx_m         1 2015-01-01   11:57:40   \n",
       "2                 3         2  five_cheese_l         1 2015-01-01   11:57:40   \n",
       "\n",
       "   unit_price  total_price pizza_size pizza_category  \\\n",
       "0       13.25        13.25          M        Classic   \n",
       "1       16.00        16.00          M        Classic   \n",
       "2       18.50        18.50          L         Veggie   \n",
       "\n",
       "                                   pizza_ingredients                pizza_name  \n",
       "0           Sliced Ham, Pineapple, Mozzarella Cheese        The Hawaiian Pizza  \n",
       "1  Pepperoni, Mushrooms, Red Onions, Red Peppers,...  The Classic Deluxe Pizza  \n",
       "2  Mozzarella Cheese, Provolone Cheese, Smoked Go...     The Five Cheese Pizza  "
      ]
     },
     "execution_count": 4,
     "metadata": {},
     "output_type": "execute_result"
    }
   ],
   "source": [
    "df.head(3)"
   ]
  },
  {
   "cell_type": "code",
   "execution_count": 5,
   "metadata": {},
   "outputs": [
    {
     "data": {
      "text/plain": [
       "(48620, 12)"
      ]
     },
     "execution_count": 5,
     "metadata": {},
     "output_type": "execute_result"
    }
   ],
   "source": [
    "df.shape"
   ]
  },
  {
   "cell_type": "code",
   "execution_count": 6,
   "metadata": {},
   "outputs": [
    {
     "data": {
      "text/plain": [
       "Index(['order_details_id', 'order_id', 'pizza_id', 'quantity', 'order_date',\n",
       "       'order_time', 'unit_price', 'total_price', 'pizza_size',\n",
       "       'pizza_category', 'pizza_ingredients', 'pizza_name'],\n",
       "      dtype='object')"
      ]
     },
     "execution_count": 6,
     "metadata": {},
     "output_type": "execute_result"
    }
   ],
   "source": [
    "df.columns"
   ]
  },
  {
   "cell_type": "code",
   "execution_count": 7,
   "metadata": {},
   "outputs": [
    {
     "data": {
      "text/plain": [
       "order_details_id              int64\n",
       "order_id                      int64\n",
       "pizza_id                     object\n",
       "quantity                      int64\n",
       "order_date           datetime64[ns]\n",
       "order_time                   object\n",
       "unit_price                  float64\n",
       "total_price                 float64\n",
       "pizza_size                   object\n",
       "pizza_category               object\n",
       "pizza_ingredients            object\n",
       "pizza_name                   object\n",
       "dtype: object"
      ]
     },
     "execution_count": 7,
     "metadata": {},
     "output_type": "execute_result"
    }
   ],
   "source": [
    "df.dtypes"
   ]
  },
  {
   "cell_type": "markdown",
   "metadata": {},
   "source": [
    "# Questions"
   ]
  },
  {
   "cell_type": "markdown",
   "metadata": {},
   "source": [
    "## 2. Informations de base :"
   ]
  },
  {
   "cell_type": "markdown",
   "metadata": {},
   "source": [
    "a. Combien de pizzas uniques (pizza_id distincts) y a-t-il dans le jeu de\n",
    "données ?"
   ]
  },
  {
   "cell_type": "code",
   "execution_count": 8,
   "metadata": {},
   "outputs": [
    {
     "data": {
      "text/plain": [
       "91"
      ]
     },
     "execution_count": 8,
     "metadata": {},
     "output_type": "execute_result"
    }
   ],
   "source": [
    "df.pizza_id.value_counts().count()"
   ]
  },
  {
   "cell_type": "markdown",
   "metadata": {},
   "source": [
    "b.  Combien de commandes uniques (order_id distincts) figurent dans le jeu\n",
    "de données ?"
   ]
  },
  {
   "cell_type": "code",
   "execution_count": 9,
   "metadata": {},
   "outputs": [
    {
     "data": {
      "text/plain": [
       "21350"
      ]
     },
     "execution_count": 9,
     "metadata": {},
     "output_type": "execute_result"
    }
   ],
   "source": [
    "df.order_id.value_counts().count()"
   ]
  },
  {
   "cell_type": "markdown",
   "metadata": {},
   "source": [
    "## 3. Analyse temporelle :"
   ]
  },
  {
   "cell_type": "markdown",
   "metadata": {},
   "source": [
    "a. Quelle est la plage de dates dans le jeu de données ?"
   ]
  },
  {
   "cell_type": "code",
   "execution_count": 10,
   "metadata": {},
   "outputs": [
    {
     "name": "stdout",
     "output_type": "stream",
     "text": [
      "plage de dates : 2015-01-01 00:00:00 à 2015-12-31 00:00:00\n"
     ]
    }
   ],
   "source": [
    "print(f\"plage de dates : {df['order_date'].min()} à {df['order_date'].max()}\")"
   ]
  },
  {
   "cell_type": "markdown",
   "metadata": {},
   "source": [
    "b. Combien de commandes ont été passées chaque jour ?"
   ]
  },
  {
   "cell_type": "markdown",
   "metadata": {},
   "source": [
    "## ------------------------------------------------------------"
   ]
  },
  {
   "cell_type": "code",
   "execution_count": 11,
   "metadata": {},
   "outputs": [
    {
     "data": {
      "text/plain": [
       "order_date\n",
       "2015-01-01    69\n",
       "2015-01-02    67\n",
       "2015-01-03    66\n",
       "2015-01-04    52\n",
       "2015-01-05    54\n",
       "              ..\n",
       "2015-12-27    35\n",
       "2015-12-28    39\n",
       "2015-12-29    27\n",
       "2015-12-30    32\n",
       "2015-12-31    73\n",
       "Name: order_id, Length: 358, dtype: int64"
      ]
     },
     "execution_count": 11,
     "metadata": {},
     "output_type": "execute_result"
    }
   ],
   "source": [
    "df.groupby('order_date')['order_id'].nunique()"
   ]
  },
  {
   "cell_type": "markdown",
   "metadata": {},
   "source": [
    "c. Quelle est la durée moyenne pour traiter une commande ?"
   ]
  },
  {
   "cell_type": "markdown",
   "metadata": {},
   "source": [
    "C'est une question piège nous n'avons aucun moyen de calculer correctement cette valeur, il faudrait que le Dataframe contienne une colonne order_processed ou autre pour pouvoir faire ce calcul.\n",
    "\n",
    "Une très mauvaise solution serait de calculer la différence de temps passée entre chaque commandes triées par order_id (1 et 2 par ex) pour essayer de trouver cette valeur. Cela ne serait pas très pertinent car les résultats ne seront pas nécessairement représentatif du temps que Jo va prendre pour traiter une commande, et si il prend une pause, qu'il n'a pas de clients pendant un moment ou ferme la pizzaria après une commande, le calcul va considérer cela comme du temps de préparation de la commande et fausser les résultats"
   ]
  },
  {
   "cell_type": "markdown",
   "metadata": {},
   "source": [
    "## 4. Analyse de la quantité :"
   ]
  },
  {
   "cell_type": "markdown",
   "metadata": {},
   "source": [
    "a. Quelle est la quantité moyenne de pizzas commandées ?"
   ]
  },
  {
   "cell_type": "code",
   "execution_count": 12,
   "metadata": {},
   "outputs": [
    {
     "data": {
      "text/plain": [
       "2.321967213114754"
      ]
     },
     "execution_count": 12,
     "metadata": {},
     "output_type": "execute_result"
    }
   ],
   "source": [
    "df.groupby('order_id')['quantity'].sum().mean()\n"
   ]
  },
  {
   "cell_type": "markdown",
   "metadata": {},
   "source": [
    "Values Check"
   ]
  },
  {
   "cell_type": "code",
   "execution_count": 13,
   "metadata": {},
   "outputs": [],
   "source": [
    "# You can check the results here\n",
    "# df.quantity.value_counts()\n",
    "# df[df.quantity == 4]\n",
    "# df.groupby('order_id')['quantity'].sum()[5264]\n",
    "# df[df.order_id == 5264]"
   ]
  },
  {
   "cell_type": "markdown",
   "metadata": {},
   "source": [
    "b. Quelle est la taille de pizza la plus fréquemment commandée ?"
   ]
  },
  {
   "cell_type": "code",
   "execution_count": 14,
   "metadata": {},
   "outputs": [
    {
     "data": {
      "text/plain": [
       "48620"
      ]
     },
     "execution_count": 14,
     "metadata": {},
     "output_type": "execute_result"
    }
   ],
   "source": [
    "# df.pizza_size.value_counts().to_frame().reset_index()\n",
    "df.groupby(['pizza_size'])['quantity'].count().sum()"
   ]
  },
  {
   "cell_type": "code",
   "execution_count": 15,
   "metadata": {},
   "outputs": [],
   "source": [
    "# df.tail(20)"
   ]
  },
  {
   "cell_type": "code",
   "execution_count": 16,
   "metadata": {},
   "outputs": [],
   "source": [
    "# df.tail(20)"
   ]
  },
  {
   "cell_type": "code",
   "execution_count": 17,
   "metadata": {},
   "outputs": [
    {
     "data": {
      "text/plain": [
       "49574"
      ]
     },
     "execution_count": 17,
     "metadata": {},
     "output_type": "execute_result"
    }
   ],
   "source": [
    "df.quantity.sum()"
   ]
  },
  {
   "cell_type": "code",
   "execution_count": null,
   "metadata": {},
   "outputs": [],
   "source": []
  },
  {
   "cell_type": "code",
   "execution_count": 18,
   "metadata": {},
   "outputs": [
    {
     "ename": "NameError",
     "evalue": "name 'temp_df' is not defined",
     "output_type": "error",
     "traceback": [
      "\u001b[0;31m---------------------------------------------------------------------------\u001b[0m",
      "\u001b[0;31mNameError\u001b[0m                                 Traceback (most recent call last)",
      "Cell \u001b[0;32mIn[18], line 1\u001b[0m\n\u001b[0;32m----> 1\u001b[0m plt\u001b[38;5;241m.\u001b[39mplot(\u001b[43mtemp_df\u001b[49m[\u001b[38;5;124m'\u001b[39m\u001b[38;5;124mpizza_size\u001b[39m\u001b[38;5;124m'\u001b[39m], temp_df[\u001b[38;5;124m'\u001b[39m\u001b[38;5;124mcount\u001b[39m\u001b[38;5;124m'\u001b[39m])\n",
      "\u001b[0;31mNameError\u001b[0m: name 'temp_df' is not defined"
     ]
    }
   ],
   "source": [
    "plt.plot(temp_df['pizza_size'], temp_df['count'])"
   ]
  },
  {
   "cell_type": "code",
   "execution_count": null,
   "metadata": {},
   "outputs": [
    {
     "data": {
      "image/png": "[encoded data removed]",
      "text/plain": [
       "<Figure size 700x500 with 1 Axes>"
      ]
     },
     "metadata": {},
     "output_type": "display_data"
    }
   ],
   "source": [
    "sns.set_theme(style=\"white\", context=\"talk\")\n",
    "f, ax1 = plt.subplots(1, 1, figsize=(7, 5))\n",
    "\n",
    "# Barplot for Sequential data\n",
    "sns.barplot(x=temp_df.pizza_size, y=temp_df['count'], hue=temp_df.pizza_size, palette=\"deep\", ax=ax1)\n",
    "ax1.axhline(0, color=\"k\", clip_on=False)\n",
    "ax1.set_ylabel(\"Sequential\")\n",
    "\n",
    "sns.despine(bottom=True)\n",
    "plt.setp(f.axes, yticks=[])\n",
    "plt.tight_layout(h_pad=2)\n",
    "\n",
    "plt.show()\n"
   ]
  },
  {
   "cell_type": "code",
   "execution_count": null,
   "metadata": {},
   "outputs": [
    {
     "data": {
      "text/plain": [
       "'L'"
      ]
     },
     "execution_count": 182,
     "metadata": {},
     "output_type": "execute_result"
    }
   ],
   "source": [
    "df.pizza_size.value_counts().index[0]\n"
   ]
  },
  {
   "cell_type": "markdown",
   "metadata": {},
   "source": [
    "c. Quelle est la catégorie de pizza la plus fréquemment commandée ?"
   ]
  },
  {
   "cell_type": "code",
   "execution_count": null,
   "metadata": {},
   "outputs": [
    {
     "data": {
      "text/plain": [
       "pizza_category\n",
       "Classic    14579\n",
       "Supreme    11777\n",
       "Veggie     11449\n",
       "Chicken    10815\n",
       "Name: count, dtype: int64"
      ]
     },
     "execution_count": 29,
     "metadata": {},
     "output_type": "execute_result"
    }
   ],
   "source": [
    "df.pizza_category.value_counts()"
   ]
  },
  {
   "cell_type": "code",
   "execution_count": null,
   "metadata": {},
   "outputs": [
    {
     "data": {
      "text/plain": [
       "'Classic'"
      ]
     },
     "execution_count": 184,
     "metadata": {},
     "output_type": "execute_result"
    }
   ],
   "source": [
    "df.pizza_category.value_counts().index[0]"
   ]
  },
  {
   "cell_type": "markdown",
   "metadata": {},
   "source": [
    "## 5. Analyse des prix :"
   ]
  },
  {
   "cell_type": "markdown",
   "metadata": {},
   "source": [
    "a. Quel est le prix unitaire moyen des pizzas ?"
   ]
  },
  {
   "cell_type": "code",
   "execution_count": null,
   "metadata": {},
   "outputs": [
    {
     "data": {
      "text/plain": [
       "16.5"
      ]
     },
     "execution_count": 185,
     "metadata": {},
     "output_type": "execute_result"
    }
   ],
   "source": [
    "df.unit_price.mean().round(1)\n",
    "#quantity\n"
   ]
  },
  {
   "cell_type": "markdown",
   "metadata": {},
   "source": [
    "b. Quel est le prix total moyen d'une commande ?"
   ]
  },
  {
   "cell_type": "code",
   "execution_count": null,
   "metadata": {},
   "outputs": [
    {
     "data": {
      "text/plain": [
       "38.31"
      ]
     },
     "execution_count": 186,
     "metadata": {},
     "output_type": "execute_result"
    }
   ],
   "source": [
    "df.groupby('order_id')['total_price'].sum().mean().round(2)"
   ]
  },
  {
   "cell_type": "markdown",
   "metadata": {},
   "source": [
    "c. Quelle pizza a le prix unitaire le plus élevé ?"
   ]
  },
  {
   "cell_type": "code",
   "execution_count": null,
   "metadata": {},
   "outputs": [
    {
     "ename": "NameError",
     "evalue": "name 'df' is not defined",
     "output_type": "error",
     "traceback": [
      "\u001b[0;31m---------------------------------------------------------------------------\u001b[0m",
      "\u001b[0;31mNameError\u001b[0m                                 Traceback (most recent call last)",
      "Cell \u001b[0;32mIn[1], line 2\u001b[0m\n\u001b[1;32m      1\u001b[0m \u001b[38;5;66;03m# Je vérifies d'abord qu'il y a bien une seule pizza qui à le prix le plus élevé\u001b[39;00m\n\u001b[0;32m----> 2\u001b[0m \u001b[43mdf\u001b[49m[df\u001b[38;5;241m.\u001b[39munit_price \u001b[38;5;241m==\u001b[39m df\u001b[38;5;241m.\u001b[39munit_price\u001b[38;5;241m.\u001b[39mmax()][\u001b[38;5;124m'\u001b[39m\u001b[38;5;124mpizza_id\u001b[39m\u001b[38;5;124m'\u001b[39m]\u001b[38;5;241m.\u001b[39mvalue_counts()\u001b[38;5;241m.\u001b[39mcount()\n\u001b[1;32m      4\u001b[0m \u001b[38;5;66;03m# ceci donne le bon nom de pizza mais on peut faire un peu mieux (case en dessous)\u001b[39;00m\n\u001b[1;32m      5\u001b[0m \u001b[38;5;66;03m# df[df.unit_price == df.unit_price.max()]['pizza_name'].value_counts()[0]\u001b[39;00m\n",
      "\u001b[0;31mNameError\u001b[0m: name 'df' is not defined"
     ]
    }
   ],
   "source": [
    "# Je vérifies d'abord qu'il y a bien une seule pizza qui à le prix le plus élevé\n",
    "df[df.unit_price == df.unit_price.max()]['pizza_id'].value_counts().count()\n",
    "\n",
    "# ceci donne le bon nom de pizza mais on peut faire un peu mieux (case en dessous)\n",
    "# df[df.unit_price == df.unit_price.max()]['pizza_name'].value_counts()[0]"
   ]
  },
  {
   "cell_type": "code",
   "execution_count": null,
   "metadata": {},
   "outputs": [
    {
     "data": {
      "text/plain": [
       "'the_greek_xxl'"
      ]
     },
     "execution_count": 188,
     "metadata": {},
     "output_type": "execute_result"
    }
   ],
   "source": [
    "# plus fluide :\n",
    "df[df.unit_price == df.unit_price.max()].iloc[0]['pizza_id']"
   ]
  },
  {
   "cell_type": "markdown",
   "metadata": {},
   "source": [
    "## 6. Répartition par taille et catégorie :"
   ]
  },
  {
   "cell_type": "markdown",
   "metadata": {},
   "source": [
    "a. Combien de pizzas de chaque taille ont été vendues ?"
   ]
  },
  {
   "cell_type": "code",
   "execution_count": null,
   "metadata": {},
   "outputs": [
    {
     "data": {
      "text/plain": [
       "pizza_size\n",
       "L      18956\n",
       "M      15635\n",
       "S      14403\n",
       "XL       552\n",
       "XXL       28\n",
       "Name: quantity, dtype: int64"
      ]
     },
     "execution_count": 189,
     "metadata": {},
     "output_type": "execute_result"
    }
   ],
   "source": [
    "df.groupby('pizza_size')['quantity'].sum()"
   ]
  },
  {
   "cell_type": "markdown",
   "metadata": {},
   "source": [
    "b. Combien de pizzas y a-t-il dans chaque catégorie ?"
   ]
  },
  {
   "cell_type": "code",
   "execution_count": null,
   "metadata": {},
   "outputs": [
    {
     "data": {
      "text/plain": [
       "pizza_category\n",
       "Chicken    6\n",
       "Classic    8\n",
       "Supreme    9\n",
       "Veggie     9\n",
       "Name: pizza_name, dtype: int64"
      ]
     },
     "execution_count": 190,
     "metadata": {},
     "output_type": "execute_result"
    }
   ],
   "source": [
    "df.groupby('pizza_category')['pizza_name'].nunique()\n",
    "# df.groupby('pizza_category')['pizza_id'].nunique()"
   ]
  },
  {
   "cell_type": "code",
   "execution_count": null,
   "metadata": {},
   "outputs": [],
   "source": [
    "# Une bien pire façon de l'afficher\n",
    "# df.groupby('pizza_category')['pizza_name'].value_counts().index"
   ]
  },
  {
   "cell_type": "markdown",
   "metadata": {},
   "source": [
    "## 7. Analyse des ingrédients :"
   ]
  },
  {
   "cell_type": "markdown",
   "metadata": {},
   "source": [
    "a. Quels sont les ingrédients les plus couramment utilisés dans toutes les\n",
    "pizzas ?\n"
   ]
  },
  {
   "cell_type": "code",
   "execution_count": null,
   "metadata": {},
   "outputs": [
    {
     "data": {
      "text/html": [
       "<div>\n",
       "<style scoped>\n",
       "    .dataframe tbody tr th:only-of-type {\n",
       "        vertical-align: middle;\n",
       "    }\n",
       "\n",
       "    .dataframe tbody tr th {\n",
       "        vertical-align: top;\n",
       "    }\n",
       "\n",
       "    .dataframe thead th {\n",
       "        text-align: right;\n",
       "    }\n",
       "</style>\n",
       "<table border=\"1\" class=\"dataframe\">\n",
       "  <thead>\n",
       "    <tr style=\"text-align: right;\">\n",
       "      <th></th>\n",
       "      <th>count</th>\n",
       "    </tr>\n",
       "    <tr>\n",
       "      <th>pizza_ingredients</th>\n",
       "      <th></th>\n",
       "    </tr>\n",
       "  </thead>\n",
       "  <tbody>\n",
       "    <tr>\n",
       "      <th>Garlic</th>\n",
       "      <td>27422</td>\n",
       "    </tr>\n",
       "    <tr>\n",
       "      <th>Tomatoes</th>\n",
       "      <td>26601</td>\n",
       "    </tr>\n",
       "    <tr>\n",
       "      <th>Red Onions</th>\n",
       "      <td>19547</td>\n",
       "    </tr>\n",
       "    <tr>\n",
       "      <th>Red Peppers</th>\n",
       "      <td>16284</td>\n",
       "    </tr>\n",
       "    <tr>\n",
       "      <th>Mozzarella Cheese</th>\n",
       "      <td>10333</td>\n",
       "    </tr>\n",
       "    <tr>\n",
       "      <th>...</th>\n",
       "      <td>...</td>\n",
       "    </tr>\n",
       "    <tr>\n",
       "      <th>Brie Carre Cheese</th>\n",
       "      <td>480</td>\n",
       "    </tr>\n",
       "    <tr>\n",
       "      <th>Prosciutto</th>\n",
       "      <td>480</td>\n",
       "    </tr>\n",
       "    <tr>\n",
       "      <th>Caramelized Onions</th>\n",
       "      <td>480</td>\n",
       "    </tr>\n",
       "    <tr>\n",
       "      <th>Pears</th>\n",
       "      <td>480</td>\n",
       "    </tr>\n",
       "    <tr>\n",
       "      <th>Thyme</th>\n",
       "      <td>480</td>\n",
       "    </tr>\n",
       "  </tbody>\n",
       "</table>\n",
       "<p>65 rows × 1 columns</p>\n",
       "</div>"
      ],
      "text/plain": [
       "                    count\n",
       "pizza_ingredients        \n",
       "Garlic              27422\n",
       "Tomatoes            26601\n",
       "Red Onions          19547\n",
       "Red Peppers         16284\n",
       "Mozzarella Cheese   10333\n",
       "...                   ...\n",
       "Brie Carre Cheese     480\n",
       "Prosciutto            480\n",
       "Caramelized Onions    480\n",
       "Pears                 480\n",
       "Thyme                 480\n",
       "\n",
       "[65 rows x 1 columns]"
      ]
     },
     "execution_count": 192,
     "metadata": {},
     "output_type": "execute_result"
    }
   ],
   "source": [
    "# avoiding repeating operation error by checking if last element of the\n",
    "# column has already been converted to a list instead of string\n",
    "if not isinstance(df.pizza_ingredients[df.pizza_ingredients.shape[0]-1], list):\n",
    "    # cleaning list of ingredients\n",
    "    df.pizza_ingredients = df.pizza_ingredients.apply(lambda x : x.split(', '))\n",
    "df.pizza_ingredients.explode().value_counts().to_frame()\n"
   ]
  },
  {
   "cell_type": "code",
   "execution_count": null,
   "metadata": {},
   "outputs": [],
   "source": [
    "# new_df = df[['pizza_id', 'pizza_ingredients']].drop_duplicates()\n"
   ]
  },
  {
   "cell_type": "markdown",
   "metadata": {},
   "source": [
    "b. Combien de pizzas contiennent un ingrédient spécifique (par exemple,\n",
    "pepperoni, champignons) ?"
   ]
  },
  {
   "cell_type": "code",
   "execution_count": null,
   "metadata": {},
   "outputs": [],
   "source": [
    "# Just making sure df_filtered\n",
    "df_filtered = df.drop_duplicates(subset='pizza_ingredients')"
   ]
  },
  {
   "cell_type": "code",
   "execution_count": null,
   "metadata": {},
   "outputs": [
    {
     "name": "stderr",
     "output_type": "stream",
     "text": [
      "/tmp/ipykernel_1181/1037540494.py:4: SettingWithCopyWarning: \n",
      "A value is trying to be set on a copy of a slice from a DataFrame.\n",
      "Try using .loc[row_indexer,col_indexer] = value instead\n",
      "\n",
      "See the caveats in the documentation: https://pandas.pydata.org/pandas-docs/stable/user_guide/indexing.html#returning-a-view-versus-a-copy\n",
      "  df_filtered.loc[:,'ingredient_count'] = df_filtered.loc[:,('pizza_ingredients')].apply(lambda x: x.count(ingredient) if isinstance(x, list) else 0)\n"
     ]
    },
    {
     "data": {
      "text/html": [
       "<div>\n",
       "<style scoped>\n",
       "    .dataframe tbody tr th:only-of-type {\n",
       "        vertical-align: middle;\n",
       "    }\n",
       "\n",
       "    .dataframe tbody tr th {\n",
       "        vertical-align: top;\n",
       "    }\n",
       "\n",
       "    .dataframe thead th {\n",
       "        text-align: right;\n",
       "    }\n",
       "</style>\n",
       "<table border=\"1\" class=\"dataframe\">\n",
       "  <thead>\n",
       "    <tr style=\"text-align: right;\">\n",
       "      <th></th>\n",
       "      <th>pizza_category</th>\n",
       "      <th>ingredient_count</th>\n",
       "    </tr>\n",
       "  </thead>\n",
       "  <tbody>\n",
       "    <tr>\n",
       "      <th>0</th>\n",
       "      <td>Chicken</td>\n",
       "      <td>2</td>\n",
       "    </tr>\n",
       "    <tr>\n",
       "      <th>1</th>\n",
       "      <td>Classic</td>\n",
       "      <td>3</td>\n",
       "    </tr>\n",
       "    <tr>\n",
       "      <th>2</th>\n",
       "      <td>Supreme</td>\n",
       "      <td>8</td>\n",
       "    </tr>\n",
       "    <tr>\n",
       "      <th>3</th>\n",
       "      <td>Veggie</td>\n",
       "      <td>7</td>\n",
       "    </tr>\n",
       "  </tbody>\n",
       "</table>\n",
       "</div>"
      ],
      "text/plain": [
       "  pizza_category  ingredient_count\n",
       "0        Chicken                 2\n",
       "1        Classic                 3\n",
       "2        Supreme                 8\n",
       "3         Veggie                 7"
      ]
     },
     "execution_count": 195,
     "metadata": {},
     "output_type": "execute_result"
    }
   ],
   "source": [
    "# Changer l'ingrédient si souhaité\n",
    "ingredient = 'Garlic'\n",
    "\n",
    "df_filtered.loc[:,'ingredient_count'] = df_filtered.loc[:,('pizza_ingredients')].apply(lambda x: x.count(ingredient) if isinstance(x, list) else 0)\n",
    "df_filtered.groupby('pizza_category')['ingredient_count'].sum().reset_index()\n",
    "\n",
    "# contain"
   ]
  },
  {
   "cell_type": "markdown",
   "metadata": {},
   "source": [
    "## 8. Détails de la commande :"
   ]
  },
  {
   "cell_type": "markdown",
   "metadata": {},
   "source": [
    "a. Quelle est la répartition du nombre de pizzas par commande ?"
   ]
  },
  {
   "cell_type": "code",
   "execution_count": null,
   "metadata": {},
   "outputs": [
    {
     "data": {
      "text/html": [
       "<div>\n",
       "<style scoped>\n",
       "    .dataframe tbody tr th:only-of-type {\n",
       "        vertical-align: middle;\n",
       "    }\n",
       "\n",
       "    .dataframe tbody tr th {\n",
       "        vertical-align: top;\n",
       "    }\n",
       "\n",
       "    .dataframe thead th {\n",
       "        text-align: right;\n",
       "    }\n",
       "</style>\n",
       "<table border=\"1\" class=\"dataframe\">\n",
       "  <thead>\n",
       "    <tr style=\"text-align: right;\">\n",
       "      <th></th>\n",
       "      <th>Nombre de pizzas par commande</th>\n",
       "      <th>count</th>\n",
       "    </tr>\n",
       "  </thead>\n",
       "  <tbody>\n",
       "    <tr>\n",
       "      <th>0</th>\n",
       "      <td>1</td>\n",
       "      <td>8201</td>\n",
       "    </tr>\n",
       "    <tr>\n",
       "      <th>1</th>\n",
       "      <td>2</td>\n",
       "      <td>6196</td>\n",
       "    </tr>\n",
       "    <tr>\n",
       "      <th>2</th>\n",
       "      <td>3</td>\n",
       "      <td>3325</td>\n",
       "    </tr>\n",
       "    <tr>\n",
       "      <th>3</th>\n",
       "      <td>4</td>\n",
       "      <td>2888</td>\n",
       "    </tr>\n",
       "    <tr>\n",
       "      <th>4</th>\n",
       "      <td>5</td>\n",
       "      <td>144</td>\n",
       "    </tr>\n",
       "    <tr>\n",
       "      <th>5</th>\n",
       "      <td>8</td>\n",
       "      <td>83</td>\n",
       "    </tr>\n",
       "    <tr>\n",
       "      <th>6</th>\n",
       "      <td>6</td>\n",
       "      <td>75</td>\n",
       "    </tr>\n",
       "    <tr>\n",
       "      <th>7</th>\n",
       "      <td>7</td>\n",
       "      <td>75</td>\n",
       "    </tr>\n",
       "    <tr>\n",
       "      <th>8</th>\n",
       "      <td>12</td>\n",
       "      <td>71</td>\n",
       "    </tr>\n",
       "    <tr>\n",
       "      <th>9</th>\n",
       "      <td>11</td>\n",
       "      <td>69</td>\n",
       "    </tr>\n",
       "    <tr>\n",
       "      <th>10</th>\n",
       "      <td>9</td>\n",
       "      <td>65</td>\n",
       "    </tr>\n",
       "    <tr>\n",
       "      <th>11</th>\n",
       "      <td>10</td>\n",
       "      <td>59</td>\n",
       "    </tr>\n",
       "    <tr>\n",
       "      <th>12</th>\n",
       "      <td>13</td>\n",
       "      <td>52</td>\n",
       "    </tr>\n",
       "    <tr>\n",
       "      <th>13</th>\n",
       "      <td>14</td>\n",
       "      <td>38</td>\n",
       "    </tr>\n",
       "    <tr>\n",
       "      <th>14</th>\n",
       "      <td>15</td>\n",
       "      <td>7</td>\n",
       "    </tr>\n",
       "    <tr>\n",
       "      <th>15</th>\n",
       "      <td>21</td>\n",
       "      <td>2</td>\n",
       "    </tr>\n",
       "  </tbody>\n",
       "</table>\n",
       "</div>"
      ],
      "text/plain": [
       "    Nombre de pizzas par commande  count\n",
       "0                               1   8201\n",
       "1                               2   6196\n",
       "2                               3   3325\n",
       "3                               4   2888\n",
       "4                               5    144\n",
       "5                               8     83\n",
       "6                               6     75\n",
       "7                               7     75\n",
       "8                              12     71\n",
       "9                              11     69\n",
       "10                              9     65\n",
       "11                             10     59\n",
       "12                             13     52\n",
       "13                             14     38\n",
       "14                             15      7\n",
       "15                             21      2"
      ]
     },
     "execution_count": 196,
     "metadata": {},
     "output_type": "execute_result"
    }
   ],
   "source": [
    "df.groupby('order_id')['quantity'].count().value_counts().reset_index()\\\n",
    "    .rename(columns={'quantity': 'Nombre de pizzas par commande'})\n"
   ]
  },
  {
   "cell_type": "code",
   "execution_count": null,
   "metadata": {},
   "outputs": [
    {
     "data": {
      "text/plain": [
       "21350"
      ]
     },
     "execution_count": 197,
     "metadata": {},
     "output_type": "execute_result"
    }
   ],
   "source": [
    "sum(df.groupby('order_id')['quantity'].count().value_counts().reset_index()\\\n",
    "    .rename(columns={'quantity': 'Nombre de pizzas par commande'})['count'])"
   ]
  },
  {
   "cell_type": "code",
   "execution_count": null,
   "metadata": {},
   "outputs": [
    {
     "data": {
      "text/plain": [
       "49574"
      ]
     },
     "execution_count": 198,
     "metadata": {},
     "output_type": "execute_result"
    }
   ],
   "source": [
    "sum(df.quantity)"
   ]
  },
  {
   "cell_type": "markdown",
   "metadata": {},
   "source": [
    "b. Quelle est la répartition des prix totaux pour les commandes ?"
   ]
  },
  {
   "cell_type": "code",
   "execution_count": null,
   "metadata": {},
   "outputs": [
    {
     "data": {
      "text/plain": [
       "282.65"
      ]
     },
     "execution_count": 238,
     "metadata": {},
     "output_type": "execute_result"
    }
   ],
   "source": [
    "df.groupby(['order_id','quantity'])['total_price'].sum().max()"
   ]
  },
  {
   "cell_type": "code",
   "execution_count": null,
   "metadata": {},
   "outputs": [
    {
     "name": "stdout",
     "output_type": "stream",
     "text": [
      "9.75\n",
      "83.0\n"
     ]
    },
    {
     "data": {
      "text/plain": [
       "<Axes: xlabel='total_price', ylabel='Count'>"
      ]
     },
     "execution_count": 239,
     "metadata": {},
     "output_type": "execute_result"
    },
    {
     "data": {
      "image/png": "[encoded data removed]",
      "text/plain": [
       "<Figure size 640x480 with 1 Axes>"
      ]
     },
     "metadata": {},
     "output_type": "display_data"
    }
   ],
   "source": [
    "print(df.total_price.min())\n",
    "print(df.total_price.max())\n",
    "sns.histplot(df.groupby(['order_id','quantity'])['total_price'].sum(), kde=True)"
   ]
  },
  {
   "cell_type": "code",
   "execution_count": null,
   "metadata": {},
   "outputs": [
    {
     "data": {
      "image/png": "[encoded data removed]",
      "text/plain": [
       "<Figure size 640x480 with 1 Axes>"
      ]
     },
     "metadata": {},
     "output_type": "display_data"
    }
   ],
   "source": [
    "# Si cette donnée nous intéresse réellement, il me parait plus judicieux de classifier les commandes dans une nouvelle colonne\n",
    "# par tranches de prix totaux des commandes. ici 3 choisit arbitrairement. 1/3 par catégorie.\n",
    "\n",
    "df['total_price_quartile'] = pd.qcut(df['total_price'], q=[0, 0.33,  0.66, 1],\n",
    "    labels=['low_price_pizza', 'medium_price_pizza', 'high_price_pizza'])\n",
    "\n",
    "temp_df_quarts = df.groupby('total_price_quartile')['total_price'].mean().reset_index()\n",
    "plt.bar(temp_df_quarts['total_price_quartile'], temp_df_quarts['total_price'])\n",
    "plt.ylabel('Prix moyen d\\'une pizza par tranches de prix')\n",
    "plt.title('Présentation des tranches de prix par pizza')\n",
    "plt.show()\n"
   ]
  },
  {
   "cell_type": "code",
   "execution_count": null,
   "metadata": {},
   "outputs": [],
   "source": [
    "# En toute honnêteté la colonne total_price ne permet pas de répondre proprement à la question, pour moi il faut créer une nouvelle colonne\n",
    "# et traité la question par commande et non pas par pizza\n",
    "\n",
    "if 'order_price' not in df.columns:\n",
    "    df = pd.merge(df, df.groupby('order_id')['total_price'].sum().reset_index()\\\n",
    "        .rename(columns={'total_price': 'order_price'}), on='order_id', how='left')"
   ]
  },
  {
   "cell_type": "code",
   "execution_count": null,
   "metadata": {},
   "outputs": [
    {
     "data": {
      "text/plain": [
       "<Axes: xlabel='total_price', ylabel='Count'>"
      ]
     },
     "execution_count": 202,
     "metadata": {},
     "output_type": "execute_result"
    },
    {
     "data": {
      "image/png": "[encoded data removed]",
      "text/plain": [
       "<Figure size 640x480 with 1 Axes>"
      ]
     },
     "metadata": {},
     "output_type": "display_data"
    }
   ],
   "source": [
    "sns.histplot(df.total_price)\n"
   ]
  },
  {
   "cell_type": "code",
   "execution_count": null,
   "metadata": {},
   "outputs": [
    {
     "data": {
      "text/plain": [
       "count    48620.000000\n",
       "mean        16.821474\n",
       "std          4.437398\n",
       "min          9.750000\n",
       "25%         12.750000\n",
       "50%         16.500000\n",
       "75%         20.500000\n",
       "max         83.000000\n",
       "Name: total_price, dtype: float64"
      ]
     },
     "execution_count": 203,
     "metadata": {},
     "output_type": "execute_result"
    }
   ],
   "source": [
    "df.total_price.describe()"
   ]
  },
  {
   "cell_type": "code",
   "execution_count": null,
   "metadata": {},
   "outputs": [],
   "source": [
    "# Bonus perso faire la version sur une colonne order_price"
   ]
  },
  {
   "cell_type": "markdown",
   "metadata": {},
   "source": [
    "## 9. Analyse du chiffre d’affaires en fonction du temps :"
   ]
  },
  {
   "cell_type": "markdown",
   "metadata": {},
   "source": [
    "a. Quel est le chiffre d'affaires quotidien ?\n"
   ]
  },
  {
   "cell_type": "markdown",
   "metadata": {},
   "source": [
    "Chiffre d'affaires quotidien\n",
    "(Le Dataset étant réparti sur une année complète)"
   ]
  },
  {
   "cell_type": "code",
   "execution_count": null,
   "metadata": {},
   "outputs": [
    {
     "data": {
      "text/plain": [
       "order_date\n",
       "2015-01-01    2713.85\n",
       "2015-01-02    2731.90\n",
       "2015-01-03    2662.40\n",
       "2015-01-04    1755.45\n",
       "2015-01-05    2065.95\n",
       "               ...   \n",
       "2015-12-27    1419.00\n",
       "2015-12-28    1637.20\n",
       "2015-12-29    1353.25\n",
       "2015-12-30    1337.80\n",
       "2015-12-31    2916.00\n",
       "Name: total_price, Length: 358, dtype: float64"
      ]
     },
     "execution_count": 205,
     "metadata": {},
     "output_type": "execute_result"
    }
   ],
   "source": [
    "# trie par jour nativement\n",
    "df.groupby('order_date')['total_price'].sum()"
   ]
  },
  {
   "cell_type": "markdown",
   "metadata": {},
   "source": [
    "Chiffre d'affaires quotidien moyen"
   ]
  },
  {
   "cell_type": "code",
   "execution_count": null,
   "metadata": {},
   "outputs": [
    {
     "data": {
      "text/plain": [
       "2284.5252793296086"
      ]
     },
     "execution_count": 206,
     "metadata": {},
     "output_type": "execute_result"
    }
   ],
   "source": [
    "df.groupby('order_date')['total_price'].sum().mean()"
   ]
  },
  {
   "cell_type": "markdown",
   "metadata": {},
   "source": [
    "b. Y a-t-il une corrélation entre l'heure de la journée et le total de la\n",
    "commande ?"
   ]
  },
  {
   "cell_type": "markdown",
   "metadata": {},
   "source": [
    "On réutilise la colonne order_price créée précédemment."
   ]
  },
  {
   "cell_type": "code",
   "execution_count": null,
   "metadata": {},
   "outputs": [
    {
     "data": {
      "text/html": [
       "<div>\n",
       "<style scoped>\n",
       "    .dataframe tbody tr th:only-of-type {\n",
       "        vertical-align: middle;\n",
       "    }\n",
       "\n",
       "    .dataframe tbody tr th {\n",
       "        vertical-align: top;\n",
       "    }\n",
       "\n",
       "    .dataframe thead th {\n",
       "        text-align: right;\n",
       "    }\n",
       "</style>\n",
       "<table border=\"1\" class=\"dataframe\">\n",
       "  <thead>\n",
       "    <tr style=\"text-align: right;\">\n",
       "      <th></th>\n",
       "      <th>order_time_range</th>\n",
       "      <th>total_price</th>\n",
       "    </tr>\n",
       "  </thead>\n",
       "  <tbody>\n",
       "    <tr>\n",
       "      <th>0</th>\n",
       "      <td>09-10h</td>\n",
       "      <td>83.00</td>\n",
       "    </tr>\n",
       "    <tr>\n",
       "      <th>1</th>\n",
       "      <td>10-11h</td>\n",
       "      <td>303.65</td>\n",
       "    </tr>\n",
       "    <tr>\n",
       "      <th>2</th>\n",
       "      <td>11-12h</td>\n",
       "      <td>44935.80</td>\n",
       "    </tr>\n",
       "    <tr>\n",
       "      <th>3</th>\n",
       "      <td>12-13h</td>\n",
       "      <td>111877.90</td>\n",
       "    </tr>\n",
       "    <tr>\n",
       "      <th>4</th>\n",
       "      <td>13-14h</td>\n",
       "      <td>106065.70</td>\n",
       "    </tr>\n",
       "    <tr>\n",
       "      <th>5</th>\n",
       "      <td>14-15h</td>\n",
       "      <td>59201.40</td>\n",
       "    </tr>\n",
       "    <tr>\n",
       "      <th>6</th>\n",
       "      <td>15-16h</td>\n",
       "      <td>52992.30</td>\n",
       "    </tr>\n",
       "    <tr>\n",
       "      <th>7</th>\n",
       "      <td>16-17h</td>\n",
       "      <td>70055.40</td>\n",
       "    </tr>\n",
       "    <tr>\n",
       "      <th>8</th>\n",
       "      <td>17-18h</td>\n",
       "      <td>86237.45</td>\n",
       "    </tr>\n",
       "    <tr>\n",
       "      <th>9</th>\n",
       "      <td>18-19h</td>\n",
       "      <td>89296.85</td>\n",
       "    </tr>\n",
       "    <tr>\n",
       "      <th>10</th>\n",
       "      <td>19-20h</td>\n",
       "      <td>72628.90</td>\n",
       "    </tr>\n",
       "    <tr>\n",
       "      <th>11</th>\n",
       "      <td>20-21h</td>\n",
       "      <td>58215.40</td>\n",
       "    </tr>\n",
       "    <tr>\n",
       "      <th>12</th>\n",
       "      <td>21-22h</td>\n",
       "      <td>42029.80</td>\n",
       "    </tr>\n",
       "    <tr>\n",
       "      <th>13</th>\n",
       "      <td>22-23h</td>\n",
       "      <td>22815.15</td>\n",
       "    </tr>\n",
       "    <tr>\n",
       "      <th>14</th>\n",
       "      <td>23-00h</td>\n",
       "      <td>1121.35</td>\n",
       "    </tr>\n",
       "  </tbody>\n",
       "</table>\n",
       "</div>"
      ],
      "text/plain": [
       "   order_time_range  total_price\n",
       "0            09-10h        83.00\n",
       "1            10-11h       303.65\n",
       "2            11-12h     44935.80\n",
       "3            12-13h    111877.90\n",
       "4            13-14h    106065.70\n",
       "5            14-15h     59201.40\n",
       "6            15-16h     52992.30\n",
       "7            16-17h     70055.40\n",
       "8            17-18h     86237.45\n",
       "9            18-19h     89296.85\n",
       "10           19-20h     72628.90\n",
       "11           20-21h     58215.40\n",
       "12           21-22h     42029.80\n",
       "13           22-23h     22815.15\n",
       "14           23-00h      1121.35"
      ]
     },
     "execution_count": 207,
     "metadata": {},
     "output_type": "execute_result"
    }
   ],
   "source": [
    "if df['order_time'].dtype != 'datetime64[ns]':\n",
    "    df['order_time'] = pd.to_datetime(df['order_time'].astype(str), format='%H:%M:%S')\n",
    "\n",
    "temp_df = df.groupby([pd.Grouper(key='order_time', freq='H')])['total_price'].sum().reset_index()\n",
    "\n",
    "temp_df['start_time'] = temp_df['order_time'].dt.strftime('%H')\n",
    "\n",
    "temp_df['order_time_range'] = temp_df['start_time'] + '-' + (temp_df['order_time'] + pd.Timedelta(hours=1)).dt.strftime('%H') + 'h'\n",
    "temp_df[['order_time_range', 'total_price']]\n"
   ]
  },
  {
   "cell_type": "code",
   "execution_count": null,
   "metadata": {},
   "outputs": [
    {
     "data": {
      "image/png": "[encoded data removed]",
      "text/plain": [
       "<Figure size 640x480 with 1 Axes>"
      ]
     },
     "metadata": {},
     "output_type": "display_data"
    }
   ],
   "source": [
    "\n",
    "plt.bar(temp_df['order_time_range'], temp_df['total_price'])\n",
    "plt.ylabel('Sales')\n",
    "plt.title('Yearly sales per hour')\n",
    "plt.xticks(rotation=45)\n",
    "plt.show()\n"
   ]
  },
  {
   "cell_type": "markdown",
   "metadata": {},
   "source": [
    "## 10.Pizzas populaires :"
   ]
  },
  {
   "cell_type": "markdown",
   "metadata": {},
   "source": [
    "a. Quelles sont les 5 pizzas les plus commandées en quantité ?"
   ]
  },
  {
   "cell_type": "code",
   "execution_count": null,
   "metadata": {},
   "outputs": [
    {
     "data": {
      "text/html": [
       "<div>\n",
       "<style scoped>\n",
       "    .dataframe tbody tr th:only-of-type {\n",
       "        vertical-align: middle;\n",
       "    }\n",
       "\n",
       "    .dataframe tbody tr th {\n",
       "        vertical-align: top;\n",
       "    }\n",
       "\n",
       "    .dataframe thead th {\n",
       "        text-align: right;\n",
       "    }\n",
       "</style>\n",
       "<table border=\"1\" class=\"dataframe\">\n",
       "  <thead>\n",
       "    <tr style=\"text-align: right;\">\n",
       "      <th></th>\n",
       "      <th>pizza_id</th>\n",
       "      <th>quantity</th>\n",
       "    </tr>\n",
       "  </thead>\n",
       "  <tbody>\n",
       "    <tr>\n",
       "      <th>0</th>\n",
       "      <td>big_meat_s</td>\n",
       "      <td>1914</td>\n",
       "    </tr>\n",
       "    <tr>\n",
       "      <th>1</th>\n",
       "      <td>thai_ckn_l</td>\n",
       "      <td>1410</td>\n",
       "    </tr>\n",
       "    <tr>\n",
       "      <th>2</th>\n",
       "      <td>five_cheese_l</td>\n",
       "      <td>1409</td>\n",
       "    </tr>\n",
       "    <tr>\n",
       "      <th>3</th>\n",
       "      <td>four_cheese_l</td>\n",
       "      <td>1316</td>\n",
       "    </tr>\n",
       "    <tr>\n",
       "      <th>4</th>\n",
       "      <td>classic_dlx_m</td>\n",
       "      <td>1181</td>\n",
       "    </tr>\n",
       "    <tr>\n",
       "      <th>...</th>\n",
       "      <td>...</td>\n",
       "      <td>...</td>\n",
       "    </tr>\n",
       "    <tr>\n",
       "      <th>86</th>\n",
       "      <td>mexicana_s</td>\n",
       "      <td>162</td>\n",
       "    </tr>\n",
       "    <tr>\n",
       "      <th>87</th>\n",
       "      <td>calabrese_s</td>\n",
       "      <td>99</td>\n",
       "    </tr>\n",
       "    <tr>\n",
       "      <th>88</th>\n",
       "      <td>ckn_alfredo_s</td>\n",
       "      <td>96</td>\n",
       "    </tr>\n",
       "    <tr>\n",
       "      <th>89</th>\n",
       "      <td>green_garden_l</td>\n",
       "      <td>95</td>\n",
       "    </tr>\n",
       "    <tr>\n",
       "      <th>90</th>\n",
       "      <td>the_greek_xxl</td>\n",
       "      <td>28</td>\n",
       "    </tr>\n",
       "  </tbody>\n",
       "</table>\n",
       "<p>91 rows × 2 columns</p>\n",
       "</div>"
      ],
      "text/plain": [
       "          pizza_id  quantity\n",
       "0       big_meat_s      1914\n",
       "1       thai_ckn_l      1410\n",
       "2    five_cheese_l      1409\n",
       "3    four_cheese_l      1316\n",
       "4    classic_dlx_m      1181\n",
       "..             ...       ...\n",
       "86      mexicana_s       162\n",
       "87     calabrese_s        99\n",
       "88   ckn_alfredo_s        96\n",
       "89  green_garden_l        95\n",
       "90   the_greek_xxl        28\n",
       "\n",
       "[91 rows x 2 columns]"
      ]
     },
     "execution_count": 209,
     "metadata": {},
     "output_type": "execute_result"
    }
   ],
   "source": [
    "df.groupby('pizza_id')['quantity'].sum().reset_index().sort_values(by='quantity', ascending=False)\\\n",
    "    .reset_index().drop(columns='index')\n",
    "\n",
    "# with pizza_name instead\n",
    "# df.groupby('pizza_name')['quantity'].sum().reset_index().sort_values(by='quantity', ascending=False)\\\n",
    "#     .reset_index().drop(columns='index')\n"
   ]
  },
  {
   "cell_type": "markdown",
   "metadata": {},
   "source": [
    "b. Quelles sont les 5 pizzas les plus commandées en termes de chiffre\n",
    "d'affaires ?"
   ]
  },
  {
   "cell_type": "code",
   "execution_count": null,
   "metadata": {},
   "outputs": [
    {
     "data": {
      "text/html": [
       "<div>\n",
       "<style scoped>\n",
       "    .dataframe tbody tr th:only-of-type {\n",
       "        vertical-align: middle;\n",
       "    }\n",
       "\n",
       "    .dataframe tbody tr th {\n",
       "        vertical-align: top;\n",
       "    }\n",
       "\n",
       "    .dataframe thead th {\n",
       "        text-align: right;\n",
       "    }\n",
       "</style>\n",
       "<table border=\"1\" class=\"dataframe\">\n",
       "  <thead>\n",
       "    <tr style=\"text-align: right;\">\n",
       "      <th></th>\n",
       "      <th>pizza_id</th>\n",
       "      <th>total_price</th>\n",
       "    </tr>\n",
       "  </thead>\n",
       "  <tbody>\n",
       "    <tr>\n",
       "      <th>0</th>\n",
       "      <td>thai_ckn_l</td>\n",
       "      <td>29257.50</td>\n",
       "    </tr>\n",
       "    <tr>\n",
       "      <th>1</th>\n",
       "      <td>five_cheese_l</td>\n",
       "      <td>26066.50</td>\n",
       "    </tr>\n",
       "    <tr>\n",
       "      <th>2</th>\n",
       "      <td>four_cheese_l</td>\n",
       "      <td>23622.20</td>\n",
       "    </tr>\n",
       "    <tr>\n",
       "      <th>3</th>\n",
       "      <td>spicy_ital_l</td>\n",
       "      <td>23011.75</td>\n",
       "    </tr>\n",
       "    <tr>\n",
       "      <th>4</th>\n",
       "      <td>big_meat_s</td>\n",
       "      <td>22968.00</td>\n",
       "    </tr>\n",
       "    <tr>\n",
       "      <th>...</th>\n",
       "      <td>...</td>\n",
       "      <td>...</td>\n",
       "    </tr>\n",
       "    <tr>\n",
       "      <th>86</th>\n",
       "      <td>mexicana_s</td>\n",
       "      <td>1944.00</td>\n",
       "    </tr>\n",
       "    <tr>\n",
       "      <th>87</th>\n",
       "      <td>green_garden_l</td>\n",
       "      <td>1923.75</td>\n",
       "    </tr>\n",
       "    <tr>\n",
       "      <th>88</th>\n",
       "      <td>ckn_alfredo_s</td>\n",
       "      <td>1224.00</td>\n",
       "    </tr>\n",
       "    <tr>\n",
       "      <th>89</th>\n",
       "      <td>calabrese_s</td>\n",
       "      <td>1212.75</td>\n",
       "    </tr>\n",
       "    <tr>\n",
       "      <th>90</th>\n",
       "      <td>the_greek_xxl</td>\n",
       "      <td>1006.60</td>\n",
       "    </tr>\n",
       "  </tbody>\n",
       "</table>\n",
       "<p>91 rows × 2 columns</p>\n",
       "</div>"
      ],
      "text/plain": [
       "          pizza_id  total_price\n",
       "0       thai_ckn_l     29257.50\n",
       "1    five_cheese_l     26066.50\n",
       "2    four_cheese_l     23622.20\n",
       "3     spicy_ital_l     23011.75\n",
       "4       big_meat_s     22968.00\n",
       "..             ...          ...\n",
       "86      mexicana_s      1944.00\n",
       "87  green_garden_l      1923.75\n",
       "88   ckn_alfredo_s      1224.00\n",
       "89     calabrese_s      1212.75\n",
       "90   the_greek_xxl      1006.60\n",
       "\n",
       "[91 rows x 2 columns]"
      ]
     },
     "execution_count": 210,
     "metadata": {},
     "output_type": "execute_result"
    }
   ],
   "source": [
    "df.groupby('pizza_id')['total_price'].sum().reset_index().sort_values(by='total_price', ascending=False)\\\n",
    "    .reset_index().drop(columns='index')\n"
   ]
  },
  {
   "cell_type": "markdown",
   "metadata": {},
   "source": [
    "## 11.Chiffre d'affaires par taille et catégorie :"
   ]
  },
  {
   "cell_type": "markdown",
   "metadata": {},
   "source": [
    "a. Quelle est la répartition du chiffre d'affaires pour chaque taille de pizza ?"
   ]
  },
  {
   "cell_type": "code",
   "execution_count": null,
   "metadata": {},
   "outputs": [
    {
     "data": {
      "text/plain": [
       "pizza_size\n",
       "L      375318.70\n",
       "M      249382.25\n",
       "S      178076.50\n",
       "XL      14076.00\n",
       "XXL      1006.60\n",
       "Name: total_price, dtype: float64"
      ]
     },
     "execution_count": 211,
     "metadata": {},
     "output_type": "execute_result"
    }
   ],
   "source": [
    "# trie par jour nativement\n",
    "df.groupby('pizza_size')['total_price'].sum()"
   ]
  },
  {
   "cell_type": "markdown",
   "metadata": {},
   "source": [
    "b. Quelle est la répartition du chiffre d'affaires pour chaque catégorie de\n",
    "pizza ?"
   ]
  },
  {
   "cell_type": "code",
   "execution_count": null,
   "metadata": {},
   "outputs": [
    {
     "data": {
      "text/plain": [
       "pizza_category\n",
       "Chicken    195919.50\n",
       "Classic    220053.10\n",
       "Supreme    208197.00\n",
       "Veggie     193690.45\n",
       "Name: total_price, dtype: float64"
      ]
     },
     "execution_count": 212,
     "metadata": {},
     "output_type": "execute_result"
    }
   ],
   "source": [
    "# trie par jour nativement\n",
    "df.groupby('pizza_category')['total_price'].sum()"
   ]
  },
  {
   "cell_type": "markdown",
   "metadata": {},
   "source": [
    "## 12.Corrélation entre prix et quantité :"
   ]
  },
  {
   "cell_type": "markdown",
   "metadata": {},
   "source": [
    "a. Y a-t-il une corrélation entre le prix unitaire et la quantité commandée ?"
   ]
  },
  {
   "cell_type": "code",
   "execution_count": null,
   "metadata": {},
   "outputs": [
    {
     "data": {
      "text/plain": [
       "0.00714"
      ]
     },
     "execution_count": 32,
     "metadata": {},
     "output_type": "execute_result"
    }
   ],
   "source": [
    "# Le plus proche de 1, plus la corrélation est significante.\n",
    "# Dans ce cas précis, elle est assez insignifiante dans la mesure où la plupart des commandes ne contiennent\n",
    "df.quantity.corr(df.unit_price).round(5)"
   ]
  },
  {
   "cell_type": "markdown",
   "metadata": {},
   "source": [
    "b. Quel est le prix unitaire moyen pour différentes tailles de pizza ?"
   ]
  },
  {
   "cell_type": "code",
   "execution_count": null,
   "metadata": {},
   "outputs": [
    {
     "data": {
      "text/plain": [
       "pizza_size\n",
       "S      12.364328\n",
       "M      15.951219\n",
       "L      19.802553\n",
       "XL     25.500000\n",
       "XXL    35.950000\n",
       "Name: unit_price, dtype: float64"
      ]
     },
     "execution_count": 214,
     "metadata": {},
     "output_type": "execute_result"
    }
   ],
   "source": [
    "\n",
    "df['pizza_size'] = pd.Categorical(df['pizza_size'], categories=['S', 'M', 'L', 'XL', 'XXL'],\\\n",
    "    ordered=True)\n",
    "df.sort_values(by='pizza_size').groupby('pizza_size')['unit_price'].mean()\n",
    "\n",
    "# bonus faire les deux\n"
   ]
  },
  {
   "cell_type": "code",
   "execution_count": null,
   "metadata": {},
   "outputs": [
    {
     "data": {
      "text/plain": [
       "pizza_size\n",
       "S      12.596484\n",
       "M      16.209441\n",
       "L      20.259025\n",
       "XL     25.875000\n",
       "XXL    35.950000\n",
       "Name: total_price, dtype: float64"
      ]
     },
     "execution_count": 215,
     "metadata": {},
     "output_type": "execute_result"
    }
   ],
   "source": [
    "df.groupby('pizza_size')['total_price'].mean()"
   ]
  },
  {
   "cell_type": "code",
   "execution_count": null,
   "metadata": {},
   "outputs": [
    {
     "data": {
      "text/html": [
       "<div>\n",
       "<style scoped>\n",
       "    .dataframe tbody tr th:only-of-type {\n",
       "        vertical-align: middle;\n",
       "    }\n",
       "\n",
       "    .dataframe tbody tr th {\n",
       "        vertical-align: top;\n",
       "    }\n",
       "\n",
       "    .dataframe thead th {\n",
       "        text-align: right;\n",
       "    }\n",
       "</style>\n",
       "<table border=\"1\" class=\"dataframe\">\n",
       "  <thead>\n",
       "    <tr style=\"text-align: right;\">\n",
       "      <th></th>\n",
       "      <th>order_details_id</th>\n",
       "      <th>order_id</th>\n",
       "      <th>pizza_id</th>\n",
       "      <th>quantity</th>\n",
       "      <th>order_date</th>\n",
       "      <th>order_time</th>\n",
       "      <th>unit_price</th>\n",
       "      <th>total_price</th>\n",
       "      <th>pizza_size</th>\n",
       "      <th>pizza_category</th>\n",
       "      <th>pizza_ingredients</th>\n",
       "      <th>pizza_name</th>\n",
       "      <th>total_price_quartile</th>\n",
       "      <th>order_price</th>\n",
       "    </tr>\n",
       "  </thead>\n",
       "  <tbody>\n",
       "    <tr>\n",
       "      <th>0</th>\n",
       "      <td>1</td>\n",
       "      <td>1</td>\n",
       "      <td>hawaiian_m</td>\n",
       "      <td>1</td>\n",
       "      <td>2015-01-01</td>\n",
       "      <td>1900-01-01 11:38:36</td>\n",
       "      <td>13.25</td>\n",
       "      <td>13.25</td>\n",
       "      <td>M</td>\n",
       "      <td>Classic</td>\n",
       "      <td>[Sliced Ham, Pineapple, Mozzarella Cheese]</td>\n",
       "      <td>The Hawaiian Pizza</td>\n",
       "      <td>low_price_pizza</td>\n",
       "      <td>13.25</td>\n",
       "    </tr>\n",
       "    <tr>\n",
       "      <th>1</th>\n",
       "      <td>2</td>\n",
       "      <td>2</td>\n",
       "      <td>classic_dlx_m</td>\n",
       "      <td>1</td>\n",
       "      <td>2015-01-01</td>\n",
       "      <td>1900-01-01 11:57:40</td>\n",
       "      <td>16.00</td>\n",
       "      <td>16.00</td>\n",
       "      <td>M</td>\n",
       "      <td>Classic</td>\n",
       "      <td>[Pepperoni, Mushrooms, Red Onions, Red Peppers...</td>\n",
       "      <td>The Classic Deluxe Pizza</td>\n",
       "      <td>medium_price_pizza</td>\n",
       "      <td>92.00</td>\n",
       "    </tr>\n",
       "    <tr>\n",
       "      <th>2</th>\n",
       "      <td>3</td>\n",
       "      <td>2</td>\n",
       "      <td>five_cheese_l</td>\n",
       "      <td>1</td>\n",
       "      <td>2015-01-01</td>\n",
       "      <td>1900-01-01 11:57:40</td>\n",
       "      <td>18.50</td>\n",
       "      <td>18.50</td>\n",
       "      <td>L</td>\n",
       "      <td>Veggie</td>\n",
       "      <td>[Mozzarella Cheese, Provolone Cheese, Smoked G...</td>\n",
       "      <td>The Five Cheese Pizza</td>\n",
       "      <td>medium_price_pizza</td>\n",
       "      <td>92.00</td>\n",
       "    </tr>\n",
       "    <tr>\n",
       "      <th>3</th>\n",
       "      <td>4</td>\n",
       "      <td>2</td>\n",
       "      <td>ital_supr_l</td>\n",
       "      <td>1</td>\n",
       "      <td>2015-01-01</td>\n",
       "      <td>1900-01-01 11:57:40</td>\n",
       "      <td>20.75</td>\n",
       "      <td>20.75</td>\n",
       "      <td>L</td>\n",
       "      <td>Supreme</td>\n",
       "      <td>[Calabrese Salami, Capocollo, Tomatoes, Red On...</td>\n",
       "      <td>The Italian Supreme Pizza</td>\n",
       "      <td>high_price_pizza</td>\n",
       "      <td>92.00</td>\n",
       "    </tr>\n",
       "    <tr>\n",
       "      <th>4</th>\n",
       "      <td>5</td>\n",
       "      <td>2</td>\n",
       "      <td>mexicana_m</td>\n",
       "      <td>1</td>\n",
       "      <td>2015-01-01</td>\n",
       "      <td>1900-01-01 11:57:40</td>\n",
       "      <td>16.00</td>\n",
       "      <td>16.00</td>\n",
       "      <td>M</td>\n",
       "      <td>Veggie</td>\n",
       "      <td>[Tomatoes, Red Peppers, Jalapeno Peppers, Red ...</td>\n",
       "      <td>The Mexicana Pizza</td>\n",
       "      <td>medium_price_pizza</td>\n",
       "      <td>92.00</td>\n",
       "    </tr>\n",
       "    <tr>\n",
       "      <th>...</th>\n",
       "      <td>...</td>\n",
       "      <td>...</td>\n",
       "      <td>...</td>\n",
       "      <td>...</td>\n",
       "      <td>...</td>\n",
       "      <td>...</td>\n",
       "      <td>...</td>\n",
       "      <td>...</td>\n",
       "      <td>...</td>\n",
       "      <td>...</td>\n",
       "      <td>...</td>\n",
       "      <td>...</td>\n",
       "      <td>...</td>\n",
       "      <td>...</td>\n",
       "    </tr>\n",
       "    <tr>\n",
       "      <th>48615</th>\n",
       "      <td>48616</td>\n",
       "      <td>21348</td>\n",
       "      <td>ckn_alfredo_m</td>\n",
       "      <td>1</td>\n",
       "      <td>2015-12-31</td>\n",
       "      <td>1900-01-01 21:23:10</td>\n",
       "      <td>16.75</td>\n",
       "      <td>16.75</td>\n",
       "      <td>M</td>\n",
       "      <td>Chicken</td>\n",
       "      <td>[Chicken, Red Onions, Red Peppers, Mushrooms, ...</td>\n",
       "      <td>The Chicken Alfredo Pizza</td>\n",
       "      <td>medium_price_pizza</td>\n",
       "      <td>46.70</td>\n",
       "    </tr>\n",
       "    <tr>\n",
       "      <th>48616</th>\n",
       "      <td>48617</td>\n",
       "      <td>21348</td>\n",
       "      <td>four_cheese_l</td>\n",
       "      <td>1</td>\n",
       "      <td>2015-12-31</td>\n",
       "      <td>1900-01-01 21:23:10</td>\n",
       "      <td>17.95</td>\n",
       "      <td>17.95</td>\n",
       "      <td>L</td>\n",
       "      <td>Veggie</td>\n",
       "      <td>[Ricotta Cheese, Gorgonzola Piccante Cheese, M...</td>\n",
       "      <td>The Four Cheese Pizza</td>\n",
       "      <td>medium_price_pizza</td>\n",
       "      <td>46.70</td>\n",
       "    </tr>\n",
       "    <tr>\n",
       "      <th>48617</th>\n",
       "      <td>48618</td>\n",
       "      <td>21348</td>\n",
       "      <td>napolitana_s</td>\n",
       "      <td>1</td>\n",
       "      <td>2015-12-31</td>\n",
       "      <td>1900-01-01 21:23:10</td>\n",
       "      <td>12.00</td>\n",
       "      <td>12.00</td>\n",
       "      <td>S</td>\n",
       "      <td>Classic</td>\n",
       "      <td>[Tomatoes, Anchovies, Green Olives, Red Onions...</td>\n",
       "      <td>The Napolitana Pizza</td>\n",
       "      <td>low_price_pizza</td>\n",
       "      <td>46.70</td>\n",
       "    </tr>\n",
       "    <tr>\n",
       "      <th>48618</th>\n",
       "      <td>48619</td>\n",
       "      <td>21349</td>\n",
       "      <td>mexicana_l</td>\n",
       "      <td>1</td>\n",
       "      <td>2015-12-31</td>\n",
       "      <td>1900-01-01 22:09:54</td>\n",
       "      <td>20.25</td>\n",
       "      <td>20.25</td>\n",
       "      <td>L</td>\n",
       "      <td>Veggie</td>\n",
       "      <td>[Tomatoes, Red Peppers, Jalapeno Peppers, Red ...</td>\n",
       "      <td>The Mexicana Pizza</td>\n",
       "      <td>high_price_pizza</td>\n",
       "      <td>20.25</td>\n",
       "    </tr>\n",
       "    <tr>\n",
       "      <th>48619</th>\n",
       "      <td>48620</td>\n",
       "      <td>21350</td>\n",
       "      <td>bbq_ckn_s</td>\n",
       "      <td>1</td>\n",
       "      <td>2015-12-31</td>\n",
       "      <td>1900-01-01 23:02:05</td>\n",
       "      <td>12.75</td>\n",
       "      <td>12.75</td>\n",
       "      <td>S</td>\n",
       "      <td>Chicken</td>\n",
       "      <td>[Barbecued Chicken, Red Peppers, Green Peppers...</td>\n",
       "      <td>The Barbecue Chicken Pizza</td>\n",
       "      <td>low_price_pizza</td>\n",
       "      <td>12.75</td>\n",
       "    </tr>\n",
       "  </tbody>\n",
       "</table>\n",
       "<p>48620 rows × 14 columns</p>\n",
       "</div>"
      ],
      "text/plain": [
       "       order_details_id  order_id       pizza_id  quantity order_date  \\\n",
       "0                     1         1     hawaiian_m         1 2015-01-01   \n",
       "1                     2         2  classic_dlx_m         1 2015-01-01   \n",
       "2                     3         2  five_cheese_l         1 2015-01-01   \n",
       "3                     4         2    ital_supr_l         1 2015-01-01   \n",
       "4                     5         2     mexicana_m         1 2015-01-01   \n",
       "...                 ...       ...            ...       ...        ...   \n",
       "48615             48616     21348  ckn_alfredo_m         1 2015-12-31   \n",
       "48616             48617     21348  four_cheese_l         1 2015-12-31   \n",
       "48617             48618     21348   napolitana_s         1 2015-12-31   \n",
       "48618             48619     21349     mexicana_l         1 2015-12-31   \n",
       "48619             48620     21350      bbq_ckn_s         1 2015-12-31   \n",
       "\n",
       "               order_time  unit_price  total_price pizza_size pizza_category  \\\n",
       "0     1900-01-01 11:38:36       13.25        13.25          M        Classic   \n",
       "1     1900-01-01 11:57:40       16.00        16.00          M        Classic   \n",
       "2     1900-01-01 11:57:40       18.50        18.50          L         Veggie   \n",
       "3     1900-01-01 11:57:40       20.75        20.75          L        Supreme   \n",
       "4     1900-01-01 11:57:40       16.00        16.00          M         Veggie   \n",
       "...                   ...         ...          ...        ...            ...   \n",
       "48615 1900-01-01 21:23:10       16.75        16.75          M        Chicken   \n",
       "48616 1900-01-01 21:23:10       17.95        17.95          L         Veggie   \n",
       "48617 1900-01-01 21:23:10       12.00        12.00          S        Classic   \n",
       "48618 1900-01-01 22:09:54       20.25        20.25          L         Veggie   \n",
       "48619 1900-01-01 23:02:05       12.75        12.75          S        Chicken   \n",
       "\n",
       "                                       pizza_ingredients  \\\n",
       "0             [Sliced Ham, Pineapple, Mozzarella Cheese]   \n",
       "1      [Pepperoni, Mushrooms, Red Onions, Red Peppers...   \n",
       "2      [Mozzarella Cheese, Provolone Cheese, Smoked G...   \n",
       "3      [Calabrese Salami, Capocollo, Tomatoes, Red On...   \n",
       "4      [Tomatoes, Red Peppers, Jalapeno Peppers, Red ...   \n",
       "...                                                  ...   \n",
       "48615  [Chicken, Red Onions, Red Peppers, Mushrooms, ...   \n",
       "48616  [Ricotta Cheese, Gorgonzola Piccante Cheese, M...   \n",
       "48617  [Tomatoes, Anchovies, Green Olives, Red Onions...   \n",
       "48618  [Tomatoes, Red Peppers, Jalapeno Peppers, Red ...   \n",
       "48619  [Barbecued Chicken, Red Peppers, Green Peppers...   \n",
       "\n",
       "                       pizza_name total_price_quartile  order_price  \n",
       "0              The Hawaiian Pizza      low_price_pizza        13.25  \n",
       "1        The Classic Deluxe Pizza   medium_price_pizza        92.00  \n",
       "2           The Five Cheese Pizza   medium_price_pizza        92.00  \n",
       "3       The Italian Supreme Pizza     high_price_pizza        92.00  \n",
       "4              The Mexicana Pizza   medium_price_pizza        92.00  \n",
       "...                           ...                  ...          ...  \n",
       "48615   The Chicken Alfredo Pizza   medium_price_pizza        46.70  \n",
       "48616       The Four Cheese Pizza   medium_price_pizza        46.70  \n",
       "48617        The Napolitana Pizza      low_price_pizza        46.70  \n",
       "48618          The Mexicana Pizza     high_price_pizza        20.25  \n",
       "48619  The Barbecue Chicken Pizza      low_price_pizza        12.75  \n",
       "\n",
       "[48620 rows x 14 columns]"
      ]
     },
     "execution_count": 216,
     "metadata": {},
     "output_type": "execute_result"
    }
   ],
   "source": [
    "df"
   ]
  },
  {
   "cell_type": "markdown",
   "metadata": {},
   "source": [
    "## 13.Tendances saisonnières :"
   ]
  },
  {
   "cell_type": "markdown",
   "metadata": {},
   "source": [
    "a. Y a-t-il des tendances saisonnières dans les commandes de pizza ?"
   ]
  },
  {
   "cell_type": "code",
   "execution_count": null,
   "metadata": {},
   "outputs": [],
   "source": [
    "# df"
   ]
  },
  {
   "cell_type": "code",
   "execution_count": null,
   "metadata": {},
   "outputs": [
    {
     "data": {
      "text/plain": [
       "0       1900-01-01 11:38:36\n",
       "1       1900-01-01 11:57:40\n",
       "2       1900-01-01 11:57:40\n",
       "3       1900-01-01 11:57:40\n",
       "4       1900-01-01 11:57:40\n",
       "                ...        \n",
       "48615   1900-01-01 21:23:10\n",
       "48616   1900-01-01 21:23:10\n",
       "48617   1900-01-01 21:23:10\n",
       "48618   1900-01-01 22:09:54\n",
       "48619   1900-01-01 23:02:05\n",
       "Name: order_time, Length: 48620, dtype: datetime64[ns]"
      ]
     },
     "execution_count": 218,
     "metadata": {},
     "output_type": "execute_result"
    }
   ],
   "source": [
    "df['order_time']"
   ]
  },
  {
   "cell_type": "code",
   "execution_count": null,
   "metadata": {},
   "outputs": [
    {
     "data": {
      "text/html": [
       "<div>\n",
       "<style scoped>\n",
       "    .dataframe tbody tr th:only-of-type {\n",
       "        vertical-align: middle;\n",
       "    }\n",
       "\n",
       "    .dataframe tbody tr th {\n",
       "        vertical-align: top;\n",
       "    }\n",
       "\n",
       "    .dataframe thead th {\n",
       "        text-align: right;\n",
       "    }\n",
       "</style>\n",
       "<table border=\"1\" class=\"dataframe\">\n",
       "  <thead>\n",
       "    <tr style=\"text-align: right;\">\n",
       "      <th></th>\n",
       "      <th>season</th>\n",
       "      <th>quantity</th>\n",
       "    </tr>\n",
       "  </thead>\n",
       "  <tbody>\n",
       "    <tr>\n",
       "      <th>0</th>\n",
       "      <td>Fall</td>\n",
       "      <td>12039</td>\n",
       "    </tr>\n",
       "    <tr>\n",
       "      <th>1</th>\n",
       "      <td>Spring</td>\n",
       "      <td>12740</td>\n",
       "    </tr>\n",
       "    <tr>\n",
       "      <th>2</th>\n",
       "      <td>Summer</td>\n",
       "      <td>12667</td>\n",
       "    </tr>\n",
       "    <tr>\n",
       "      <th>3</th>\n",
       "      <td>Winter</td>\n",
       "      <td>12128</td>\n",
       "    </tr>\n",
       "  </tbody>\n",
       "</table>\n",
       "</div>"
      ],
      "text/plain": [
       "   season  quantity\n",
       "0    Fall     12039\n",
       "1  Spring     12740\n",
       "2  Summer     12667\n",
       "3  Winter     12128"
      ]
     },
     "execution_count": 34,
     "metadata": {},
     "output_type": "execute_result"
    }
   ],
   "source": [
    "import pandas as pd\n",
    "import matplotlib.pyplot as plt\n",
    "\n",
    "# Assuming your DataFrame is named df\n",
    "# Convert 'order_time' to datetime if not already\n",
    "df['order_date'] = pd.to_datetime(df['order_date'])\n",
    "\n",
    "# Extract the month from the 'order_time' column\n",
    "df['month'] = df['order_date'].dt.month\n",
    "\n",
    "# Create a dictionary to map months to seasons\n",
    "seasons_mapping = {\n",
    "    1: 'Winter', 2: 'Winter', 3: 'Spring',\n",
    "    4: 'Spring', 5: 'Spring', 6: 'Summer',\n",
    "    7: 'Summer', 8: 'Summer', 9: 'Fall',\n",
    "    10: 'Fall', 11: 'Fall', 12: 'Winter'\n",
    "}\n",
    "\n",
    "# Map months to seasons\n",
    "df['season'] = df['month'].map(seasons_mapping)\n",
    "\n",
    "# Group by season and calculate the sum of pizza orders\n",
    "seasonal_orders = df.groupby('season')['quantity'].sum().reset_index()\n",
    "\n",
    "# Plot the results\n",
    "plt.bar(seasonal_orders['season'], seasonal_orders['quantity'])\n",
    "plt.xlabel('Season')\n",
    "plt.ylabel('Total Pizza Orders')\n",
    "plt.title('Seasonal Trends in Pizza Orders')\n",
    "plt.show()\n",
    "\n",
    "# Display the statistics\n",
    "print(seasonal_orders)\n"
   ]
  },
  {
   "cell_type": "markdown",
   "metadata": {},
   "source": [
    "b. Y a-t-il une corrélation entre le jour de la semaine et la quantité de\n",
    "commandes ?"
   ]
  },
  {
   "cell_type": "code",
   "execution_count": null,
   "metadata": {},
   "outputs": [
    {
     "data": {
      "text/plain": [
       "-0.002802198534612991"
      ]
     },
     "execution_count": 36,
     "metadata": {},
     "output_type": "execute_result"
    }
   ],
   "source": [
    "df['day'] = df['order_date'].dt.dayofweek\n",
    "\n",
    "# Correlation insignifiante entre les deux variables\n",
    "df['day'].corr(df['quantity'])"
   ]
  },
  {
   "cell_type": "code",
   "execution_count": null,
   "metadata": {},
   "outputs": [
    {
     "data": {
      "image/png": "[encoded data removed]",
      "text/plain": [
       "<Figure size 1000x600 with 1 Axes>"
      ]
     },
     "metadata": {},
     "output_type": "display_data"
    }
   ],
   "source": [
    "temp_df = df.groupby('day')['quantity'].sum().reset_index()\n",
    "plt.figure(figsize=(10,6))\n",
    "plt.bar(temp_df['day'], temp_df['quantity'])\n",
    "plt.ylabel('Pizza sold')\n",
    "plt.title('Yearly amount of pizza sold each day of the week')\n",
    "plt.xticks(range(7), ['Monday', 'Tuesday', 'Wednesday', 'Thursday', 'Friday', 'Saturday', 'Sunday'])\n",
    "plt.show()\n"
   ]
  },
  {
   "cell_type": "code",
   "execution_count": null,
   "metadata": {},
   "outputs": [],
   "source": [
    "# 5. Analyse des prix :\n",
    "# a. Quel est le prix unitaire moyen des pizzas ?\n",
    "# b. Quel est le prix total moyen d'une commande ?\n",
    "# c. Quelle pizza a le prix unitaire le plus élevé ?\n",
    "# 6. Répartition par taille et catégorie :\n",
    "# a. Combien de pizzas de chaque taille ont été vendues ?\n",
    "# b. Combien de pizzas y a-t-il dans chaque catégorie ?\n",
    "# 7. Analyse des ingrédients :\n",
    "# a. Quels sont les ingrédients les plus couramment utilisés dans toutes les\n",
    "# pizzas ?\n",
    "# b. Combien de pizzas contiennent un ingrédient spécifique (par exemple,\n",
    "# pepperoni, champignons) ?\n",
    "# 8. Détails de la commande :\n",
    "# a. Quelle est la répartition du nombre de pizzas par commande ?\n",
    "# b. Quelle est la répartition des prix totaux pour les commandes ?\n",
    "# 9. Analyse du chiffre d’affaires en fonction du temps :\n",
    "# a. Quel est le chiffre d'affaires quotidien ?\n",
    "# b. Y a-t-il une corrélation entre l'heure de la journée et le total de la\n",
    "# commande ?\n",
    "# 10.Pizzas populaires :\n",
    "# a. Quelles sont les 5 pizzas les plus commandées en quantité ?\n",
    "\n",
    "# b. Quelles sont les 5 pizzas les plus commandées en termes de chiffre\n",
    "# d'affaires ?\n",
    "\n",
    "# 11.Chiffre d'affaires par taille et catégorie :\n",
    "# a. Quelle est la répartition du chiffre d'affaires pour chaque taille de pizza ?\n",
    "# b. Quelle est la répartition du chiffre d'affaires pour chaque catégorie de\n",
    "# pizza ?\n",
    "\n",
    "# 12.Corrélation entre prix et quantité :\n",
    "# a. Y a-t-il une corrélation entre le prix unitaire et la quantité commandée ?\n",
    "# b. Quel est le prix unitaire moyen pour différentes tailles de pizza ?\n",
    "# 13.Tendances saisonnières :\n",
    "# a. Y a-t-il des tendances saisonnières dans les commandes de pizza ?\n",
    "# b. Y a-t-il une corrélation entre le jour de la semaine et la quantité de\n",
    "# commandes ?"
   ]
  },
  {
   "cell_type": "code",
   "execution_count": null,
   "metadata": {},
   "outputs": [],
   "source": [
    "# 1. Installez et importez Pandas.\n",
    "# 2. Informations de base :\n",
    "\n",
    "\n",
    "# a. Combien de pizzas uniques (pizza_id distincts) y a-t-il dans le jeu de\n",
    "# données ?\n",
    "# b. Combien de commandes uniques (order_id distincts) figurent dans le jeu\n",
    "# de données ?\n",
    "\n",
    "# 3. Analyse temporelle :\n",
    "# a. Quelle est la plage de dates dans le jeu de données ?\n",
    "# b. Combien de commandes ont été passées chaque jour ?\n",
    "# c. Quelle est la durée moyenne pour traiter une commande ?\n",
    "\n",
    "\n",
    "# 4. Analyse de la quantité :\n",
    "# a. Quelle est la quantité moyenne de pizzas commandées ?\n",
    "# b. Quelle est la taille de pizza la plus fréquemment commandée ?\n",
    "# c. Quelle est la catégorie de pizza la plus fréquemment commandée ?"
   ]
  },
  {
   "cell_type": "markdown",
   "metadata": {},
   "source": [
    "# The End"
   ]
  },
  {
   "cell_type": "code",
   "execution_count": null,
   "metadata": {},
   "outputs": [],
   "source": [
    "!pip freeze > requirements.txt"
   ]
  },
  {
   "cell_type": "code",
   "execution_count": null,
   "metadata": {},
   "outputs": [],
   "source": []
  },
  {
   "cell_type": "code",
   "execution_count": null,
   "metadata": {},
   "outputs": [],
   "source": [
    "# ➔ Quels sont les jours et les heures où nous sommes le plus occupés ?\n",
    "# df.order_date.apply(lambda x : x.day)\n",
    "\n",
    "# ➔ Combien de pizzas fabriquons-nous pendant les périodes de pointe ?\n",
    "# df.order_time.apply(lambda x : np.mean(x))\n",
    "# ➔ Quelles sont les pizzas les plus vendues et les moins vendues ?\n",
    "\n",
    "# ➔ Quelle est la valeur moyenne de nos commandes ?\n"
   ]
  },
  {
   "cell_type": "code",
   "execution_count": null,
   "metadata": {},
   "outputs": [],
   "source": []
  },
  {
   "cell_type": "code",
   "execution_count": null,
   "metadata": {},
   "outputs": [],
   "source": []
  },
  {
   "cell_type": "code",
   "execution_count": null,
   "metadata": {},
   "outputs": [],
   "source": []
  },
  {
   "cell_type": "code",
   "execution_count": null,
   "metadata": {},
   "outputs": [],
   "source": []
  },
  {
   "cell_type": "code",
   "execution_count": null,
   "metadata": {},
   "outputs": [],
   "source": []
  },
  {
   "cell_type": "code",
   "execution_count": null,
   "metadata": {},
   "outputs": [],
   "source": []
  },
  {
   "cell_type": "code",
   "execution_count": null,
   "metadata": {},
   "outputs": [],
   "source": []
  }
 ],
 "metadata": {
  "kernelspec": {
   "display_name": "data_exploration",
   "language": "python",
   "name": "python3"
  },
  "language_info": {
   "codemirror_mode": {
    "name": "ipython",
    "version": 3
   },
   "file_extension": ".py",
   "mimetype": "text/x-python",
   "name": "python",
   "nbconvert_exporter": "python",
   "pygments_lexer": "ipython3",
   "version": "3.8.12"
  }
 },
 "nbformat": 4,
 "nbformat_minor": 2
}
